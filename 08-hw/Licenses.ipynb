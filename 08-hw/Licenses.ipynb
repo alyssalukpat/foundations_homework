{
 "cells": [
  {
   "cell_type": "markdown",
   "metadata": {},
   "source": [
    "# Texas Licenses\n",
    "\n",
    "I originally got this dataset from the [License Files page](https://www.license.state.tx.us/licensesearch/licfile.asp) from the Texas Department of Licensing and Regulation, but they've changed around since then! I'm pretty sure it's [this dataset](https://www.opendatanetwork.com/dataset/data.texas.gov/7358-krk7), but we'll just use a local version instead of the most current."
   ]
  },
  {
   "cell_type": "markdown",
   "metadata": {},
   "source": [
    "# PART ONE: OPENING UP OUR DATASET"
   ]
  },
  {
   "cell_type": "markdown",
   "metadata": {},
   "source": [
    "## 0. Do your setup\n",
    "\n",
    "Import what you need to import, etc."
   ]
  },
  {
   "cell_type": "code",
   "execution_count": 2,
   "metadata": {},
   "outputs": [],
   "source": [
    "import pandas as pd"
   ]
  },
  {
   "cell_type": "markdown",
   "metadata": {},
   "source": [
    "## 1. Open the file\n",
    "\n",
    "We'll start with `licfile.csv`, which is a list of licenses."
   ]
  },
  {
   "cell_type": "code",
   "execution_count": 3,
   "metadata": {},
   "outputs": [
    {
     "name": "stderr",
     "output_type": "stream",
     "text": [
      "/Users/ALukpat/.pyenv/versions/3.7.1/lib/python3.7/site-packages/IPython/core/interactiveshell.py:3146: DtypeWarning: Columns (1,15,16) have mixed types.Specify dtype option on import or set low_memory=False.\n",
      "  interactivity=interactivity, compiler=compiler, result=result)\n"
     ]
    },
    {
     "data": {
      "text/html": [
       "<div>\n",
       "<style scoped>\n",
       "    .dataframe tbody tr th:only-of-type {\n",
       "        vertical-align: middle;\n",
       "    }\n",
       "\n",
       "    .dataframe tbody tr th {\n",
       "        vertical-align: top;\n",
       "    }\n",
       "\n",
       "    .dataframe thead th {\n",
       "        text-align: right;\n",
       "    }\n",
       "</style>\n",
       "<table border=\"1\" class=\"dataframe\">\n",
       "  <thead>\n",
       "    <tr style=\"text-align: right;\">\n",
       "      <th></th>\n",
       "      <th>Associate Auctioneer</th>\n",
       "      <th>7326</th>\n",
       "      <th>ANGELINA</th>\n",
       "      <th>RISINGER, JIM MARVIN</th>\n",
       "      <th>Unnamed: 4</th>\n",
       "      <th>Unnamed: 5</th>\n",
       "      <th>Unnamed: 6</th>\n",
       "      <th>Unnamed: 7</th>\n",
       "      <th>08102017</th>\n",
       "      <th>RISINGER, JIM MARVIN.1</th>\n",
       "      <th>7668 S US HWY 59</th>\n",
       "      <th>Unnamed: 11</th>\n",
       "      <th>NACOGDOCHES TX 75964</th>\n",
       "      <th>0347</th>\n",
       "      <th>NACOGDOCHES</th>\n",
       "      <th>75964</th>\n",
       "      <th>9363665745</th>\n",
       "      <th>Unnamed: 17</th>\n",
       "      <th>N</th>\n",
       "    </tr>\n",
       "  </thead>\n",
       "  <tbody>\n",
       "    <tr>\n",
       "      <th>0</th>\n",
       "      <td>Associate Auctioneer</td>\n",
       "      <td>7962</td>\n",
       "      <td>UPSHUR</td>\n",
       "      <td>WILLIAMS, JON ANDRE</td>\n",
       "      <td>NaN</td>\n",
       "      <td>NaN</td>\n",
       "      <td>NaN</td>\n",
       "      <td>NaN</td>\n",
       "      <td>12292017</td>\n",
       "      <td>WILLIAMS, JON ANDRE</td>\n",
       "      <td>228 FM 1252</td>\n",
       "      <td>NaN</td>\n",
       "      <td>KILGORE TX 75662</td>\n",
       "      <td>183.0</td>\n",
       "      <td>GREGG</td>\n",
       "      <td>75662</td>\n",
       "      <td>9039187899</td>\n",
       "      <td>NaN</td>\n",
       "      <td>N</td>\n",
       "    </tr>\n",
       "    <tr>\n",
       "      <th>1</th>\n",
       "      <td>Associate Auctioneer</td>\n",
       "      <td>8406</td>\n",
       "      <td>WILSON</td>\n",
       "      <td>GUEVARA, JUAN ANTONIO</td>\n",
       "      <td>NaN</td>\n",
       "      <td>NaN</td>\n",
       "      <td>NaN</td>\n",
       "      <td>NaN</td>\n",
       "      <td>9262017</td>\n",
       "      <td>GUEVARA, JUAN ANTONIO</td>\n",
       "      <td>6909 HWY 181</td>\n",
       "      <td>NaN</td>\n",
       "      <td>POTH TX 78147</td>\n",
       "      <td>493.0</td>\n",
       "      <td>WILSON</td>\n",
       "      <td>78147</td>\n",
       "      <td>NaN</td>\n",
       "      <td>NaN</td>\n",
       "      <td>N</td>\n",
       "    </tr>\n",
       "    <tr>\n",
       "      <th>2</th>\n",
       "      <td>Associate Auctioneer</td>\n",
       "      <td>10543</td>\n",
       "      <td>HARRIS</td>\n",
       "      <td>BOWERS, JAMES BRISCOE II</td>\n",
       "      <td>NaN</td>\n",
       "      <td>NaN</td>\n",
       "      <td>NaN</td>\n",
       "      <td>NaN</td>\n",
       "      <td>11042017</td>\n",
       "      <td>BOWERS, JAMES BRISCOE II</td>\n",
       "      <td>6767 NORTH FWY</td>\n",
       "      <td>NaN</td>\n",
       "      <td>HOUSTON TX 77076-2027</td>\n",
       "      <td>201.0</td>\n",
       "      <td>HARRIS</td>\n",
       "      <td>77076</td>\n",
       "      <td>7136445566</td>\n",
       "      <td>NaN</td>\n",
       "      <td>N</td>\n",
       "    </tr>\n",
       "    <tr>\n",
       "      <th>3</th>\n",
       "      <td>Associate Auctioneer</td>\n",
       "      <td>10642</td>\n",
       "      <td>BELL</td>\n",
       "      <td>DEMSKY, JOHN EDWARD</td>\n",
       "      <td>NaN</td>\n",
       "      <td>NaN</td>\n",
       "      <td>NaN</td>\n",
       "      <td>NaN</td>\n",
       "      <td>2252018</td>\n",
       "      <td>DEMSKY, JOHN EDWARD</td>\n",
       "      <td>130 E CLARK ST</td>\n",
       "      <td>NaN</td>\n",
       "      <td>BARTLETT TX 76511</td>\n",
       "      <td>27.0</td>\n",
       "      <td>BELL</td>\n",
       "      <td>76511</td>\n",
       "      <td>2549852228</td>\n",
       "      <td>NaN</td>\n",
       "      <td>N</td>\n",
       "    </tr>\n",
       "    <tr>\n",
       "      <th>4</th>\n",
       "      <td>Associate Auctioneer</td>\n",
       "      <td>15650</td>\n",
       "      <td>OUT OF STATE</td>\n",
       "      <td>THOMPSON, RANDY D</td>\n",
       "      <td>NaN</td>\n",
       "      <td>NaN</td>\n",
       "      <td>NaN</td>\n",
       "      <td>NaN</td>\n",
       "      <td>5042017</td>\n",
       "      <td>THOMPSON, RANDY D</td>\n",
       "      <td>10995 BELLEVILLE RD</td>\n",
       "      <td>NaN</td>\n",
       "      <td>RINGLING OK 73456</td>\n",
       "      <td>999.0</td>\n",
       "      <td>OUT OF STATE</td>\n",
       "      <td>73456</td>\n",
       "      <td>5802765961</td>\n",
       "      <td>NaN</td>\n",
       "      <td>N</td>\n",
       "    </tr>\n",
       "  </tbody>\n",
       "</table>\n",
       "</div>"
      ],
      "text/plain": [
       "   Associate Auctioneer   7326      ANGELINA      RISINGER, JIM MARVIN  \\\n",
       "0  Associate Auctioneer   7962        UPSHUR       WILLIAMS, JON ANDRE   \n",
       "1  Associate Auctioneer   8406        WILSON     GUEVARA, JUAN ANTONIO   \n",
       "2  Associate Auctioneer  10543        HARRIS  BOWERS, JAMES BRISCOE II   \n",
       "3  Associate Auctioneer  10642          BELL       DEMSKY, JOHN EDWARD   \n",
       "4  Associate Auctioneer  15650  OUT OF STATE         THOMPSON, RANDY D   \n",
       "\n",
       "   Unnamed: 4  Unnamed: 5  Unnamed: 6  Unnamed: 7  08102017  \\\n",
       "0         NaN         NaN         NaN         NaN  12292017   \n",
       "1         NaN         NaN         NaN         NaN   9262017   \n",
       "2         NaN         NaN         NaN         NaN  11042017   \n",
       "3         NaN         NaN         NaN         NaN   2252018   \n",
       "4         NaN         NaN         NaN         NaN   5042017   \n",
       "\n",
       "     RISINGER, JIM MARVIN.1     7668 S US HWY 59 Unnamed: 11  \\\n",
       "0       WILLIAMS, JON ANDRE          228 FM 1252         NaN   \n",
       "1     GUEVARA, JUAN ANTONIO         6909 HWY 181         NaN   \n",
       "2  BOWERS, JAMES BRISCOE II       6767 NORTH FWY         NaN   \n",
       "3       DEMSKY, JOHN EDWARD       130 E CLARK ST         NaN   \n",
       "4         THOMPSON, RANDY D  10995 BELLEVILLE RD         NaN   \n",
       "\n",
       "    NACOGDOCHES TX 75964   0347   NACOGDOCHES  75964  9363665745 Unnamed: 17  \\\n",
       "0       KILGORE TX 75662  183.0         GREGG  75662  9039187899         NaN   \n",
       "1          POTH TX 78147  493.0        WILSON  78147         NaN         NaN   \n",
       "2  HOUSTON TX 77076-2027  201.0        HARRIS  77076  7136445566         NaN   \n",
       "3      BARTLETT TX 76511   27.0          BELL  76511  2549852228         NaN   \n",
       "4      RINGLING OK 73456  999.0  OUT OF STATE  73456  5802765961         NaN   \n",
       "\n",
       "   N  \n",
       "0  N  \n",
       "1  N  \n",
       "2  N  \n",
       "3  N  \n",
       "4  N  "
      ]
     },
     "execution_count": 3,
     "metadata": {},
     "output_type": "execute_result"
    }
   ],
   "source": [
    "df = pd.read_csv(\"licfile.csv\")\n",
    "df.head()"
   ]
  },
  {
   "cell_type": "markdown",
   "metadata": {},
   "source": [
    "## 2. That looks terrible, let's add column names.\n",
    "\n",
    "It apparently doesn't have headers! **Read the file in again, but setting your own column names**. Their [current data dictionary might not perfectly match](https://www.opendatanetwork.com/dataset/data.texas.gov/7358-krk7), but you can use it to understand what the columns are. For the dataset we're using, the order goes like this:\n",
    "\n",
    "* LICTYPE\n",
    "* LICNUMBER\n",
    "* BIZCOUNTY\n",
    "* BIZNAME\n",
    "* BIZLINE1\n",
    "* BIZLINE2\n",
    "* BIZCITYSTATE\n",
    "* BIZTELEPHONE\n",
    "* EXPIRATION\n",
    "* OWNER\n",
    "* MAILLINE1\n",
    "* MAILLINE2\n",
    "* MAILCITYSTATE\n",
    "* MAILCOUNTYCODE\n",
    "* MAILCOUNTY\n",
    "* MAILZIP\n",
    "* TELEPHONE\n",
    "* LICSUBTYPE\n",
    "* CEFLAG\n",
    "\n",
    "**Note:** You can rename the columns to things that make sense - \"expiration\" is a little more manageable than \"LICENSE EXPIRATION DATE (MMDDCCYY)\". I've named my License Type column LICTYPE, so if you haven't you'll have to change the rest of my sample code to match."
   ]
  },
  {
   "cell_type": "code",
   "execution_count": null,
   "metadata": {},
   "outputs": [],
   "source": [
    "df = df.rename(columns={\n",
    "    \"Associate Auctioneer\": \"LICTYPE\",\n",
    "    \"7326\": 'LICNUMBER',\n",
    "    \"ANGELINA\": \"BIZCOUNTY\",\n",
    "    \"RISINGER, JIM MARVIN\": \"BIZNAME\",\n",
    "    \"Unnamed: 4\": \"BIZLINE1\",\n",
    "    \"Unnamed: 5\": \"BIZLINE2\",\n",
    "    \"Unnamed: 6\": \"BIZCITYSTATE\",\n",
    "    \"Unnamed: 7\": \"BIZTELEPHONE\",\n",
    "    \"08102017\": \"EXPIRATION\",\n",
    "    \"RISINGER, JIM MARVIN.1\": \"OWNER\",\n",
    "    \"7668 S US HWY 59\": \"MAILLINE1\",\n",
    "    \"Unnamed: 11\": \"MAILLINE2\",\n",
    "    \"NACOGDOCHES TX 75964\": \"MAILCITYSTATE\",\n",
    "    \"0347\": \"MAILCOUNTYCODE\",\n",
    "    \"NACOGDOCHES\": \"MAILCOUNTY\",\n",
    "    \"75964\": \"MAILZIP\",\n",
    "    \"9363665745\": \"TELEPHONE\",\n",
    "    \"Unnamed: 17\": \"LICSUBTYPE\",\n",
    "    \"N\": \"CEFLAG\",\n",
    "})\n",
    "\n",
    "df.head()"
   ]
  },
  {
   "cell_type": "markdown",
   "metadata": {},
   "source": [
    "# 3. Force string columns to be strings\n",
    "\n",
    "The county code and expiration dates are being read in as numbers, which is going to cause some trouble later on. You can force a column to be a certain type (most usually strings) when reading it in with the following code:\n",
    "\n",
    "    df = pd.read_csv(\"your-filename.csv\", dtype={\"colname1\": str, \"colname2\": str})\n",
    "\n",
    "You don't need to do it for every column, just the ones you want to force!\n",
    "\n",
    "**Re-import the file, forcing the expiration date, license number, mailing address county code, mailing zip code and telephone to all be strings.**"
   ]
  },
  {
   "cell_type": "code",
   "execution_count": 4,
   "metadata": {},
   "outputs": [],
   "source": [
    "df = pd.read_csv(\"licfile.csv\", dtype={\"08102017\": str, \"7326\": str, \"0347\": str, \"75964\": str, \"9363665745\": str})\n",
    "\n",
    "df = df.rename(columns={\n",
    "    \"Associate Auctioneer\": \"LICTYPE\",\n",
    "    \"7326\": 'LICNUMBER',\n",
    "    \"ANGELINA\": \"BIZCOUNTY\",\n",
    "    \"RISINGER, JIM MARVIN\": \"BIZNAME\",\n",
    "    \"Unnamed: 4\": \"BIZLINE1\",\n",
    "    \"Unnamed: 5\": \"BIZLINE2\",\n",
    "    \"Unnamed: 6\": \"BIZCITYSTATE\",\n",
    "    \"Unnamed: 7\": \"BIZTELEPHONE\",\n",
    "    \"08102017\": \"EXPIRATION\",\n",
    "    \"RISINGER, JIM MARVIN.1\": \"OWNER\",\n",
    "    \"7668 S US HWY 59\": \"MAILLINE1\",\n",
    "    \"Unnamed: 11\": \"MAILLINE2\",\n",
    "    \"NACOGDOCHES TX 75964\": \"MAILCITYSTATE\",\n",
    "    \"0347\": \"MAILCOUNTYCODE\",\n",
    "    \"NACOGDOCHES\": \"MAILCOUNTY\",\n",
    "    \"75964\": \"MAILZIP\",\n",
    "    \"9363665745\": \"TELEPHONE\",\n",
    "    \"Unnamed: 17\": \"LICSUBTYPE\",\n",
    "    \"N\": \"CEFLAG\",\n",
    "})"
   ]
  },
  {
   "cell_type": "markdown",
   "metadata": {},
   "source": [
    "Check the data types of your columns to be sure! If you do it right they'll be `object` (not `str`, oddly)."
   ]
  },
  {
   "cell_type": "code",
   "execution_count": 72,
   "metadata": {},
   "outputs": [
    {
     "data": {
      "text/plain": [
       "LICTYPE            object\n",
       "LICNUMBER          object\n",
       "BIZCOUNTY          object\n",
       "BIZNAME            object\n",
       "BIZLINE1          float64\n",
       "BIZLINE2          float64\n",
       "BIZCITYSTATE      float64\n",
       "BIZTELEPHONE      float64\n",
       "EXPIRATION         object\n",
       "OWNER              object\n",
       "MAILLINE1          object\n",
       "MAILLINE2          object\n",
       "MAILCITYSTATE      object\n",
       "MAILCOUNTYCODE     object\n",
       "MAILCOUNTY         object\n",
       "MAILZIP            object\n",
       "TELEPHONE          object\n",
       "LICSUBTYPE         object\n",
       "CEFLAG             object\n",
       "dtype: object"
      ]
     },
     "execution_count": 72,
     "metadata": {},
     "output_type": "execute_result"
    }
   ],
   "source": [
    "df.dtypes"
   ]
  },
  {
   "cell_type": "markdown",
   "metadata": {},
   "source": [
    "## 4. Convert those expiration dates from MMDDYYYY to YYYY-MM-DD\n",
    "\n",
    "You can use list slicing with `.str` (we did `dt.per_name.str[:4]` for the home data stuff once), `pd.to_datetime`, or a hundred other methods."
   ]
  },
  {
   "cell_type": "code",
   "execution_count": 73,
   "metadata": {},
   "outputs": [
    {
     "data": {
      "text/plain": [
       "0         12292017\n",
       "1         09262017\n",
       "2         11042017\n",
       "3         02252018\n",
       "4         05042017\n",
       "            ...   \n",
       "597810    01232018\n",
       "597811    01232018\n",
       "597812    01272018\n",
       "597813    02132018\n",
       "597814    02162018\n",
       "Name: EXPIRATION, Length: 597815, dtype: object"
      ]
     },
     "execution_count": 73,
     "metadata": {},
     "output_type": "execute_result"
    }
   ],
   "source": [
    "df.EXPIRATION"
   ]
  },
  {
   "cell_type": "code",
   "execution_count": 5,
   "metadata": {},
   "outputs": [],
   "source": [
    "# df.EXPIRATION.dt.str[:4]\n",
    "\n",
    "import datetime as dt\n",
    "df['EXPIRATION'] = pd.to_datetime(df.EXPIRATION, format='%m%d%Y', errors='coerce')"
   ]
  },
  {
   "cell_type": "markdown",
   "metadata": {},
   "source": [
    "Check the first five expirations to make sure they look right."
   ]
  },
  {
   "cell_type": "code",
   "execution_count": 78,
   "metadata": {},
   "outputs": [
    {
     "data": {
      "text/plain": [
       "0   2017-12-29\n",
       "1   2017-09-26\n",
       "2   2017-11-04\n",
       "3   2018-02-25\n",
       "4   2017-05-04\n",
       "Name: EXPIRATION, dtype: datetime64[ns]"
      ]
     },
     "execution_count": 78,
     "metadata": {},
     "output_type": "execute_result"
    }
   ],
   "source": [
    "df.EXPIRATION.head()"
   ]
  },
  {
   "cell_type": "markdown",
   "metadata": {},
   "source": [
    "# PART TWO: LOOKING AT LICENSES"
   ]
  },
  {
   "cell_type": "markdown",
   "metadata": {},
   "source": [
    "## 5. What are the top 10 most common licenses?"
   ]
  },
  {
   "cell_type": "code",
   "execution_count": 81,
   "metadata": {},
   "outputs": [
    {
     "data": {
      "text/plain": [
       "Cosmetology Operator        151206\n",
       "Apprentice Electrician      110593\n",
       "Cosmetology Manicurist       49563\n",
       "Journeyman Electrician       38170\n",
       "A/C Technician               27959\n",
       "Cosmetology Esthetician      23613\n",
       "Cosmetology Beauty Salon     23577\n",
       "Master Electrician           16810\n",
       "A/C Contractor               16376\n",
       "Barber, Class A              16019\n",
       "Name: LICTYPE, dtype: int64"
      ]
     },
     "execution_count": 81,
     "metadata": {},
     "output_type": "execute_result"
    }
   ],
   "source": [
    "df.LICTYPE.value_counts().nlargest(10)"
   ]
  },
  {
   "cell_type": "markdown",
   "metadata": {},
   "source": [
    "## 6. What are the top 10 least common?"
   ]
  },
  {
   "cell_type": "code",
   "execution_count": 82,
   "metadata": {},
   "outputs": [
    {
     "data": {
      "text/plain": [
       "Legal Service Contract Admin                       1\n",
       "Mobile Cosmetology Esthetician/Manicure Saloon     2\n",
       "Cosmetology Wig Instructor                         2\n",
       "Licensed Court Interpreter CE Provider             2\n",
       "Mobile Cosmetology Manicure Specialty Saloon       2\n",
       "Booting CE Provider                                3\n",
       "Barber Hair Braiding Shop                          4\n",
       "Barber Hair Weaving Shop                           4\n",
       "Mobile Cosmetology Esthetician Specialty Saloon    5\n",
       "Registered Accessibility Specialist CE Provider    8\n",
       "Name: LICTYPE, dtype: int64"
      ]
     },
     "execution_count": 82,
     "metadata": {},
     "output_type": "execute_result"
    }
   ],
   "source": [
    "df.LICTYPE.value_counts().nsmallest(10)"
   ]
  },
  {
   "cell_type": "markdown",
   "metadata": {},
   "source": [
    "## 7. Try to select everyone who is any type of electrician.\n",
    "\n",
    "You're going to get an error about `\"cannot index with vector containing NA / NaN values\"`. Let's work our way in there."
   ]
  },
  {
   "cell_type": "code",
   "execution_count": 48,
   "metadata": {},
   "outputs": [
    {
     "ename": "ValueError",
     "evalue": "Cannot mask with non-boolean array containing NA / NaN values",
     "output_type": "error",
     "traceback": [
      "\u001b[0;31m---------------------------------------------------------------------------\u001b[0m",
      "\u001b[0;31mValueError\u001b[0m                                Traceback (most recent call last)",
      "\u001b[0;32m<ipython-input-48-b38669659b4f>\u001b[0m in \u001b[0;36m<module>\u001b[0;34m\u001b[0m\n\u001b[1;32m      1\u001b[0m \u001b[0;31m# Yes I know I left this in here, it's a learning experience!\u001b[0m\u001b[0;34m\u001b[0m\u001b[0;34m\u001b[0m\u001b[0;34m\u001b[0m\u001b[0m\n\u001b[0;32m----> 2\u001b[0;31m \u001b[0mdf\u001b[0m\u001b[0;34m[\u001b[0m\u001b[0mdf\u001b[0m\u001b[0;34m[\u001b[0m\u001b[0;34m'LICTYPE'\u001b[0m\u001b[0;34m]\u001b[0m\u001b[0;34m.\u001b[0m\u001b[0mstr\u001b[0m\u001b[0;34m.\u001b[0m\u001b[0mcontains\u001b[0m\u001b[0;34m(\u001b[0m\u001b[0;34m\"Electrician\"\u001b[0m\u001b[0;34m)\u001b[0m\u001b[0;34m]\u001b[0m\u001b[0;34m\u001b[0m\u001b[0;34m\u001b[0m\u001b[0m\n\u001b[0m",
      "\u001b[0;32m~/.pyenv/versions/3.7.1/lib/python3.7/site-packages/pandas/core/frame.py\u001b[0m in \u001b[0;36m__getitem__\u001b[0;34m(self, key)\u001b[0m\n\u001b[1;32m   2894\u001b[0m \u001b[0;34m\u001b[0m\u001b[0m\n\u001b[1;32m   2895\u001b[0m         \u001b[0;31m# Do we have a (boolean) 1d indexer?\u001b[0m\u001b[0;34m\u001b[0m\u001b[0;34m\u001b[0m\u001b[0;34m\u001b[0m\u001b[0m\n\u001b[0;32m-> 2896\u001b[0;31m         \u001b[0;32mif\u001b[0m \u001b[0mcom\u001b[0m\u001b[0;34m.\u001b[0m\u001b[0mis_bool_indexer\u001b[0m\u001b[0;34m(\u001b[0m\u001b[0mkey\u001b[0m\u001b[0;34m)\u001b[0m\u001b[0;34m:\u001b[0m\u001b[0;34m\u001b[0m\u001b[0;34m\u001b[0m\u001b[0m\n\u001b[0m\u001b[1;32m   2897\u001b[0m             \u001b[0;32mreturn\u001b[0m \u001b[0mself\u001b[0m\u001b[0;34m.\u001b[0m\u001b[0m_getitem_bool_array\u001b[0m\u001b[0;34m(\u001b[0m\u001b[0mkey\u001b[0m\u001b[0;34m)\u001b[0m\u001b[0;34m\u001b[0m\u001b[0;34m\u001b[0m\u001b[0m\n\u001b[1;32m   2898\u001b[0m \u001b[0;34m\u001b[0m\u001b[0m\n",
      "\u001b[0;32m~/.pyenv/versions/3.7.1/lib/python3.7/site-packages/pandas/core/common.py\u001b[0m in \u001b[0;36mis_bool_indexer\u001b[0;34m(key)\u001b[0m\n\u001b[1;32m    132\u001b[0m                 \u001b[0mna_msg\u001b[0m \u001b[0;34m=\u001b[0m \u001b[0;34m\"Cannot mask with non-boolean array containing NA / NaN values\"\u001b[0m\u001b[0;34m\u001b[0m\u001b[0;34m\u001b[0m\u001b[0m\n\u001b[1;32m    133\u001b[0m                 \u001b[0;32mif\u001b[0m \u001b[0misna\u001b[0m\u001b[0;34m(\u001b[0m\u001b[0mkey\u001b[0m\u001b[0;34m)\u001b[0m\u001b[0;34m.\u001b[0m\u001b[0many\u001b[0m\u001b[0;34m(\u001b[0m\u001b[0;34m)\u001b[0m\u001b[0;34m:\u001b[0m\u001b[0;34m\u001b[0m\u001b[0;34m\u001b[0m\u001b[0m\n\u001b[0;32m--> 134\u001b[0;31m                     \u001b[0;32mraise\u001b[0m \u001b[0mValueError\u001b[0m\u001b[0;34m(\u001b[0m\u001b[0mna_msg\u001b[0m\u001b[0;34m)\u001b[0m\u001b[0;34m\u001b[0m\u001b[0;34m\u001b[0m\u001b[0m\n\u001b[0m\u001b[1;32m    135\u001b[0m                 \u001b[0;32mreturn\u001b[0m \u001b[0;32mFalse\u001b[0m\u001b[0;34m\u001b[0m\u001b[0;34m\u001b[0m\u001b[0m\n\u001b[1;32m    136\u001b[0m             \u001b[0;32mreturn\u001b[0m \u001b[0;32mTrue\u001b[0m\u001b[0;34m\u001b[0m\u001b[0;34m\u001b[0m\u001b[0m\n",
      "\u001b[0;31mValueError\u001b[0m: Cannot mask with non-boolean array containing NA / NaN values"
     ]
    }
   ],
   "source": [
    "# Yes I know I left this in here, it's a learning experience!\n",
    "df[df['LICTYPE'].str.contains(\"Electrician\")]"
   ]
  },
  {
   "cell_type": "markdown",
   "metadata": {},
   "source": [
    "## 8. How many of the rows of LICTYPE are NaN?"
   ]
  },
  {
   "cell_type": "code",
   "execution_count": 83,
   "metadata": {},
   "outputs": [
    {
     "data": {
      "text/plain": [
       "False    590729\n",
       "True       7086\n",
       "Name: LICTYPE, dtype: int64"
      ]
     },
     "execution_count": 83,
     "metadata": {},
     "output_type": "execute_result"
    }
   ],
   "source": [
    "df.LICTYPE.isna().value_counts()"
   ]
  },
  {
   "cell_type": "markdown",
   "metadata": {},
   "source": [
    "Over 7000 licenses don't have types! As a result, when we look for license types with electricians - aka do `df['LICTYPE'].str.contains(\"Electrician\")` - we get three results:\n",
    "\n",
    "* `True` means `LICTYPE` exists and contains `\"Electrician\"`\n",
    "* `False` means `LICTYPE` exists and does not contain `\"Electrician\"`\n",
    "* `NaN` means `LICTYPE` does not exist for that row"
   ]
  },
  {
   "cell_type": "markdown",
   "metadata": {},
   "source": [
    "## 9. Actually getting everyone who is an electrician"
   ]
  },
  {
   "cell_type": "markdown",
   "metadata": {},
   "source": [
    "This doesn't work when trying to select electricians, though, as NaN is a no-go for a filter. We *could* filter out everywhere the LICTYPE is null, but we could also cheat a little and say \"replace all of the `NaN` values with `False` values.\"\n",
    "\n",
    "`.fillna(False)` will take every `NaN` and replace it with `False`. "
   ]
  },
  {
   "cell_type": "code",
   "execution_count": 281,
   "metadata": {},
   "outputs": [
    {
     "data": {
      "text/plain": [
       "False    418891\n",
       "True     171838\n",
       "Name: LICTYPE, dtype: int64"
      ]
     },
     "execution_count": 281,
     "metadata": {},
     "output_type": "execute_result"
    }
   ],
   "source": [
    "df.LICTYPE.fillna(False).str.contains(\"Electrician\").value_counts()"
   ]
  },
  {
   "cell_type": "markdown",
   "metadata": {},
   "source": [
    "## 10. What's the most popular kind of electrician?"
   ]
  },
  {
   "cell_type": "code",
   "execution_count": 134,
   "metadata": {},
   "outputs": [
    {
     "data": {
      "text/plain": [
       "Apprentice Electrician                110593\n",
       "Journeyman Electrician                 38170\n",
       "Master Electrician                     16810\n",
       "Apprentice Sign Electrician             3994\n",
       "Maintenance Electrician                 1184\n",
       "Master Sign Electrician                  542\n",
       "Journeyman Sign Electrician              391\n",
       "Electrician CE Provider                  109\n",
       "Electrician Apprenticeship Program        45\n",
       "Name: LICTYPE, dtype: int64"
      ]
     },
     "execution_count": 134,
     "metadata": {},
     "output_type": "execute_result"
    }
   ],
   "source": [
    "electrician = df['LICTYPE'].str.contains(\"Electrician\")\n",
    "df['electrician'] = electrician\n",
    "\n",
    "df.LICTYPE[df['electrician'] == True].value_counts()"
   ]
  },
  {
   "cell_type": "markdown",
   "metadata": {},
   "source": [
    "## 11. Graph it, with the largest bar on top."
   ]
  },
  {
   "cell_type": "code",
   "execution_count": 139,
   "metadata": {},
   "outputs": [
    {
     "data": {
      "text/plain": [
       "<AxesSubplot:title={'center':'electrician licenses'}>"
      ]
     },
     "execution_count": 139,
     "metadata": {},
     "output_type": "execute_result"
    },
    {
     "data": {
      "image/png": "[encoded data removed]",
      "text/plain": [
       "<Figure size 432x288 with 1 Axes>"
      ]
     },
     "metadata": {
      "needs_background": "light"
     },
     "output_type": "display_data"
    }
   ],
   "source": [
    "df.LICTYPE[df['electrician'] == True].value_counts(ascending=True).plot(kind='barh', title='electrician licenses')"
   ]
  },
  {
   "cell_type": "markdown",
   "metadata": {},
   "source": [
    "## 12. How many sign electricians are there?\n",
    "\n",
    "There are a few ways to do this one."
   ]
  },
  {
   "cell_type": "code",
   "execution_count": 142,
   "metadata": {},
   "outputs": [
    {
     "data": {
      "text/plain": [
       "False    585802\n",
       "True       4927\n",
       "Name: LICTYPE, dtype: int64"
      ]
     },
     "execution_count": 142,
     "metadata": {},
     "output_type": "execute_result"
    }
   ],
   "source": [
    "df['LICTYPE'].str.contains(\"Sign Electrician\").value_counts()"
   ]
  },
  {
   "cell_type": "markdown",
   "metadata": {},
   "source": [
    "# PART THREE: LOOKING AT LAST NAMES"
   ]
  },
  {
   "cell_type": "markdown",
   "metadata": {},
   "source": [
    "## 13. Extract every owner's last name\n",
    "\n",
    "You want everything before the comma. We've done this before (in a few different ways!).\n",
    "\n",
    "* **Hint:** If you get an error about missing or `NaN` data, you might use `.fillna('')` to replace every empty owner name with an empty string. This might not happen to you, though, depending on how you do it!\n",
    "\n",
    "* **Hint:** You probably want to do `expand=False` on your extraction to make sure it comes out as a series instead of a dataframe."
   ]
  },
  {
   "cell_type": "code",
   "execution_count": 143,
   "metadata": {},
   "outputs": [
    {
     "data": {
      "text/html": [
       "<div>\n",
       "<style scoped>\n",
       "    .dataframe tbody tr th:only-of-type {\n",
       "        vertical-align: middle;\n",
       "    }\n",
       "\n",
       "    .dataframe tbody tr th {\n",
       "        vertical-align: top;\n",
       "    }\n",
       "\n",
       "    .dataframe thead th {\n",
       "        text-align: right;\n",
       "    }\n",
       "</style>\n",
       "<table border=\"1\" class=\"dataframe\">\n",
       "  <thead>\n",
       "    <tr style=\"text-align: right;\">\n",
       "      <th></th>\n",
       "      <th>LICTYPE</th>\n",
       "      <th>LICNUMBER</th>\n",
       "      <th>BIZCOUNTY</th>\n",
       "      <th>BIZNAME</th>\n",
       "      <th>BIZLINE1</th>\n",
       "      <th>BIZLINE2</th>\n",
       "      <th>BIZCITYSTATE</th>\n",
       "      <th>BIZTELEPHONE</th>\n",
       "      <th>EXPIRATION</th>\n",
       "      <th>OWNER</th>\n",
       "      <th>MAILLINE1</th>\n",
       "      <th>MAILLINE2</th>\n",
       "      <th>MAILCITYSTATE</th>\n",
       "      <th>MAILCOUNTYCODE</th>\n",
       "      <th>MAILCOUNTY</th>\n",
       "      <th>MAILZIP</th>\n",
       "      <th>TELEPHONE</th>\n",
       "      <th>LICSUBTYPE</th>\n",
       "      <th>CEFLAG</th>\n",
       "      <th>electrician</th>\n",
       "    </tr>\n",
       "  </thead>\n",
       "  <tbody>\n",
       "    <tr>\n",
       "      <th>0</th>\n",
       "      <td>Associate Auctioneer</td>\n",
       "      <td>7962</td>\n",
       "      <td>UPSHUR</td>\n",
       "      <td>WILLIAMS, JON ANDRE</td>\n",
       "      <td>NaN</td>\n",
       "      <td>NaN</td>\n",
       "      <td>NaN</td>\n",
       "      <td>NaN</td>\n",
       "      <td>2017-12-29</td>\n",
       "      <td>WILLIAMS, JON ANDRE</td>\n",
       "      <td>228 FM 1252</td>\n",
       "      <td>NaN</td>\n",
       "      <td>KILGORE TX 75662</td>\n",
       "      <td>0183</td>\n",
       "      <td>GREGG</td>\n",
       "      <td>75662</td>\n",
       "      <td>9039187899</td>\n",
       "      <td>NaN</td>\n",
       "      <td>N</td>\n",
       "      <td>False</td>\n",
       "    </tr>\n",
       "    <tr>\n",
       "      <th>1</th>\n",
       "      <td>Associate Auctioneer</td>\n",
       "      <td>8406</td>\n",
       "      <td>WILSON</td>\n",
       "      <td>GUEVARA, JUAN ANTONIO</td>\n",
       "      <td>NaN</td>\n",
       "      <td>NaN</td>\n",
       "      <td>NaN</td>\n",
       "      <td>NaN</td>\n",
       "      <td>2017-09-26</td>\n",
       "      <td>GUEVARA, JUAN ANTONIO</td>\n",
       "      <td>6909 HWY 181</td>\n",
       "      <td>NaN</td>\n",
       "      <td>POTH TX 78147</td>\n",
       "      <td>0493</td>\n",
       "      <td>WILSON</td>\n",
       "      <td>78147</td>\n",
       "      <td>NaN</td>\n",
       "      <td>NaN</td>\n",
       "      <td>N</td>\n",
       "      <td>False</td>\n",
       "    </tr>\n",
       "    <tr>\n",
       "      <th>2</th>\n",
       "      <td>Associate Auctioneer</td>\n",
       "      <td>10543</td>\n",
       "      <td>HARRIS</td>\n",
       "      <td>BOWERS, JAMES BRISCOE II</td>\n",
       "      <td>NaN</td>\n",
       "      <td>NaN</td>\n",
       "      <td>NaN</td>\n",
       "      <td>NaN</td>\n",
       "      <td>2017-11-04</td>\n",
       "      <td>BOWERS, JAMES BRISCOE II</td>\n",
       "      <td>6767 NORTH FWY</td>\n",
       "      <td>NaN</td>\n",
       "      <td>HOUSTON TX 77076-2027</td>\n",
       "      <td>0201</td>\n",
       "      <td>HARRIS</td>\n",
       "      <td>77076</td>\n",
       "      <td>7136445566</td>\n",
       "      <td>NaN</td>\n",
       "      <td>N</td>\n",
       "      <td>False</td>\n",
       "    </tr>\n",
       "    <tr>\n",
       "      <th>3</th>\n",
       "      <td>Associate Auctioneer</td>\n",
       "      <td>10642</td>\n",
       "      <td>BELL</td>\n",
       "      <td>DEMSKY, JOHN EDWARD</td>\n",
       "      <td>NaN</td>\n",
       "      <td>NaN</td>\n",
       "      <td>NaN</td>\n",
       "      <td>NaN</td>\n",
       "      <td>2018-02-25</td>\n",
       "      <td>DEMSKY, JOHN EDWARD</td>\n",
       "      <td>130 E CLARK ST</td>\n",
       "      <td>NaN</td>\n",
       "      <td>BARTLETT TX 76511</td>\n",
       "      <td>0027</td>\n",
       "      <td>BELL</td>\n",
       "      <td>76511</td>\n",
       "      <td>2549852228</td>\n",
       "      <td>NaN</td>\n",
       "      <td>N</td>\n",
       "      <td>False</td>\n",
       "    </tr>\n",
       "    <tr>\n",
       "      <th>4</th>\n",
       "      <td>Associate Auctioneer</td>\n",
       "      <td>15650</td>\n",
       "      <td>OUT OF STATE</td>\n",
       "      <td>THOMPSON, RANDY D</td>\n",
       "      <td>NaN</td>\n",
       "      <td>NaN</td>\n",
       "      <td>NaN</td>\n",
       "      <td>NaN</td>\n",
       "      <td>2017-05-04</td>\n",
       "      <td>THOMPSON, RANDY D</td>\n",
       "      <td>10995 BELLEVILLE RD</td>\n",
       "      <td>NaN</td>\n",
       "      <td>RINGLING OK 73456</td>\n",
       "      <td>0999</td>\n",
       "      <td>OUT OF STATE</td>\n",
       "      <td>73456</td>\n",
       "      <td>5802765961</td>\n",
       "      <td>NaN</td>\n",
       "      <td>N</td>\n",
       "      <td>False</td>\n",
       "    </tr>\n",
       "  </tbody>\n",
       "</table>\n",
       "</div>"
      ],
      "text/plain": [
       "                LICTYPE LICNUMBER     BIZCOUNTY                   BIZNAME  \\\n",
       "0  Associate Auctioneer      7962        UPSHUR       WILLIAMS, JON ANDRE   \n",
       "1  Associate Auctioneer      8406        WILSON     GUEVARA, JUAN ANTONIO   \n",
       "2  Associate Auctioneer     10543        HARRIS  BOWERS, JAMES BRISCOE II   \n",
       "3  Associate Auctioneer     10642          BELL       DEMSKY, JOHN EDWARD   \n",
       "4  Associate Auctioneer     15650  OUT OF STATE         THOMPSON, RANDY D   \n",
       "\n",
       "   BIZLINE1  BIZLINE2  BIZCITYSTATE  BIZTELEPHONE EXPIRATION  \\\n",
       "0       NaN       NaN           NaN           NaN 2017-12-29   \n",
       "1       NaN       NaN           NaN           NaN 2017-09-26   \n",
       "2       NaN       NaN           NaN           NaN 2017-11-04   \n",
       "3       NaN       NaN           NaN           NaN 2018-02-25   \n",
       "4       NaN       NaN           NaN           NaN 2017-05-04   \n",
       "\n",
       "                      OWNER            MAILLINE1 MAILLINE2  \\\n",
       "0       WILLIAMS, JON ANDRE          228 FM 1252       NaN   \n",
       "1     GUEVARA, JUAN ANTONIO         6909 HWY 181       NaN   \n",
       "2  BOWERS, JAMES BRISCOE II       6767 NORTH FWY       NaN   \n",
       "3       DEMSKY, JOHN EDWARD       130 E CLARK ST       NaN   \n",
       "4         THOMPSON, RANDY D  10995 BELLEVILLE RD       NaN   \n",
       "\n",
       "           MAILCITYSTATE MAILCOUNTYCODE    MAILCOUNTY MAILZIP   TELEPHONE  \\\n",
       "0       KILGORE TX 75662           0183         GREGG   75662  9039187899   \n",
       "1          POTH TX 78147           0493        WILSON   78147         NaN   \n",
       "2  HOUSTON TX 77076-2027           0201        HARRIS   77076  7136445566   \n",
       "3      BARTLETT TX 76511           0027          BELL   76511  2549852228   \n",
       "4      RINGLING OK 73456           0999  OUT OF STATE   73456  5802765961   \n",
       "\n",
       "  LICSUBTYPE CEFLAG electrician  \n",
       "0        NaN      N       False  \n",
       "1        NaN      N       False  \n",
       "2        NaN      N       False  \n",
       "3        NaN      N       False  \n",
       "4        NaN      N       False  "
      ]
     },
     "execution_count": 143,
     "metadata": {},
     "output_type": "execute_result"
    }
   ],
   "source": [
    "df.head()"
   ]
  },
  {
   "cell_type": "code",
   "execution_count": 152,
   "metadata": {},
   "outputs": [
    {
     "data": {
      "text/plain": [
       "0         WILLIAMS\n",
       "1          GUEVARA\n",
       "2           BOWERS\n",
       "3           DEMSKY\n",
       "4         THOMPSON\n",
       "            ...   \n",
       "597810        ABEL\n",
       "597811        GRAY\n",
       "597812       MAYER\n",
       "597813     FRIESEN\n",
       "597814       BAUER\n",
       "Name: OWNER, Length: 597815, dtype: object"
      ]
     },
     "execution_count": 152,
     "metadata": {},
     "output_type": "execute_result"
    }
   ],
   "source": [
    "df['OWNER'].str.split(',').str[0] "
   ]
  },
  {
   "cell_type": "markdown",
   "metadata": {},
   "source": [
    "## 14. Save the last name into a new column\n",
    "\n",
    "Then check to make sure it exists, and you successfully saved it into the dataframe."
   ]
  },
  {
   "cell_type": "code",
   "execution_count": 153,
   "metadata": {},
   "outputs": [],
   "source": [
    "df['LAST_NAME'] = df['OWNER'].str.split(',').str[0] "
   ]
  },
  {
   "cell_type": "code",
   "execution_count": 154,
   "metadata": {},
   "outputs": [
    {
     "data": {
      "text/html": [
       "<div>\n",
       "<style scoped>\n",
       "    .dataframe tbody tr th:only-of-type {\n",
       "        vertical-align: middle;\n",
       "    }\n",
       "\n",
       "    .dataframe tbody tr th {\n",
       "        vertical-align: top;\n",
       "    }\n",
       "\n",
       "    .dataframe thead th {\n",
       "        text-align: right;\n",
       "    }\n",
       "</style>\n",
       "<table border=\"1\" class=\"dataframe\">\n",
       "  <thead>\n",
       "    <tr style=\"text-align: right;\">\n",
       "      <th></th>\n",
       "      <th>LICTYPE</th>\n",
       "      <th>LICNUMBER</th>\n",
       "      <th>BIZCOUNTY</th>\n",
       "      <th>BIZNAME</th>\n",
       "      <th>BIZLINE1</th>\n",
       "      <th>BIZLINE2</th>\n",
       "      <th>BIZCITYSTATE</th>\n",
       "      <th>BIZTELEPHONE</th>\n",
       "      <th>EXPIRATION</th>\n",
       "      <th>OWNER</th>\n",
       "      <th>...</th>\n",
       "      <th>MAILLINE2</th>\n",
       "      <th>MAILCITYSTATE</th>\n",
       "      <th>MAILCOUNTYCODE</th>\n",
       "      <th>MAILCOUNTY</th>\n",
       "      <th>MAILZIP</th>\n",
       "      <th>TELEPHONE</th>\n",
       "      <th>LICSUBTYPE</th>\n",
       "      <th>CEFLAG</th>\n",
       "      <th>electrician</th>\n",
       "      <th>LAST_NAME</th>\n",
       "    </tr>\n",
       "  </thead>\n",
       "  <tbody>\n",
       "    <tr>\n",
       "      <th>0</th>\n",
       "      <td>Associate Auctioneer</td>\n",
       "      <td>7962</td>\n",
       "      <td>UPSHUR</td>\n",
       "      <td>WILLIAMS, JON ANDRE</td>\n",
       "      <td>NaN</td>\n",
       "      <td>NaN</td>\n",
       "      <td>NaN</td>\n",
       "      <td>NaN</td>\n",
       "      <td>2017-12-29</td>\n",
       "      <td>WILLIAMS, JON ANDRE</td>\n",
       "      <td>...</td>\n",
       "      <td>NaN</td>\n",
       "      <td>KILGORE TX 75662</td>\n",
       "      <td>0183</td>\n",
       "      <td>GREGG</td>\n",
       "      <td>75662</td>\n",
       "      <td>9039187899</td>\n",
       "      <td>NaN</td>\n",
       "      <td>N</td>\n",
       "      <td>False</td>\n",
       "      <td>WILLIAMS</td>\n",
       "    </tr>\n",
       "    <tr>\n",
       "      <th>1</th>\n",
       "      <td>Associate Auctioneer</td>\n",
       "      <td>8406</td>\n",
       "      <td>WILSON</td>\n",
       "      <td>GUEVARA, JUAN ANTONIO</td>\n",
       "      <td>NaN</td>\n",
       "      <td>NaN</td>\n",
       "      <td>NaN</td>\n",
       "      <td>NaN</td>\n",
       "      <td>2017-09-26</td>\n",
       "      <td>GUEVARA, JUAN ANTONIO</td>\n",
       "      <td>...</td>\n",
       "      <td>NaN</td>\n",
       "      <td>POTH TX 78147</td>\n",
       "      <td>0493</td>\n",
       "      <td>WILSON</td>\n",
       "      <td>78147</td>\n",
       "      <td>NaN</td>\n",
       "      <td>NaN</td>\n",
       "      <td>N</td>\n",
       "      <td>False</td>\n",
       "      <td>GUEVARA</td>\n",
       "    </tr>\n",
       "    <tr>\n",
       "      <th>2</th>\n",
       "      <td>Associate Auctioneer</td>\n",
       "      <td>10543</td>\n",
       "      <td>HARRIS</td>\n",
       "      <td>BOWERS, JAMES BRISCOE II</td>\n",
       "      <td>NaN</td>\n",
       "      <td>NaN</td>\n",
       "      <td>NaN</td>\n",
       "      <td>NaN</td>\n",
       "      <td>2017-11-04</td>\n",
       "      <td>BOWERS, JAMES BRISCOE II</td>\n",
       "      <td>...</td>\n",
       "      <td>NaN</td>\n",
       "      <td>HOUSTON TX 77076-2027</td>\n",
       "      <td>0201</td>\n",
       "      <td>HARRIS</td>\n",
       "      <td>77076</td>\n",
       "      <td>7136445566</td>\n",
       "      <td>NaN</td>\n",
       "      <td>N</td>\n",
       "      <td>False</td>\n",
       "      <td>BOWERS</td>\n",
       "    </tr>\n",
       "    <tr>\n",
       "      <th>3</th>\n",
       "      <td>Associate Auctioneer</td>\n",
       "      <td>10642</td>\n",
       "      <td>BELL</td>\n",
       "      <td>DEMSKY, JOHN EDWARD</td>\n",
       "      <td>NaN</td>\n",
       "      <td>NaN</td>\n",
       "      <td>NaN</td>\n",
       "      <td>NaN</td>\n",
       "      <td>2018-02-25</td>\n",
       "      <td>DEMSKY, JOHN EDWARD</td>\n",
       "      <td>...</td>\n",
       "      <td>NaN</td>\n",
       "      <td>BARTLETT TX 76511</td>\n",
       "      <td>0027</td>\n",
       "      <td>BELL</td>\n",
       "      <td>76511</td>\n",
       "      <td>2549852228</td>\n",
       "      <td>NaN</td>\n",
       "      <td>N</td>\n",
       "      <td>False</td>\n",
       "      <td>DEMSKY</td>\n",
       "    </tr>\n",
       "    <tr>\n",
       "      <th>4</th>\n",
       "      <td>Associate Auctioneer</td>\n",
       "      <td>15650</td>\n",
       "      <td>OUT OF STATE</td>\n",
       "      <td>THOMPSON, RANDY D</td>\n",
       "      <td>NaN</td>\n",
       "      <td>NaN</td>\n",
       "      <td>NaN</td>\n",
       "      <td>NaN</td>\n",
       "      <td>2017-05-04</td>\n",
       "      <td>THOMPSON, RANDY D</td>\n",
       "      <td>...</td>\n",
       "      <td>NaN</td>\n",
       "      <td>RINGLING OK 73456</td>\n",
       "      <td>0999</td>\n",
       "      <td>OUT OF STATE</td>\n",
       "      <td>73456</td>\n",
       "      <td>5802765961</td>\n",
       "      <td>NaN</td>\n",
       "      <td>N</td>\n",
       "      <td>False</td>\n",
       "      <td>THOMPSON</td>\n",
       "    </tr>\n",
       "  </tbody>\n",
       "</table>\n",
       "<p>5 rows × 21 columns</p>\n",
       "</div>"
      ],
      "text/plain": [
       "                LICTYPE LICNUMBER     BIZCOUNTY                   BIZNAME  \\\n",
       "0  Associate Auctioneer      7962        UPSHUR       WILLIAMS, JON ANDRE   \n",
       "1  Associate Auctioneer      8406        WILSON     GUEVARA, JUAN ANTONIO   \n",
       "2  Associate Auctioneer     10543        HARRIS  BOWERS, JAMES BRISCOE II   \n",
       "3  Associate Auctioneer     10642          BELL       DEMSKY, JOHN EDWARD   \n",
       "4  Associate Auctioneer     15650  OUT OF STATE         THOMPSON, RANDY D   \n",
       "\n",
       "   BIZLINE1  BIZLINE2  BIZCITYSTATE  BIZTELEPHONE EXPIRATION  \\\n",
       "0       NaN       NaN           NaN           NaN 2017-12-29   \n",
       "1       NaN       NaN           NaN           NaN 2017-09-26   \n",
       "2       NaN       NaN           NaN           NaN 2017-11-04   \n",
       "3       NaN       NaN           NaN           NaN 2018-02-25   \n",
       "4       NaN       NaN           NaN           NaN 2017-05-04   \n",
       "\n",
       "                      OWNER  ... MAILLINE2          MAILCITYSTATE  \\\n",
       "0       WILLIAMS, JON ANDRE  ...       NaN       KILGORE TX 75662   \n",
       "1     GUEVARA, JUAN ANTONIO  ...       NaN          POTH TX 78147   \n",
       "2  BOWERS, JAMES BRISCOE II  ...       NaN  HOUSTON TX 77076-2027   \n",
       "3       DEMSKY, JOHN EDWARD  ...       NaN      BARTLETT TX 76511   \n",
       "4         THOMPSON, RANDY D  ...       NaN      RINGLING OK 73456   \n",
       "\n",
       "  MAILCOUNTYCODE    MAILCOUNTY MAILZIP   TELEPHONE LICSUBTYPE CEFLAG  \\\n",
       "0           0183         GREGG   75662  9039187899        NaN      N   \n",
       "1           0493        WILSON   78147         NaN        NaN      N   \n",
       "2           0201        HARRIS   77076  7136445566        NaN      N   \n",
       "3           0027          BELL   76511  2549852228        NaN      N   \n",
       "4           0999  OUT OF STATE   73456  5802765961        NaN      N   \n",
       "\n",
       "  electrician LAST_NAME  \n",
       "0       False  WILLIAMS  \n",
       "1       False   GUEVARA  \n",
       "2       False    BOWERS  \n",
       "3       False    DEMSKY  \n",
       "4       False  THOMPSON  \n",
       "\n",
       "[5 rows x 21 columns]"
      ]
     },
     "execution_count": 154,
     "metadata": {},
     "output_type": "execute_result"
    }
   ],
   "source": [
    "df.head()"
   ]
  },
  {
   "cell_type": "markdown",
   "metadata": {},
   "source": [
    "# 15. What are the ten most popular last names?"
   ]
  },
  {
   "cell_type": "code",
   "execution_count": 156,
   "metadata": {},
   "outputs": [
    {
     "data": {
      "text/plain": [
       "NGUYEN       22286\n",
       "TRAN          8137\n",
       "LE            5606\n",
       "GARCIA        5574\n",
       "MARTINEZ      4701\n",
       "RODRIGUEZ     4626\n",
       "HERNANDEZ     4390\n",
       "PHAM          3997\n",
       "GONZALEZ      3634\n",
       "SMITH         3208\n",
       "Name: LAST_NAME, dtype: int64"
      ]
     },
     "execution_count": 156,
     "metadata": {},
     "output_type": "execute_result"
    }
   ],
   "source": [
    "df.LAST_NAME.value_counts().head(10)"
   ]
  },
  {
   "cell_type": "markdown",
   "metadata": {},
   "source": [
    "## 16. What are the most popular licenses for people with the last name Nguyen? Tran? Le?\n",
    "\n",
    "Those are the top 3 last names in Vietnam."
   ]
  },
  {
   "cell_type": "code",
   "execution_count": 160,
   "metadata": {},
   "outputs": [
    {
     "data": {
      "text/plain": [
       "Cosmetology Manicurist    12856\n",
       "Name: LICTYPE, dtype: int64"
      ]
     },
     "execution_count": 160,
     "metadata": {},
     "output_type": "execute_result"
    }
   ],
   "source": [
    "df.LICTYPE[df['LAST_NAME'] == \"NGUYEN\"].value_counts().head(1)"
   ]
  },
  {
   "cell_type": "code",
   "execution_count": 161,
   "metadata": {},
   "outputs": [
    {
     "data": {
      "text/plain": [
       "Cosmetology Manicurist    4675\n",
       "Name: LICTYPE, dtype: int64"
      ]
     },
     "execution_count": 161,
     "metadata": {},
     "output_type": "execute_result"
    }
   ],
   "source": [
    "df.LICTYPE[df['LAST_NAME'] == \"TRAN\"].value_counts().head(1)"
   ]
  },
  {
   "cell_type": "code",
   "execution_count": 162,
   "metadata": {},
   "outputs": [
    {
     "data": {
      "text/plain": [
       "Cosmetology Manicurist    3277\n",
       "Name: LICTYPE, dtype: int64"
      ]
     },
     "execution_count": 162,
     "metadata": {},
     "output_type": "execute_result"
    }
   ],
   "source": [
    "df.LICTYPE[df['LAST_NAME'] == \"LE\"].value_counts().head(1)"
   ]
  },
  {
   "cell_type": "markdown",
   "metadata": {},
   "source": [
    "The background of this [is interesting](https://www.npr.org/2019/05/19/724452398/how-vietnamese-americans-took-over-the-nails-business-a-documentary) and [tragic](https://www.nytimes.com/2015/05/10/nyregion/at-nail-salons-in-nyc-manicurists-are-underpaid-and-unprotected.html)."
   ]
  },
  {
   "cell_type": "code",
   "execution_count": null,
   "metadata": {},
   "outputs": [],
   "source": [
    "# thank you for including this^^ info!!"
   ]
  },
  {
   "cell_type": "markdown",
   "metadata": {},
   "source": [
    "## 17. Now do all of that in one line - most popular licenses for Nguyen, Tran and Le - without using `&`"
   ]
  },
  {
   "cell_type": "code",
   "execution_count": 177,
   "metadata": {},
   "outputs": [
    {
     "data": {
      "text/plain": [
       "Cosmetology Manicurist    20808\n",
       "Name: LICTYPE, dtype: int64"
      ]
     },
     "execution_count": 177,
     "metadata": {},
     "output_type": "execute_result"
    }
   ],
   "source": [
    "df.LICTYPE[(df['LAST_NAME'] == \"LE\") | (df['LAST_NAME'] == \"TRAN\") | (df['LAST_NAME'] == \"NGUYEN\")].value_counts().head(1)"
   ]
  },
  {
   "cell_type": "markdown",
   "metadata": {},
   "source": [
    "## 19. Most popular license for anyone with a last name that ENDS in `-ko`\n",
    "\n",
    "The answer is not `.str.contains('ko')`, but it isn't necessarily too different.\n",
    "\n",
    "* One way involves a `.str.` method that check if a string ends with something,\n",
    "* the other way involves a regular expression that has a \"end of the string\" marker (similar to how we've used `^` for the start of a string before)\n",
    "\n",
    "If you're thinking about the latter, I might take a look at [this page](http://www.rexegg.com/regex-quickstart.html) under \"Anchors and Boundaries\". "
   ]
  },
  {
   "cell_type": "code",
   "execution_count": 6,
   "metadata": {},
   "outputs": [],
   "source": [
    "import re"
   ]
  },
  {
   "cell_type": "code",
   "execution_count": 212,
   "metadata": {},
   "outputs": [
    {
     "data": {
      "text/plain": [
       "Cosmetology Operator    67\n",
       "Name: LICTYPE, dtype: int64"
      ]
     },
     "execution_count": 212,
     "metadata": {},
     "output_type": "execute_result"
    }
   ],
   "source": [
    "# or can do\n",
    "# df['LAST_NAME'].str.lower().str.endswith('ko')\n",
    "df.LICTYPE[df.LAST_NAME.str.endswith(\"KO\", na=False)].value_counts().head(1)"
   ]
  },
  {
   "cell_type": "markdown",
   "metadata": {},
   "source": [
    "## 20. Get that as a percentage"
   ]
  },
  {
   "cell_type": "code",
   "execution_count": 213,
   "metadata": {},
   "outputs": [
    {
     "data": {
      "text/plain": [
       "Cosmetology Operator                            36.021505\n",
       "Apprentice Electrician                          12.365591\n",
       "Journeyman Electrician                           8.602151\n",
       "Legal Service Contract Sales Rep                 5.913978\n",
       "A/C Technician                                   5.913978\n",
       "Cosmetology Esthetician                          4.838710\n",
       "Master Electrician                               3.763441\n",
       "Cosmetology Hair Braider                         3.763441\n",
       "Cos Mini Salon                                   2.688172\n",
       "Cosmetology Operator Instructor                  2.150538\n",
       "Cosmetology Manicurist                           2.150538\n",
       "Maintenance Electrician                          1.612903\n",
       "Barber, Class A                                  1.612903\n",
       "Tow Truck Operator (Incident Management)         1.075269\n",
       "A/C Contractor                                   1.075269\n",
       "Apprentice Sign Electrician                      0.537634\n",
       "Property Tax Appraiser                           0.537634\n",
       "Barber Hair Braiding Specialist                  0.537634\n",
       "Dual Towing Operator(IM)/VSF Employee            0.537634\n",
       "Cosmetologist                                    0.537634\n",
       "Used Auto Parts Recycler Employee                0.537634\n",
       "Water Well Driller/Pump Installer Apprentice     0.537634\n",
       "Barber Instructor                                0.537634\n",
       "Cosmetology Esthetic Instructor                  0.537634\n",
       "Electrical Sign Contractor                       0.537634\n",
       "Property Tax Consultant                          0.537634\n",
       "Registered Accessibility Specialist              0.537634\n",
       "Name: LICTYPE, dtype: float64"
      ]
     },
     "execution_count": 213,
     "metadata": {},
     "output_type": "execute_result"
    }
   ],
   "source": [
    "df.LICTYPE[df.LAST_NAME.str.endswith(\"KO\", na=False)].value_counts(normalize = True) * 100"
   ]
  },
  {
   "cell_type": "markdown",
   "metadata": {},
   "source": [
    "# PART FOUR: LOOKING AT FIRST NAMES"
   ]
  },
  {
   "cell_type": "markdown",
   "metadata": {},
   "source": [
    "## 21. Extract the owner's first name\n",
    "\n",
    "First, a little example of how regular expressions work with pandas."
   ]
  },
  {
   "cell_type": "code",
   "execution_count": 214,
   "metadata": {},
   "outputs": [
    {
     "data": {
      "text/html": [
       "<div>\n",
       "<style scoped>\n",
       "    .dataframe tbody tr th:only-of-type {\n",
       "        vertical-align: middle;\n",
       "    }\n",
       "\n",
       "    .dataframe tbody tr th {\n",
       "        vertical-align: top;\n",
       "    }\n",
       "\n",
       "    .dataframe thead th {\n",
       "        text-align: right;\n",
       "    }\n",
       "</style>\n",
       "<table border=\"1\" class=\"dataframe\">\n",
       "  <thead>\n",
       "    <tr style=\"text-align: right;\">\n",
       "      <th></th>\n",
       "      <th>name</th>\n",
       "      <th>sentence</th>\n",
       "    </tr>\n",
       "  </thead>\n",
       "  <tbody>\n",
       "    <tr>\n",
       "      <th>0</th>\n",
       "      <td>Mary</td>\n",
       "      <td>I am 90 years old</td>\n",
       "    </tr>\n",
       "    <tr>\n",
       "      <th>1</th>\n",
       "      <td>Jack</td>\n",
       "      <td>I am 4 years old</td>\n",
       "    </tr>\n",
       "    <tr>\n",
       "      <th>2</th>\n",
       "      <td>Anne</td>\n",
       "      <td>I am 27 years old</td>\n",
       "    </tr>\n",
       "    <tr>\n",
       "      <th>3</th>\n",
       "      <td>Joel</td>\n",
       "      <td>I am 13 years old</td>\n",
       "    </tr>\n",
       "  </tbody>\n",
       "</table>\n",
       "</div>"
      ],
      "text/plain": [
       "   name           sentence\n",
       "0  Mary  I am 90 years old\n",
       "1  Jack   I am 4 years old\n",
       "2  Anne  I am 27 years old\n",
       "3  Joel  I am 13 years old"
      ]
     },
     "execution_count": 214,
     "metadata": {},
     "output_type": "execute_result"
    }
   ],
   "source": [
    "# Build a dataframe\n",
    "sample_df = pd.DataFrame([\n",
    "    { 'name': 'Mary', 'sentence': \"I am 90 years old\" },\n",
    "    { 'name': 'Jack', 'sentence': \"I am 4 years old\" },\n",
    "    { 'name': 'Anne', 'sentence': \"I am 27 years old\" },\n",
    "    { 'name': 'Joel', 'sentence': \"I am 13 years old\" },\n",
    "])\n",
    "# Look at the dataframe\n",
    "sample_df"
   ]
  },
  {
   "cell_type": "code",
   "execution_count": 215,
   "metadata": {},
   "outputs": [
    {
     "data": {
      "text/plain": [
       "0    90\n",
       "1     4\n",
       "2    27\n",
       "3    13\n",
       "Name: sentence, dtype: object"
      ]
     },
     "execution_count": 215,
     "metadata": {},
     "output_type": "execute_result"
    }
   ],
   "source": [
    "# Given the sentence, \"I am X years old\", extract digits from the middle using ()\n",
    "# Anything you put in () will be saved as an output.\n",
    "# If you do expand=True it makes you a dataframe, but we don't want that.\n",
    "sample_df['sentence'].str.extract(\"I am (\\d+) years old\", expand=False)"
   ]
  },
  {
   "cell_type": "code",
   "execution_count": 216,
   "metadata": {},
   "outputs": [
    {
     "data": {
      "text/html": [
       "<div>\n",
       "<style scoped>\n",
       "    .dataframe tbody tr th:only-of-type {\n",
       "        vertical-align: middle;\n",
       "    }\n",
       "\n",
       "    .dataframe tbody tr th {\n",
       "        vertical-align: top;\n",
       "    }\n",
       "\n",
       "    .dataframe thead th {\n",
       "        text-align: right;\n",
       "    }\n",
       "</style>\n",
       "<table border=\"1\" class=\"dataframe\">\n",
       "  <thead>\n",
       "    <tr style=\"text-align: right;\">\n",
       "      <th></th>\n",
       "      <th>name</th>\n",
       "      <th>sentence</th>\n",
       "      <th>age</th>\n",
       "    </tr>\n",
       "  </thead>\n",
       "  <tbody>\n",
       "    <tr>\n",
       "      <th>0</th>\n",
       "      <td>Mary</td>\n",
       "      <td>I am 90 years old</td>\n",
       "      <td>90</td>\n",
       "    </tr>\n",
       "    <tr>\n",
       "      <th>1</th>\n",
       "      <td>Jack</td>\n",
       "      <td>I am 4 years old</td>\n",
       "      <td>4</td>\n",
       "    </tr>\n",
       "    <tr>\n",
       "      <th>2</th>\n",
       "      <td>Anne</td>\n",
       "      <td>I am 27 years old</td>\n",
       "      <td>27</td>\n",
       "    </tr>\n",
       "    <tr>\n",
       "      <th>3</th>\n",
       "      <td>Joel</td>\n",
       "      <td>I am 13 years old</td>\n",
       "      <td>13</td>\n",
       "    </tr>\n",
       "  </tbody>\n",
       "</table>\n",
       "</div>"
      ],
      "text/plain": [
       "   name           sentence age\n",
       "0  Mary  I am 90 years old  90\n",
       "1  Jack   I am 4 years old   4\n",
       "2  Anne  I am 27 years old  27\n",
       "3  Joel  I am 13 years old  13"
      ]
     },
     "execution_count": 216,
     "metadata": {},
     "output_type": "execute_result"
    }
   ],
   "source": [
    "# Save it into a new column\n",
    "sample_df['age'] = sample_df['sentence'].str.extract(\"I am (\\d+) years old\", expand=False)\n",
    "sample_df.head()"
   ]
  },
  {
   "cell_type": "markdown",
   "metadata": {},
   "source": [
    "**Now let's think about how we're going to extract the first names.** Begin by looking at a few full names."
   ]
  },
  {
   "cell_type": "code",
   "execution_count": 217,
   "metadata": {},
   "outputs": [
    {
     "data": {
      "text/plain": [
       "0         WILLIAMS, JON ANDRE\n",
       "1       GUEVARA, JUAN ANTONIO\n",
       "2    BOWERS, JAMES BRISCOE II\n",
       "3         DEMSKY, JOHN EDWARD\n",
       "4           THOMPSON, RANDY D\n",
       "5          TUCKER, MONTE EARL\n",
       "6        COOPER, THOMAS JAMES\n",
       "7     BLANKENSHIP, KERRY NEIL\n",
       "8      DAWES, NICHOLAS MORGAN\n",
       "9        LESTER, TIMMY EUGENE\n",
       "Name: OWNER, dtype: object"
      ]
     },
     "execution_count": 217,
     "metadata": {},
     "output_type": "execute_result"
    }
   ],
   "source": [
    "df['OWNER'].head(10)"
   ]
  },
  {
   "cell_type": "markdown",
   "metadata": {},
   "source": [
    "What can you use to find the first name? It helps to say \"this is to the left and this is to the right, and I'm going to take anything in the middle.\"\n",
    "\n",
    "Once you figure out how to extract it, you can do a `.head(10)` to just look at the first few."
   ]
  },
  {
   "cell_type": "code",
   "execution_count": 218,
   "metadata": {},
   "outputs": [
    {
     "data": {
      "text/plain": [
       "0                JON ANDRE\n",
       "1             JUAN ANTONIO\n",
       "2         JAMES BRISCOE II\n",
       "3              JOHN EDWARD\n",
       "4                  RANDY D\n",
       "                ...       \n",
       "597810            JUSTIN C\n",
       "597811       MATTHEW BRYAN\n",
       "597812             DAVID W\n",
       "597813      FRANCISCO FEHR\n",
       "597814             DAVID A\n",
       "Name: OWNER, Length: 597815, dtype: object"
      ]
     },
     "execution_count": 218,
     "metadata": {},
     "output_type": "execute_result"
    }
   ],
   "source": [
    "df['OWNER'].str.extract(\"\\w+, (\\w+.*$)\", expand=False)"
   ]
  },
  {
   "cell_type": "markdown",
   "metadata": {},
   "source": [
    "## 22. Saving the owner's first name\n",
    "\n",
    "Save the name to a new column, `FIRSTNAME`."
   ]
  },
  {
   "cell_type": "code",
   "execution_count": 8,
   "metadata": {},
   "outputs": [
    {
     "data": {
      "text/plain": [
       "0           JON ANDRE\n",
       "1        JUAN ANTONIO\n",
       "2    JAMES BRISCOE II\n",
       "3         JOHN EDWARD\n",
       "4             RANDY D\n",
       "5          MONTE EARL\n",
       "6        THOMAS JAMES\n",
       "7          KERRY NEIL\n",
       "8     NICHOLAS MORGAN\n",
       "9        TIMMY EUGENE\n",
       "Name: FIRSTNAME, dtype: object"
      ]
     },
     "execution_count": 8,
     "metadata": {},
     "output_type": "execute_result"
    }
   ],
   "source": [
    "df['FIRSTNAME'] = df['OWNER'].str.extract(\"\\w+, (\\w+.*$)\", expand=False)\n",
    "df.FIRSTNAME.head(10)"
   ]
  },
  {
   "cell_type": "markdown",
   "metadata": {},
   "source": [
    "# 23. Examine everyone without a first name\n",
    "\n",
    "I purposefully didn't do a nicer regex in order to have some screwed-up results. **How many people are there without an entry in the first name column?**\n",
    "\n",
    "Your numbers might be different than mine."
   ]
  },
  {
   "cell_type": "code",
   "execution_count": 265,
   "metadata": {},
   "outputs": [
    {
     "data": {
      "text/plain": [
       "False    512216\n",
       "True      85599\n",
       "Name: FIRSTNAME, dtype: int64"
      ]
     },
     "execution_count": 265,
     "metadata": {},
     "output_type": "execute_result"
    }
   ],
   "source": [
    "df.FIRSTNAME.isnull().value_counts()"
   ]
  },
  {
   "cell_type": "markdown",
   "metadata": {},
   "source": [
    "What do their names look like?"
   ]
  },
  {
   "cell_type": "code",
   "execution_count": 266,
   "metadata": {},
   "outputs": [
    {
     "data": {
      "text/plain": [
       "147       NaN\n",
       "498       NaN\n",
       "602       NaN\n",
       "817       NaN\n",
       "879       NaN\n",
       "         ... \n",
       "595509    NaN\n",
       "595551    NaN\n",
       "595593    NaN\n",
       "595600    NaN\n",
       "595678    NaN\n",
       "Name: FIRSTNAME, Length: 85599, dtype: object"
      ]
     },
     "execution_count": 266,
     "metadata": {},
     "output_type": "execute_result"
    }
   ],
   "source": [
    "df.FIRSTNAME[df['FIRSTNAME'].isnull() == True]"
   ]
  },
  {
   "cell_type": "markdown",
   "metadata": {},
   "source": [
    "## 24. If it's a problem, you can fix it (if you'd like!)\n",
    "\n",
    "Maybe you have another regular expression that works better with JUST these people? It really depends on how you've put together your previous regex!\n",
    "\n",
    "If you'd like to use a separate regex for this group, you can use code like this:\n",
    "\n",
    "`df.loc[df.FIRSTNAME.isnull(), 'FIRSTNAME'] = .....`\n",
    "\n",
    "That will only set the `FIRSTNAME` for people where `FIRSTNAME` is null."
   ]
  },
  {
   "cell_type": "code",
   "execution_count": 9,
   "metadata": {},
   "outputs": [],
   "source": [
    "# trying to fix first names for people with LASTNAME*space*, FIRSTNAME(s)\n",
    "df.loc[df.FIRSTNAME.isnull(), 'FIRSTNAME'] = df['FIRSTNAME'].str.extract(\"\\w+ , (\\w+.*$)\", expand=False)"
   ]
  },
  {
   "cell_type": "markdown",
   "metadata": {},
   "source": [
    "How many empty first names do we have now?"
   ]
  },
  {
   "cell_type": "code",
   "execution_count": 273,
   "metadata": {},
   "outputs": [
    {
     "data": {
      "text/plain": [
       "False    512216\n",
       "True      85599\n",
       "Name: FIRSTNAME, dtype: int64"
      ]
     },
     "execution_count": 273,
     "metadata": {},
     "output_type": "execute_result"
    }
   ],
   "source": [
    "df.FIRSTNAME.isnull().value_counts()"
   ]
  },
  {
   "cell_type": "markdown",
   "metadata": {},
   "source": [
    "My code before only worked for people with middle names, but now it got people without middle names, too. Looking much better!"
   ]
  },
  {
   "cell_type": "markdown",
   "metadata": {},
   "source": [
    "## 25. Most popular first names?"
   ]
  },
  {
   "cell_type": "code",
   "execution_count": 275,
   "metadata": {},
   "outputs": [
    {
     "data": {
      "text/plain": [
       "DAVID      1197\n",
       "JOSE A     1058\n",
       "JOSE       1033\n",
       "DANIEL      985\n",
       "MICHAEL     817\n",
       "Name: FIRSTNAME, dtype: int64"
      ]
     },
     "execution_count": 275,
     "metadata": {},
     "output_type": "execute_result"
    }
   ],
   "source": [
    "df.FIRSTNAME.value_counts().head()"
   ]
  },
  {
   "cell_type": "markdown",
   "metadata": {},
   "source": [
    "## 26. Most popular first names for a Cosmetology Operator, Cosmetology Esthetician, Cosmetologist, and anything that seems similar?\n",
    "\n",
    "If you get an error about \"cannot index vector containing NA / NaN values\" remember `.fillna(False)` or `na=False` - if a row doesn't have a license, it doesn't give a `True`/`False`, so we force all of the empty rows to be `False`."
   ]
  },
  {
   "cell_type": "code",
   "execution_count": 300,
   "metadata": {},
   "outputs": [
    {
     "data": {
      "text/plain": [
       "MARIA        662\n",
       "ELIZABETH    507\n",
       "JESSICA      492\n",
       "JENNIFER     477\n",
       "VERONICA     361\n",
       "Name: FIRSTNAME, dtype: int64"
      ]
     },
     "execution_count": 300,
     "metadata": {},
     "output_type": "execute_result"
    }
   ],
   "source": [
    "df.FIRSTNAME[df.LICTYPE.str.contains(\"Cosmet\", na=False)].value_counts().head()"
   ]
  },
  {
   "cell_type": "markdown",
   "metadata": {},
   "source": [
    "## 27. Most popular first names for anything involving electricity?"
   ]
  },
  {
   "cell_type": "code",
   "execution_count": 301,
   "metadata": {},
   "outputs": [
    {
     "data": {
      "text/plain": [
       "JOSE A    839\n",
       "JOSE      708\n",
       "DAVID     691\n",
       "DANIEL    668\n",
       "JOSE L    523\n",
       "Name: FIRSTNAME, dtype: int64"
      ]
     },
     "execution_count": 301,
     "metadata": {},
     "output_type": "execute_result"
    }
   ],
   "source": [
    "df.FIRSTNAME[df.LICTYPE.str.contains(\"Electric\", na=False)].value_counts().head()"
   ]
  },
  {
   "cell_type": "markdown",
   "metadata": {},
   "source": [
    "## 28. Can we be any more obnoxious in this assignment?\n",
    "\n",
    "A terrible thing that data analysts are often guilty of is using names to make assumptions about people. Beyond stereotypes involving last names, first names are often used to predict someone's race, ethnic background, or gender.\n",
    "\n",
    "And if that isn't bad enough: if we were looking for Python libraries to do this sort of analysis, we'd come across [sex machine](https://github.com/ferhatelmas/sexmachine/). Once upon a time there was Ruby package named sex machine and everyone was like \"come on are you six years old? is this how we do things?\" and the guy was like \"you're completely right I'm renaming it to [gender detector](https://github.com/bmuller/gender_detector)\" and the world was Nice and Good again.\n",
    "\n",
    "How'd it happen? [On Github, in a pull request!](https://github.com/bmuller/gender_detector/pull/14) Neat, right?\n",
    "\n",
    "But yeah: apparently Python didn't get the message.\n",
    "\n",
    "The sexmachine package doesn't work on Python 3 because it's from 300 BC, so we're going to use a Python 3 fork with the less problematic name [gender guesser](https://pypi.python.org/pypi/gender-guesser/).\n",
    "\n",
    "#### Use `pip` or `pip3` to install gender-guesser."
   ]
  },
  {
   "cell_type": "code",
   "execution_count": 10,
   "metadata": {},
   "outputs": [
    {
     "name": "stdout",
     "output_type": "stream",
     "text": [
      "Requirement already satisfied: gender-guesser in /Users/ALukpat/.pyenv/versions/3.7.1/lib/python3.7/site-packages (0.4.0)\n",
      "\u001b[33mYou are using pip version 10.0.1, however version 20.3b1 is available.\n",
      "You should consider upgrading via the 'pip install --upgrade pip' command.\u001b[0m\n"
     ]
    }
   ],
   "source": [
    "!pip install gender-guesser"
   ]
  },
  {
   "cell_type": "markdown",
   "metadata": {},
   "source": [
    "#### Run this code to test to see that it works"
   ]
  },
  {
   "cell_type": "code",
   "execution_count": 11,
   "metadata": {},
   "outputs": [
    {
     "data": {
      "text/plain": [
       "'male'"
      ]
     },
     "execution_count": 11,
     "metadata": {},
     "output_type": "execute_result"
    }
   ],
   "source": [
    "import gender_guesser.detector as gender\n",
    "\n",
    "detector = gender.Detector(case_sensitive=False)\n",
    "detector.get_gender('David')"
   ]
  },
  {
   "cell_type": "code",
   "execution_count": 304,
   "metadata": {},
   "outputs": [
    {
     "data": {
      "text/plain": [
       "'male'"
      ]
     },
     "execution_count": 304,
     "metadata": {},
     "output_type": "execute_result"
    }
   ],
   "source": [
    "detector.get_gender('Jose')"
   ]
  },
  {
   "cell_type": "code",
   "execution_count": 305,
   "metadata": {},
   "outputs": [
    {
     "data": {
      "text/plain": [
       "'female'"
      ]
     },
     "execution_count": 305,
     "metadata": {},
     "output_type": "execute_result"
    }
   ],
   "source": [
    "detector.get_gender('Maria')"
   ]
  },
  {
   "cell_type": "markdown",
   "metadata": {},
   "source": [
    "#### Use it on a dataframe\n",
    "\n",
    "To use something fancy like that on a dataframe, you use `.apply`. Check it out: "
   ]
  },
  {
   "cell_type": "code",
   "execution_count": 314,
   "metadata": {},
   "outputs": [
    {
     "data": {
      "text/plain": [
       "0    unknown\n",
       "1    unknown\n",
       "2    unknown\n",
       "3    unknown\n",
       "4    unknown\n",
       "Name: FIRSTNAME, dtype: object"
      ]
     },
     "execution_count": 314,
     "metadata": {},
     "output_type": "execute_result"
    }
   ],
   "source": [
    "df['FIRSTNAME'].fillna('').apply(lambda name: detector.get_gender(name)).head()"
   ]
  },
  {
   "cell_type": "markdown",
   "metadata": {},
   "source": [
    "## 29. Calculate the gender of everyone's first name and save it to a column\n",
    "\n",
    "Confirm by see how many people of each gender we have"
   ]
  },
  {
   "cell_type": "code",
   "execution_count": 316,
   "metadata": {},
   "outputs": [],
   "source": [
    "df['gender'] = df['FIRSTNAME'].fillna('').apply(lambda name: detector.get_gender(name))"
   ]
  },
  {
   "cell_type": "code",
   "execution_count": 317,
   "metadata": {},
   "outputs": [
    {
     "data": {
      "text/plain": [
       "unknown          486116\n",
       "male              55308\n",
       "female            45273\n",
       "mostly_female      4720\n",
       "mostly_male        4167\n",
       "andy               2231\n",
       "Name: gender, dtype: int64"
      ]
     },
     "execution_count": 317,
     "metadata": {},
     "output_type": "execute_result"
    }
   ],
   "source": [
    "df.gender.value_counts()"
   ]
  },
  {
   "cell_type": "markdown",
   "metadata": {},
   "source": [
    "## 30. We like our data to be in tidy binary categories\n",
    "\n",
    "* Combine the `mostly_female` into `female` \n",
    "* Combine the `mostly_male` into `male`\n",
    "* Replace `andy` (androgynous) and `unknown` with `NaN`\n",
    "\n",
    "you can get NaN not by making a string, but with `import numpy as np` and then using `np.nan`."
   ]
  },
  {
   "cell_type": "code",
   "execution_count": 327,
   "metadata": {},
   "outputs": [],
   "source": [
    "import numpy as np"
   ]
  },
  {
   "cell_type": "code",
   "execution_count": 347,
   "metadata": {},
   "outputs": [
    {
     "data": {
      "text/plain": [
       "np.nan    488347\n",
       "male       59475\n",
       "female     49993\n",
       "Name: gender, dtype: int64"
      ]
     },
     "execution_count": 347,
     "metadata": {},
     "output_type": "execute_result"
    }
   ],
   "source": [
    "df['gender'] = df['gender'].replace('mostly_female', 'female')\n",
    "df['gender'] = df['gender'].replace('mostly_male', 'male')\n",
    "df['gender'] = df['gender'].replace('andy', np.nan)\n",
    "df['gender'] = df['gender'].replace('unknown', np.nan)\n",
    "\n",
    "df.gender.value_counts()"
   ]
  },
  {
   "cell_type": "markdown",
   "metadata": {},
   "source": [
    "## 31. Do men or women have more licenses? What is the percentage of unknown genders?"
   ]
  },
  {
   "cell_type": "code",
   "execution_count": 348,
   "metadata": {},
   "outputs": [
    {
     "data": {
      "text/plain": [
       "np.nan    488347\n",
       "male       59475\n",
       "female     49993\n",
       "Name: gender, dtype: int64"
      ]
     },
     "execution_count": 348,
     "metadata": {},
     "output_type": "execute_result"
    }
   ],
   "source": [
    "df.gender.value_counts()"
   ]
  },
  {
   "cell_type": "code",
   "execution_count": 349,
   "metadata": {},
   "outputs": [
    {
     "data": {
      "text/plain": [
       "np.nan    81.688649\n",
       "male       9.948730\n",
       "female     8.362621\n",
       "Name: gender, dtype: float64"
      ]
     },
     "execution_count": 349,
     "metadata": {},
     "output_type": "execute_result"
    }
   ],
   "source": [
    "df.gender.value_counts(normalize=True) * 100"
   ]
  },
  {
   "cell_type": "markdown",
   "metadata": {},
   "source": [
    "## 32. What are the popular unknown- or ambiguous gender first names?\n",
    "\n",
    "Yours might be different! Mine is a combination of actual ambiguity, cultural bias and dirty data."
   ]
  },
  {
   "cell_type": "code",
   "execution_count": 355,
   "metadata": {},
   "outputs": [
    {
     "data": {
      "text/plain": [
       "JOSE A       1058\n",
       "INC           697\n",
       "JOSE L        676\n",
       "LLC           602\n",
       "MICHAEL A     583\n",
       "Name: FIRSTNAME, dtype: int64"
      ]
     },
     "execution_count": 355,
     "metadata": {},
     "output_type": "execute_result"
    }
   ],
   "source": [
    "df.FIRSTNAME[df.gender == 'np.nan'].value_counts().head()"
   ]
  },
  {
   "cell_type": "markdown",
   "metadata": {},
   "source": [
    "## 33. Manually check a few, too \n",
    "\n",
    "Using [a list of \"gender-neutral baby names\"](https://www.popsugar.com/family/Gender-Neutral-Baby-Names-34485564), pick a few names and check what results the library gives you."
   ]
  },
  {
   "cell_type": "code",
   "execution_count": 376,
   "metadata": {},
   "outputs": [
    {
     "data": {
      "text/plain": [
       "3161      male\n",
       "6878      male\n",
       "22899     male\n",
       "24918     male\n",
       "26974     male\n",
       "64264     male\n",
       "75001     male\n",
       "75878     male\n",
       "102672    male\n",
       "103964    male\n",
       "Name: gender, dtype: object"
      ]
     },
     "execution_count": 376,
     "metadata": {},
     "output_type": "execute_result"
    }
   ],
   "source": [
    "df.gender[df['FIRSTNAME'] == \"SAM\"].head(10)"
   ]
  },
  {
   "cell_type": "code",
   "execution_count": 375,
   "metadata": {},
   "outputs": [
    {
     "data": {
      "text/plain": [
       "11843     male\n",
       "15263     male\n",
       "19132     male\n",
       "24666     male\n",
       "85507     male\n",
       "86481     male\n",
       "92199     male\n",
       "95136     male\n",
       "97867     male\n",
       "100912    male\n",
       "Name: gender, dtype: object"
      ]
     },
     "execution_count": 375,
     "metadata": {},
     "output_type": "execute_result"
    }
   ],
   "source": [
    "df.gender[df['FIRSTNAME'] == \"CAMERON\"].head(10)"
   ]
  },
  {
   "cell_type": "markdown",
   "metadata": {},
   "source": [
    "## 34. What are the most popular licenses for men? For women?"
   ]
  },
  {
   "cell_type": "code",
   "execution_count": 378,
   "metadata": {},
   "outputs": [
    {
     "data": {
      "text/plain": [
       "Apprentice Electrician    26872\n",
       "A/C Technician             6718\n",
       "Journeyman Electrician     5283\n",
       "Cosmetology Operator       3504\n",
       "Barber, Class A            3111\n",
       "Name: LICTYPE, dtype: int64"
      ]
     },
     "execution_count": 378,
     "metadata": {},
     "output_type": "execute_result"
    }
   ],
   "source": [
    "df.LICTYPE[df['gender'] == \"male\"].value_counts().head()"
   ]
  },
  {
   "cell_type": "code",
   "execution_count": 379,
   "metadata": {},
   "outputs": [
    {
     "data": {
      "text/plain": [
       "Cosmetology Operator       33371\n",
       "Cosmetology Esthetician     4732\n",
       "Cosmetology Manicurist      3948\n",
       "Apprentice Electrician      1441\n",
       "Barber, Class A             1203\n",
       "Name: LICTYPE, dtype: int64"
      ]
     },
     "execution_count": 379,
     "metadata": {},
     "output_type": "execute_result"
    }
   ],
   "source": [
    "df.LICTYPE[df['gender'] == \"female\"].value_counts().head()"
   ]
  },
  {
   "cell_type": "markdown",
   "metadata": {},
   "source": [
    "## 35. What is the gender breakdown for Property Tax Appraiser? How about anything involving Tow Trucks?\n",
    "\n",
    "If you're in need, remember your good friend `.fillna(False)` to get rid of NaN values, or `.na=False` with `.str.contains`."
   ]
  },
  {
   "cell_type": "code",
   "execution_count": 381,
   "metadata": {},
   "outputs": [
    {
     "data": {
      "text/plain": [
       "np.nan    2586\n",
       "female     136\n",
       "male       124\n",
       "Name: gender, dtype: int64"
      ]
     },
     "execution_count": 381,
     "metadata": {},
     "output_type": "execute_result"
    }
   ],
   "source": [
    "df.gender[df.LICTYPE == \"Property Tax Appraiser\"].value_counts()\n"
   ]
  },
  {
   "cell_type": "code",
   "execution_count": 383,
   "metadata": {},
   "outputs": [
    {
     "data": {
      "text/plain": [
       "np.nan    11016\n",
       "male       3683\n",
       "female      213\n",
       "Name: gender, dtype: int64"
      ]
     },
     "execution_count": 383,
     "metadata": {},
     "output_type": "execute_result"
    }
   ],
   "source": [
    "df.gender[df.LICTYPE.str.contains(\"Tow Truck\", na=False)].value_counts()"
   ]
  },
  {
   "cell_type": "markdown",
   "metadata": {},
   "source": [
    "(By the way, what are those tow truck jobs?)"
   ]
  },
  {
   "cell_type": "code",
   "execution_count": 385,
   "metadata": {},
   "outputs": [
    {
     "data": {
      "text/plain": [
       "570343            Tow Truck Operator (Consent Tow)\n",
       "570344    Tow Truck Operator (Incident Management)\n",
       "570345            Tow Truck Operator (Consent Tow)\n",
       "570346    Tow Truck Operator (Incident Management)\n",
       "570347    Tow Truck Operator (Incident Management)\n",
       "                            ...                   \n",
       "585250    Tow Truck Operator (Incident Management)\n",
       "585251    Tow Truck Operator (Incident Management)\n",
       "585252            Tow Truck Operator (Consent Tow)\n",
       "585253            Tow Truck Operator (Consent Tow)\n",
       "585254    Tow Truck Operator (Incident Management)\n",
       "Name: LICTYPE, Length: 14912, dtype: object"
      ]
     },
     "execution_count": 385,
     "metadata": {},
     "output_type": "execute_result"
    }
   ],
   "source": [
    "df.LICTYPE[df.LICTYPE.str.contains(\"Tow Truck\", na=False)]"
   ]
  },
  {
   "cell_type": "markdown",
   "metadata": {},
   "source": [
    "## 33. Graph them!\n",
    "\n",
    "And let's **give them titles** so we know which is which."
   ]
  },
  {
   "cell_type": "code",
   "execution_count": 391,
   "metadata": {},
   "outputs": [
    {
     "data": {
      "text/plain": [
       "<AxesSubplot:title={'center':'Gender of Texas tax appraisers'}>"
      ]
     },
     "execution_count": 391,
     "metadata": {},
     "output_type": "execute_result"
    },
    {
     "data": {
      "image/png": "[encoded data removed]",
      "text/plain": [
       "<Figure size 432x288 with 1 Axes>"
      ]
     },
     "metadata": {
      "needs_background": "light"
     },
     "output_type": "display_data"
    }
   ],
   "source": [
    "df.gender[df.LICTYPE == \"Property Tax Appraiser\"].value_counts(ascending=True).plot(kind='barh', title='Gender of Texas tax appraisers')"
   ]
  },
  {
   "cell_type": "code",
   "execution_count": 390,
   "metadata": {},
   "outputs": [
    {
     "data": {
      "text/plain": [
       "<AxesSubplot:title={'center':'Gender of Texans working with tow trucks'}>"
      ]
     },
     "execution_count": 390,
     "metadata": {},
     "output_type": "execute_result"
    },
    {
     "data": {
      "image/png": "[encoded data removed]",
      "text/plain": [
       "<Figure size 432x288 with 1 Axes>"
      ]
     },
     "metadata": {
      "needs_background": "light"
     },
     "output_type": "display_data"
    }
   ],
   "source": [
    "df.gender[df.LICTYPE.str.contains(\"Tow Truck\", na=False)].value_counts(ascending=True).plot(kind='barh', title='Gender of Texans working with tow trucks')"
   ]
  },
  {
   "cell_type": "markdown",
   "metadata": {},
   "source": [
    "## 34. Calcuate the supposed gender bias for profession\n",
    "\n",
    "I spent like an hour on this and then realized a super easy way to do it. Welcome to programming! I'll do this part for you."
   ]
  },
  {
   "cell_type": "code",
   "execution_count": 393,
   "metadata": {},
   "outputs": [
    {
     "data": {
      "text/plain": [
       "Apprentice Electrician    26872\n",
       "A/C Technician             6718\n",
       "Journeyman Electrician     5283\n",
       "Cosmetology Operator       3504\n",
       "Barber, Class A            3111\n",
       "Name: LICTYPE, dtype: int64"
      ]
     },
     "execution_count": 393,
     "metadata": {},
     "output_type": "execute_result"
    }
   ],
   "source": [
    "# So when you do .value_counts(), it gives you an index and a value\n",
    "df[df['gender'] == 'male'].LICTYPE.value_counts().head()"
   ]
  },
  {
   "cell_type": "markdown",
   "metadata": {},
   "source": [
    "We did `pd.concat` to combine dataframes, but you can also use it to combine series (like the results of `value_counts()`). If you give it a few `value_counts()` and give it some column names it'll make something real nice."
   ]
  },
  {
   "cell_type": "code",
   "execution_count": 22,
   "metadata": {},
   "outputs": [
    {
     "data": {
      "text/html": [
       "<div>\n",
       "<style scoped>\n",
       "    .dataframe tbody tr th:only-of-type {\n",
       "        vertical-align: middle;\n",
       "    }\n",
       "\n",
       "    .dataframe tbody tr th {\n",
       "        vertical-align: top;\n",
       "    }\n",
       "\n",
       "    .dataframe thead th {\n",
       "        text-align: right;\n",
       "    }\n",
       "</style>\n",
       "<table border=\"1\" class=\"dataframe\">\n",
       "  <thead>\n",
       "    <tr style=\"text-align: right;\">\n",
       "      <th></th>\n",
       "      <th>LICTYPE</th>\n",
       "      <th>LICTYPE</th>\n",
       "      <th>LICTYPE</th>\n",
       "    </tr>\n",
       "  </thead>\n",
       "  <tbody>\n",
       "    <tr>\n",
       "      <th>Apprentice Electrician</th>\n",
       "      <td>26872.0</td>\n",
       "      <td>1441.0</td>\n",
       "      <td>82280</td>\n",
       "    </tr>\n",
       "    <tr>\n",
       "      <th>A/C Technician</th>\n",
       "      <td>6718.0</td>\n",
       "      <td>221.0</td>\n",
       "      <td>21020</td>\n",
       "    </tr>\n",
       "    <tr>\n",
       "      <th>Journeyman Electrician</th>\n",
       "      <td>5283.0</td>\n",
       "      <td>143.0</td>\n",
       "      <td>32744</td>\n",
       "    </tr>\n",
       "    <tr>\n",
       "      <th>Cosmetology Operator</th>\n",
       "      <td>3504.0</td>\n",
       "      <td>33371.0</td>\n",
       "      <td>114331</td>\n",
       "    </tr>\n",
       "    <tr>\n",
       "      <th>Barber, Class A</th>\n",
       "      <td>3111.0</td>\n",
       "      <td>1203.0</td>\n",
       "      <td>11705</td>\n",
       "    </tr>\n",
       "  </tbody>\n",
       "</table>\n",
       "</div>"
      ],
      "text/plain": [
       "                        LICTYPE  LICTYPE  LICTYPE\n",
       "Apprentice Electrician  26872.0   1441.0    82280\n",
       "A/C Technician           6718.0    221.0    21020\n",
       "Journeyman Electrician   5283.0    143.0    32744\n",
       "Cosmetology Operator     3504.0  33371.0   114331\n",
       "Barber, Class A          3111.0   1203.0    11705"
      ]
     },
     "execution_count": 22,
     "metadata": {},
     "output_type": "execute_result"
    }
   ],
   "source": [
    "# All of the values_counts() we will be combining\n",
    "vc_series = [\n",
    "    df[df['gender'] == 'male'].LICTYPE.value_counts(),\n",
    "    df[df['gender'] == 'female'].LICTYPE.value_counts(),\n",
    "    df[df['gender'].isnull()].LICTYPE.value_counts()\n",
    "]\n",
    "# You need axis=1 so it combines them as columns\n",
    "gender_df = pd.concat(vc_series, axis=1)\n",
    "gender_df.head()"
   ]
  },
  {
   "cell_type": "code",
   "execution_count": 23,
   "metadata": {},
   "outputs": [
    {
     "data": {
      "text/html": [
       "<div>\n",
       "<style scoped>\n",
       "    .dataframe tbody tr th:only-of-type {\n",
       "        vertical-align: middle;\n",
       "    }\n",
       "\n",
       "    .dataframe tbody tr th {\n",
       "        vertical-align: top;\n",
       "    }\n",
       "\n",
       "    .dataframe thead th {\n",
       "        text-align: right;\n",
       "    }\n",
       "</style>\n",
       "<table border=\"1\" class=\"dataframe\">\n",
       "  <thead>\n",
       "    <tr style=\"text-align: right;\">\n",
       "      <th></th>\n",
       "      <th>index</th>\n",
       "      <th>LICTYPE</th>\n",
       "      <th>LICTYPE</th>\n",
       "      <th>LICTYPE</th>\n",
       "    </tr>\n",
       "  </thead>\n",
       "  <tbody>\n",
       "    <tr>\n",
       "      <th>0</th>\n",
       "      <td>Apprentice Electrician</td>\n",
       "      <td>26872.0</td>\n",
       "      <td>1441.0</td>\n",
       "      <td>82280</td>\n",
       "    </tr>\n",
       "    <tr>\n",
       "      <th>1</th>\n",
       "      <td>A/C Technician</td>\n",
       "      <td>6718.0</td>\n",
       "      <td>221.0</td>\n",
       "      <td>21020</td>\n",
       "    </tr>\n",
       "    <tr>\n",
       "      <th>2</th>\n",
       "      <td>Journeyman Electrician</td>\n",
       "      <td>5283.0</td>\n",
       "      <td>143.0</td>\n",
       "      <td>32744</td>\n",
       "    </tr>\n",
       "    <tr>\n",
       "      <th>3</th>\n",
       "      <td>Cosmetology Operator</td>\n",
       "      <td>3504.0</td>\n",
       "      <td>33371.0</td>\n",
       "      <td>114331</td>\n",
       "    </tr>\n",
       "    <tr>\n",
       "      <th>4</th>\n",
       "      <td>Barber, Class A</td>\n",
       "      <td>3111.0</td>\n",
       "      <td>1203.0</td>\n",
       "      <td>11705</td>\n",
       "    </tr>\n",
       "  </tbody>\n",
       "</table>\n",
       "</div>"
      ],
      "text/plain": [
       "                    index  LICTYPE  LICTYPE  LICTYPE\n",
       "0  Apprentice Electrician  26872.0   1441.0    82280\n",
       "1          A/C Technician   6718.0    221.0    21020\n",
       "2  Journeyman Electrician   5283.0    143.0    32744\n",
       "3    Cosmetology Operator   3504.0  33371.0   114331\n",
       "4         Barber, Class A   3111.0   1203.0    11705"
      ]
     },
     "execution_count": 23,
     "metadata": {},
     "output_type": "execute_result"
    }
   ],
   "source": [
    "# Turn \"A/C Contractor\" etc into an actual column instead of an index\n",
    "gender_df.reset_index(inplace=True)\n",
    "gender_df.head()"
   ]
  },
  {
   "cell_type": "code",
   "execution_count": 24,
   "metadata": {},
   "outputs": [
    {
     "data": {
      "text/html": [
       "<div>\n",
       "<style scoped>\n",
       "    .dataframe tbody tr th:only-of-type {\n",
       "        vertical-align: middle;\n",
       "    }\n",
       "\n",
       "    .dataframe tbody tr th {\n",
       "        vertical-align: top;\n",
       "    }\n",
       "\n",
       "    .dataframe thead th {\n",
       "        text-align: right;\n",
       "    }\n",
       "</style>\n",
       "<table border=\"1\" class=\"dataframe\">\n",
       "  <thead>\n",
       "    <tr style=\"text-align: right;\">\n",
       "      <th></th>\n",
       "      <th>license</th>\n",
       "      <th>male</th>\n",
       "      <th>female</th>\n",
       "      <th>unknown</th>\n",
       "    </tr>\n",
       "  </thead>\n",
       "  <tbody>\n",
       "    <tr>\n",
       "      <th>0</th>\n",
       "      <td>Apprentice Electrician</td>\n",
       "      <td>26872.0</td>\n",
       "      <td>1441.0</td>\n",
       "      <td>82280</td>\n",
       "    </tr>\n",
       "    <tr>\n",
       "      <th>1</th>\n",
       "      <td>A/C Technician</td>\n",
       "      <td>6718.0</td>\n",
       "      <td>221.0</td>\n",
       "      <td>21020</td>\n",
       "    </tr>\n",
       "    <tr>\n",
       "      <th>2</th>\n",
       "      <td>Journeyman Electrician</td>\n",
       "      <td>5283.0</td>\n",
       "      <td>143.0</td>\n",
       "      <td>32744</td>\n",
       "    </tr>\n",
       "    <tr>\n",
       "      <th>3</th>\n",
       "      <td>Cosmetology Operator</td>\n",
       "      <td>3504.0</td>\n",
       "      <td>33371.0</td>\n",
       "      <td>114331</td>\n",
       "    </tr>\n",
       "    <tr>\n",
       "      <th>4</th>\n",
       "      <td>Barber, Class A</td>\n",
       "      <td>3111.0</td>\n",
       "      <td>1203.0</td>\n",
       "      <td>11705</td>\n",
       "    </tr>\n",
       "  </tbody>\n",
       "</table>\n",
       "</div>"
      ],
      "text/plain": [
       "                  license     male   female  unknown\n",
       "0  Apprentice Electrician  26872.0   1441.0    82280\n",
       "1          A/C Technician   6718.0    221.0    21020\n",
       "2  Journeyman Electrician   5283.0    143.0    32744\n",
       "3    Cosmetology Operator   3504.0  33371.0   114331\n",
       "4         Barber, Class A   3111.0   1203.0    11705"
      ]
     },
     "execution_count": 24,
     "metadata": {},
     "output_type": "execute_result"
    }
   ],
   "source": [
    "# Rename the columns appropriately\n",
    "gender_df.columns = [\"license\", \"male\", \"female\", \"unknown\"]\n",
    "# Clean up the NaN by replacing them with zeroes\n",
    "gender_df.fillna(0, inplace=True)\n",
    "gender_df.head()"
   ]
  },
  {
   "cell_type": "markdown",
   "metadata": {},
   "source": [
    "## 35. Add new columns for total licenses, percent known (not percent unknown!), percent male (of known), percent female (of known)\n",
    "\n",
    "And replace any `NaN`s with `0`."
   ]
  },
  {
   "cell_type": "code",
   "execution_count": 52,
   "metadata": {},
   "outputs": [],
   "source": [
    "gender_df['total_licenses'] = gender_df['male'] + gender_df['female'] + gender_df['unknown']\n",
    "gender_df['percent_known'] = 100 * (1 - (gender_df['unknown'] / gender_df['total_licenses']))\n",
    "gender_df['percent_male'] = 100 * (gender_df['male'] / (gender_df['male'] + gender_df['female']))\n",
    "gender_df['percent_female'] = 100 * (gender_df['female'] / (gender_df['male'] + gender_df['female']))"
   ]
  },
  {
   "cell_type": "code",
   "execution_count": 54,
   "metadata": {},
   "outputs": [
    {
     "data": {
      "text/html": [
       "<div>\n",
       "<style scoped>\n",
       "    .dataframe tbody tr th:only-of-type {\n",
       "        vertical-align: middle;\n",
       "    }\n",
       "\n",
       "    .dataframe tbody tr th {\n",
       "        vertical-align: top;\n",
       "    }\n",
       "\n",
       "    .dataframe thead th {\n",
       "        text-align: right;\n",
       "    }\n",
       "</style>\n",
       "<table border=\"1\" class=\"dataframe\">\n",
       "  <thead>\n",
       "    <tr style=\"text-align: right;\">\n",
       "      <th></th>\n",
       "      <th>license</th>\n",
       "      <th>male</th>\n",
       "      <th>female</th>\n",
       "      <th>unknown</th>\n",
       "      <th>test</th>\n",
       "      <th>total_licenses</th>\n",
       "      <th>percent_known</th>\n",
       "      <th>percent_male</th>\n",
       "      <th>percent_female</th>\n",
       "    </tr>\n",
       "  </thead>\n",
       "  <tbody>\n",
       "    <tr>\n",
       "      <th>0</th>\n",
       "      <td>Apprentice Electrician</td>\n",
       "      <td>26872.0</td>\n",
       "      <td>1441.0</td>\n",
       "      <td>82280</td>\n",
       "      <td>9039187899</td>\n",
       "      <td>110593.0</td>\n",
       "      <td>25.601078</td>\n",
       "      <td>94.910465</td>\n",
       "      <td>5.089535</td>\n",
       "    </tr>\n",
       "    <tr>\n",
       "      <th>1</th>\n",
       "      <td>A/C Technician</td>\n",
       "      <td>6718.0</td>\n",
       "      <td>221.0</td>\n",
       "      <td>21020</td>\n",
       "      <td>0</td>\n",
       "      <td>27959.0</td>\n",
       "      <td>24.818484</td>\n",
       "      <td>96.815103</td>\n",
       "      <td>3.184897</td>\n",
       "    </tr>\n",
       "    <tr>\n",
       "      <th>2</th>\n",
       "      <td>Journeyman Electrician</td>\n",
       "      <td>5283.0</td>\n",
       "      <td>143.0</td>\n",
       "      <td>32744</td>\n",
       "      <td>7136445566</td>\n",
       "      <td>38170.0</td>\n",
       "      <td>14.215352</td>\n",
       "      <td>97.364541</td>\n",
       "      <td>2.635459</td>\n",
       "    </tr>\n",
       "    <tr>\n",
       "      <th>3</th>\n",
       "      <td>Cosmetology Operator</td>\n",
       "      <td>3504.0</td>\n",
       "      <td>33371.0</td>\n",
       "      <td>114331</td>\n",
       "      <td>2549852228</td>\n",
       "      <td>151206.0</td>\n",
       "      <td>24.387260</td>\n",
       "      <td>9.502373</td>\n",
       "      <td>90.497627</td>\n",
       "    </tr>\n",
       "    <tr>\n",
       "      <th>4</th>\n",
       "      <td>Barber, Class A</td>\n",
       "      <td>3111.0</td>\n",
       "      <td>1203.0</td>\n",
       "      <td>11705</td>\n",
       "      <td>5802765961</td>\n",
       "      <td>16019.0</td>\n",
       "      <td>26.930520</td>\n",
       "      <td>72.114047</td>\n",
       "      <td>27.885953</td>\n",
       "    </tr>\n",
       "  </tbody>\n",
       "</table>\n",
       "</div>"
      ],
      "text/plain": [
       "                  license     male   female  unknown        test  \\\n",
       "0  Apprentice Electrician  26872.0   1441.0    82280  9039187899   \n",
       "1          A/C Technician   6718.0    221.0    21020           0   \n",
       "2  Journeyman Electrician   5283.0    143.0    32744  7136445566   \n",
       "3    Cosmetology Operator   3504.0  33371.0   114331  2549852228   \n",
       "4         Barber, Class A   3111.0   1203.0    11705  5802765961   \n",
       "\n",
       "   total_licenses  percent_known  percent_male  percent_female  \n",
       "0        110593.0      25.601078     94.910465        5.089535  \n",
       "1         27959.0      24.818484     96.815103        3.184897  \n",
       "2         38170.0      14.215352     97.364541        2.635459  \n",
       "3        151206.0      24.387260      9.502373       90.497627  \n",
       "4         16019.0      26.930520     72.114047       27.885953  "
      ]
     },
     "execution_count": 54,
     "metadata": {},
     "output_type": "execute_result"
    }
   ],
   "source": [
    "gender_df.fillna(0, inplace=True)\n",
    "gender_df.head()"
   ]
  },
  {
   "cell_type": "markdown",
   "metadata": {},
   "source": [
    "## 35. What 10 licenses with more than 2,000 people and over 75% \"known\" gender has the most male owners? The most female?"
   ]
  },
  {
   "cell_type": "code",
   "execution_count": 71,
   "metadata": {},
   "outputs": [
    {
     "data": {
      "text/plain": [
       "percent_male  license                                 \n",
       "79.218750     Used Auto Parts Recycler Employee           1\n",
       "80.588235     Auctioneer                                  1\n",
       "92.124105     Dual Towing Operator(IM)/VSF Employee       1\n",
       "94.142043     Tow Truck Operator (Incident Management)    1\n",
       "94.779478     Apprentice Sign Electrician                 1\n",
       "94.910465     Apprentice Electrician                      1\n",
       "95.061073     Tow Truck Operator (Consent Tow)            1\n",
       "96.815103     A/C Technician                              1\n",
       "97.364541     Journeyman Electrician                      1\n",
       "97.627737     Master Electrician                          1\n",
       "Name: license, dtype: int64"
      ]
     },
     "execution_count": 71,
     "metadata": {},
     "output_type": "execute_result"
    }
   ],
   "source": [
    "# I know this is asking for licenses that are over 75% known, but the code didn't return any results!\n",
    "gender_df.license[(gender_df.total_licenses > 2000) & (gender_df.percent_male > 75)].groupby(gender_df.percent_male).value_counts().head(10)"
   ]
  },
  {
   "cell_type": "code",
   "execution_count": 72,
   "metadata": {},
   "outputs": [
    {
     "data": {
      "text/plain": [
       "percent_female  license                        \n",
       "87.253142       Cosmetology Operator Instructor    1\n",
       "90.497627       Cosmetology Operator               1\n",
       "91.421857       Cosmetologist                      1\n",
       "93.740095       Cosmetology Esthetician            1\n",
       "100.000000      Cos Mini Salon                     1\n",
       "Name: license, dtype: int64"
      ]
     },
     "execution_count": 72,
     "metadata": {},
     "output_type": "execute_result"
    }
   ],
   "source": [
    "gender_df.license[(gender_df.total_licenses > 2000) & (gender_df.percent_female > 75)].groupby(gender_df.percent_female).value_counts().head(10)\n"
   ]
  },
  {
   "cell_type": "markdown",
   "metadata": {},
   "source": [
    "## 36. Let's say you have to call a few people about being in a profession dominated by the other gender. What are their phone numbers?\n",
    "\n",
    "This will involve doing some research in one dataframe, then the other one. I didn't put an answer here because I'm interested in what you come up with!"
   ]
  },
  {
   "cell_type": "code",
   "execution_count": 85,
   "metadata": {},
   "outputs": [
    {
     "data": {
      "text/plain": [
       "0                           Apprentice Electrician\n",
       "1                                   A/C Technician\n",
       "2                           Journeyman Electrician\n",
       "4                                  Barber, Class A\n",
       "5         Tow Truck Operator (Incident Management)\n",
       "6                 Tow Truck Operator (Consent Tow)\n",
       "7                               Master Electrician\n",
       "9                 Legal Service Contract Sales Rep\n",
       "10                     Apprentice Sign Electrician\n",
       "11           Dual Towing Operator(IM)/VSF Employee\n",
       "12               Used Auto Parts Recycler Employee\n",
       "14                             Residential Wireman\n",
       "16               Water Well Driller/Pump Installer\n",
       "17                             Appliance Installer\n",
       "19                                      Auctioneer\n",
       "20                         Property Tax Consultant\n",
       "21                         Maintenance Electrician\n",
       "23           Tow Truck Operator (Private Property)\n",
       "25             Registered Accessibility Specialist\n",
       "26                              Polygraph Examiner\n",
       "27                     Journeyman Sign Electrician\n",
       "28                         Master Sign Electrician\n",
       "29                               Barber Instructor\n",
       "30    Water Well Driller/Pump Installer Apprentice\n",
       "31           Dual Towing Operator(CT)/VSF Employee\n",
       "32                    Qualified Elevator Inspector\n",
       "33                                Booting Operator\n",
       "36           Dual Towing Operator(PP)/VSF Employee\n",
       "39                      Polygraph Examiner Trainee\n",
       "42                           Electrical Contractor\n",
       "46                            Associate Auctioneer\n",
       "Name: license, dtype: object"
      ]
     },
     "execution_count": 85,
     "metadata": {},
     "output_type": "execute_result"
    }
   ],
   "source": [
    "gender_df.license[gender_df.percent_male > 50]\n",
    "# the first one listed is Apprentice Electrician"
   ]
  },
  {
   "cell_type": "code",
   "execution_count": 89,
   "metadata": {},
   "outputs": [
    {
     "data": {
      "text/plain": [
       "47024    9798284713\n",
       "47025    2104887491\n",
       "47026    7133824802\n",
       "47027    9035634950\n",
       "47028    9039462547\n",
       "Name: TELEPHONE, dtype: object"
      ]
     },
     "execution_count": 89,
     "metadata": {},
     "output_type": "execute_result"
    }
   ],
   "source": [
    "df.TELEPHONE[df.LICTYPE == 'Apprentice Electrician'].head()"
   ]
  },
  {
   "cell_type": "markdown",
   "metadata": {},
   "source": [
    "## Okay, let's take a break for a second.\n",
    "\n",
    "We've been diving pretty deep into this gender stuff after an initial \"oh but it's not great\" kind of thing.\n",
    "\n",
    "**What issues might come up with our analysis?** Some might be about ethics or discrimination, while some might be about our analysis being misleading or wrong. Go back and take a critical look at what we've done since we started working on gender, and summarize your thoughts below."
   ]
  },
  {
   "cell_type": "markdown",
   "metadata": {},
   "source": [
    "If you found problems with our analysis, **how could we make improvements?**"
   ]
  },
  {
   "cell_type": "code",
   "execution_count": null,
   "metadata": {},
   "outputs": [],
   "source": [
    "# We're analyzing an incomplete data set because it doesn't have a full gender breakdown per license type\n",
    "# so the conclusions we're drawing aren't based on the full picture.\n",
    "# Also, the data classifies gender as male and female, which is an outdated binary. Some people might not consider themselves male or female"
   ]
  },
  {
   "cell_type": "code",
   "execution_count": null,
   "metadata": {},
   "outputs": [],
   "source": [
    "# It seems like the jobs that need licenses in Texas are a bit more blue-collar, \n",
    "# so this doesn't show a full-picture of Texas' workforce"
   ]
  },
  {
   "cell_type": "markdown",
   "metadata": {},
   "source": [
    "## PART FIVE: Violations\n",
    "\n",
    "### 37. Read in **violations.csv** as `violations_df`, make sure it looks right"
   ]
  },
  {
   "cell_type": "code",
   "execution_count": 90,
   "metadata": {},
   "outputs": [],
   "source": [
    "violations_df = pd.read_csv(\"violations.csv\")"
   ]
  },
  {
   "cell_type": "code",
   "execution_count": 91,
   "metadata": {},
   "outputs": [
    {
     "data": {
      "text/html": [
       "<div>\n",
       "<style scoped>\n",
       "    .dataframe tbody tr th:only-of-type {\n",
       "        vertical-align: middle;\n",
       "    }\n",
       "\n",
       "    .dataframe tbody tr th {\n",
       "        vertical-align: top;\n",
       "    }\n",
       "\n",
       "    .dataframe thead th {\n",
       "        text-align: right;\n",
       "    }\n",
       "</style>\n",
       "<table border=\"1\" class=\"dataframe\">\n",
       "  <thead>\n",
       "    <tr style=\"text-align: right;\">\n",
       "      <th></th>\n",
       "      <th>basis</th>\n",
       "      <th>city</th>\n",
       "      <th>complaintno</th>\n",
       "      <th>county</th>\n",
       "      <th>licenseno</th>\n",
       "      <th>name</th>\n",
       "      <th>order</th>\n",
       "      <th>orderDate</th>\n",
       "      <th>zipcode</th>\n",
       "    </tr>\n",
       "  </thead>\n",
       "  <tbody>\n",
       "    <tr>\n",
       "      <th>0</th>\n",
       "      <td>Respondent failed to keep a record of the date...</td>\n",
       "      <td>HOUSTON</td>\n",
       "      <td>COS20160024894</td>\n",
       "      <td>HARRIS</td>\n",
       "      <td>748459</td>\n",
       "      <td>NGUYEN, PHUONG T</td>\n",
       "      <td>Respondent is assessed an administrative penal...</td>\n",
       "      <td>3/21/2017</td>\n",
       "      <td>77083</td>\n",
       "    </tr>\n",
       "    <tr>\n",
       "      <th>1</th>\n",
       "      <td>Respondent failed to keep a record of the date...</td>\n",
       "      <td>HOUSTON</td>\n",
       "      <td>COS20170004646</td>\n",
       "      <td>HARRIS</td>\n",
       "      <td>742837</td>\n",
       "      <td>NGUYEN, SUYEN THI</td>\n",
       "      <td>Respondent is assessed an administrative penal...</td>\n",
       "      <td>3/21/2017</td>\n",
       "      <td>77072</td>\n",
       "    </tr>\n",
       "    <tr>\n",
       "      <th>2</th>\n",
       "      <td>Respondent failed to maintain the required cle...</td>\n",
       "      <td>HOUSTON</td>\n",
       "      <td>COS20170007996</td>\n",
       "      <td>HARRIS</td>\n",
       "      <td>729680</td>\n",
       "      <td>NGUYEN, XUONG MY</td>\n",
       "      <td>Respondent is assessed an administrative penal...</td>\n",
       "      <td>3/21/2017</td>\n",
       "      <td>77066</td>\n",
       "    </tr>\n",
       "    <tr>\n",
       "      <th>3</th>\n",
       "      <td>Respondent failed to keep a record of the date...</td>\n",
       "      <td>HOUSTON</td>\n",
       "      <td>COS20170003822</td>\n",
       "      <td>HARRIS</td>\n",
       "      <td>688518</td>\n",
       "      <td>NGUYEN, NHUNG TUYET</td>\n",
       "      <td>Respondent is assessed an administrative penal...</td>\n",
       "      <td>3/8/2017</td>\n",
       "      <td>77083</td>\n",
       "    </tr>\n",
       "    <tr>\n",
       "      <th>4</th>\n",
       "      <td>The Respondent's license was revoked upon Resp...</td>\n",
       "      <td>HOUSTON</td>\n",
       "      <td>COS20170005470</td>\n",
       "      <td>HARRIS</td>\n",
       "      <td>1209580</td>\n",
       "      <td>NGUYEN, QUAN M</td>\n",
       "      <td>Respondent's Cosmetology Operator license was ...</td>\n",
       "      <td>2/24/2017</td>\n",
       "      <td>77077</td>\n",
       "    </tr>\n",
       "  </tbody>\n",
       "</table>\n",
       "</div>"
      ],
      "text/plain": [
       "                                               basis     city     complaintno  \\\n",
       "0  Respondent failed to keep a record of the date...  HOUSTON  COS20160024894   \n",
       "1  Respondent failed to keep a record of the date...  HOUSTON  COS20170004646   \n",
       "2  Respondent failed to maintain the required cle...  HOUSTON  COS20170007996   \n",
       "3  Respondent failed to keep a record of the date...  HOUSTON  COS20170003822   \n",
       "4  The Respondent's license was revoked upon Resp...  HOUSTON  COS20170005470   \n",
       "\n",
       "   county licenseno                  name  \\\n",
       "0  HARRIS    748459      NGUYEN, PHUONG T   \n",
       "1  HARRIS    742837    NGUYEN, SUYEN THI    \n",
       "2  HARRIS    729680     NGUYEN, XUONG MY    \n",
       "3  HARRIS    688518  NGUYEN, NHUNG TUYET    \n",
       "4  HARRIS   1209580        NGUYEN, QUAN M   \n",
       "\n",
       "                                               order  orderDate  zipcode  \n",
       "0  Respondent is assessed an administrative penal...  3/21/2017    77083  \n",
       "1  Respondent is assessed an administrative penal...  3/21/2017    77072  \n",
       "2  Respondent is assessed an administrative penal...  3/21/2017    77066  \n",
       "3  Respondent is assessed an administrative penal...   3/8/2017    77083  \n",
       "4  Respondent's Cosmetology Operator license was ...  2/24/2017    77077  "
      ]
     },
     "execution_count": 91,
     "metadata": {},
     "output_type": "execute_result"
    }
   ],
   "source": [
    "violations_df.head()"
   ]
  },
  {
   "cell_type": "markdown",
   "metadata": {},
   "source": [
    "### 38. Combine with your original licenses dataset dataframe to get phone numbers and addresses for each violation. Check that it is 90 rows, 28 columns."
   ]
  },
  {
   "cell_type": "code",
   "execution_count": 98,
   "metadata": {},
   "outputs": [
    {
     "data": {
      "text/html": [
       "<div>\n",
       "<style scoped>\n",
       "    .dataframe tbody tr th:only-of-type {\n",
       "        vertical-align: middle;\n",
       "    }\n",
       "\n",
       "    .dataframe tbody tr th {\n",
       "        vertical-align: top;\n",
       "    }\n",
       "\n",
       "    .dataframe thead th {\n",
       "        text-align: right;\n",
       "    }\n",
       "</style>\n",
       "<table border=\"1\" class=\"dataframe\">\n",
       "  <thead>\n",
       "    <tr style=\"text-align: right;\">\n",
       "      <th></th>\n",
       "      <th>LICTYPE</th>\n",
       "      <th>LICNUMBER</th>\n",
       "      <th>BIZCOUNTY</th>\n",
       "      <th>BIZNAME</th>\n",
       "      <th>BIZLINE1</th>\n",
       "      <th>BIZLINE2</th>\n",
       "      <th>BIZCITYSTATE</th>\n",
       "      <th>BIZTELEPHONE</th>\n",
       "      <th>EXPIRATION</th>\n",
       "      <th>OWNER</th>\n",
       "      <th>...</th>\n",
       "      <th>gender</th>\n",
       "      <th>basis</th>\n",
       "      <th>city</th>\n",
       "      <th>complaintno</th>\n",
       "      <th>county</th>\n",
       "      <th>licenseno</th>\n",
       "      <th>name</th>\n",
       "      <th>order</th>\n",
       "      <th>orderDate</th>\n",
       "      <th>zipcode</th>\n",
       "    </tr>\n",
       "  </thead>\n",
       "  <tbody>\n",
       "    <tr>\n",
       "      <th>0</th>\n",
       "      <td>Cosmetology Esthetician/Manicure Salon</td>\n",
       "      <td>748459</td>\n",
       "      <td>HARRIS</td>\n",
       "      <td>FORMAL NAILS</td>\n",
       "      <td>NaN</td>\n",
       "      <td>NaN</td>\n",
       "      <td>NaN</td>\n",
       "      <td>NaN</td>\n",
       "      <td>2018-01-29</td>\n",
       "      <td>FORMAL NAILS</td>\n",
       "      <td>...</td>\n",
       "      <td>NaN</td>\n",
       "      <td>Respondent failed to keep a record of the date...</td>\n",
       "      <td>HOUSTON</td>\n",
       "      <td>COS20160024894</td>\n",
       "      <td>HARRIS</td>\n",
       "      <td>748459</td>\n",
       "      <td>NGUYEN, PHUONG T</td>\n",
       "      <td>Respondent is assessed an administrative penal...</td>\n",
       "      <td>3/21/2017</td>\n",
       "      <td>77083</td>\n",
       "    </tr>\n",
       "    <tr>\n",
       "      <th>1</th>\n",
       "      <td>Cosmetology Esthetician/Manicure Salon</td>\n",
       "      <td>742837</td>\n",
       "      <td>HARRIS</td>\n",
       "      <td>LUU LUU NAILS &amp; SPA</td>\n",
       "      <td>NaN</td>\n",
       "      <td>NaN</td>\n",
       "      <td>NaN</td>\n",
       "      <td>NaN</td>\n",
       "      <td>2019-02-17</td>\n",
       "      <td>LUU LUU NAILS &amp; SPA</td>\n",
       "      <td>...</td>\n",
       "      <td>NaN</td>\n",
       "      <td>Respondent failed to keep a record of the date...</td>\n",
       "      <td>HOUSTON</td>\n",
       "      <td>COS20170004646</td>\n",
       "      <td>HARRIS</td>\n",
       "      <td>742837</td>\n",
       "      <td>NGUYEN, SUYEN THI</td>\n",
       "      <td>Respondent is assessed an administrative penal...</td>\n",
       "      <td>3/21/2017</td>\n",
       "      <td>77072</td>\n",
       "    </tr>\n",
       "    <tr>\n",
       "      <th>2</th>\n",
       "      <td>Cosmetology Esthetician/Manicure Salon</td>\n",
       "      <td>742837</td>\n",
       "      <td>HARRIS</td>\n",
       "      <td>LUU LUU NAILS &amp; SPA</td>\n",
       "      <td>NaN</td>\n",
       "      <td>NaN</td>\n",
       "      <td>NaN</td>\n",
       "      <td>NaN</td>\n",
       "      <td>2019-02-17</td>\n",
       "      <td>LUU LUU NAILS &amp; SPA</td>\n",
       "      <td>...</td>\n",
       "      <td>NaN</td>\n",
       "      <td>Respondent failed to disinfect tools, implemen...</td>\n",
       "      <td>HOUSTON</td>\n",
       "      <td>COS20160018700</td>\n",
       "      <td>HARRIS</td>\n",
       "      <td>742837</td>\n",
       "      <td>NGUYEN, SUYEN THI</td>\n",
       "      <td>Respondent is assessed an administrative penal...</td>\n",
       "      <td>11/30/2016</td>\n",
       "      <td>77072</td>\n",
       "    </tr>\n",
       "    <tr>\n",
       "      <th>3</th>\n",
       "      <td>Cosmetology Esthetician/Manicure Salon</td>\n",
       "      <td>729680</td>\n",
       "      <td>HARRIS</td>\n",
       "      <td>FANCY NAILS</td>\n",
       "      <td>NaN</td>\n",
       "      <td>NaN</td>\n",
       "      <td>NaN</td>\n",
       "      <td>NaN</td>\n",
       "      <td>2018-08-31</td>\n",
       "      <td>FANCY NAILS</td>\n",
       "      <td>...</td>\n",
       "      <td>NaN</td>\n",
       "      <td>Respondent failed to maintain the required cle...</td>\n",
       "      <td>HOUSTON</td>\n",
       "      <td>COS20170007996</td>\n",
       "      <td>HARRIS</td>\n",
       "      <td>729680</td>\n",
       "      <td>NGUYEN, XUONG MY</td>\n",
       "      <td>Respondent is assessed an administrative penal...</td>\n",
       "      <td>3/21/2017</td>\n",
       "      <td>77066</td>\n",
       "    </tr>\n",
       "    <tr>\n",
       "      <th>4</th>\n",
       "      <td>Cosmetology Beauty Salon</td>\n",
       "      <td>688518</td>\n",
       "      <td>HARRIS</td>\n",
       "      <td>1 HOLLYWOOD NAILS</td>\n",
       "      <td>NaN</td>\n",
       "      <td>NaN</td>\n",
       "      <td>NaN</td>\n",
       "      <td>NaN</td>\n",
       "      <td>2019-01-31</td>\n",
       "      <td>1 HOLLYWOOD NAILS</td>\n",
       "      <td>...</td>\n",
       "      <td>NaN</td>\n",
       "      <td>Respondent failed to keep a record of the date...</td>\n",
       "      <td>HOUSTON</td>\n",
       "      <td>COS20170003822</td>\n",
       "      <td>HARRIS</td>\n",
       "      <td>688518</td>\n",
       "      <td>NGUYEN, NHUNG TUYET</td>\n",
       "      <td>Respondent is assessed an administrative penal...</td>\n",
       "      <td>3/8/2017</td>\n",
       "      <td>77083</td>\n",
       "    </tr>\n",
       "    <tr>\n",
       "      <th>...</th>\n",
       "      <td>...</td>\n",
       "      <td>...</td>\n",
       "      <td>...</td>\n",
       "      <td>...</td>\n",
       "      <td>...</td>\n",
       "      <td>...</td>\n",
       "      <td>...</td>\n",
       "      <td>...</td>\n",
       "      <td>...</td>\n",
       "      <td>...</td>\n",
       "      <td>...</td>\n",
       "      <td>...</td>\n",
       "      <td>...</td>\n",
       "      <td>...</td>\n",
       "      <td>...</td>\n",
       "      <td>...</td>\n",
       "      <td>...</td>\n",
       "      <td>...</td>\n",
       "      <td>...</td>\n",
       "      <td>...</td>\n",
       "      <td>...</td>\n",
       "    </tr>\n",
       "    <tr>\n",
       "      <th>110</th>\n",
       "      <td>Cosmetology Esthetician/Manicure Salon</td>\n",
       "      <td>724124</td>\n",
       "      <td>HARRIS</td>\n",
       "      <td>HAPPY NAILS SPA</td>\n",
       "      <td>NaN</td>\n",
       "      <td>NaN</td>\n",
       "      <td>NaN</td>\n",
       "      <td>NaN</td>\n",
       "      <td>2016-04-28</td>\n",
       "      <td>HAPPY NAILS SPA</td>\n",
       "      <td>...</td>\n",
       "      <td>NaN</td>\n",
       "      <td>Respondent operated a cosmetology salon with a...</td>\n",
       "      <td>HOUSTON</td>\n",
       "      <td>COS20140020041</td>\n",
       "      <td>HARRIS</td>\n",
       "      <td>724124</td>\n",
       "      <td>NGUYEN, THANH N</td>\n",
       "      <td>Respondent is assessed an administrative penal...</td>\n",
       "      <td>9/4/2014</td>\n",
       "      <td>77075</td>\n",
       "    </tr>\n",
       "    <tr>\n",
       "      <th>111</th>\n",
       "      <td>Cosmetology Manicure Salon</td>\n",
       "      <td>738145</td>\n",
       "      <td>HARRIS</td>\n",
       "      <td>SANY'S NAIL</td>\n",
       "      <td>NaN</td>\n",
       "      <td>NaN</td>\n",
       "      <td>NaN</td>\n",
       "      <td>NaN</td>\n",
       "      <td>2018-02-28</td>\n",
       "      <td>SANY'S NAIL</td>\n",
       "      <td>...</td>\n",
       "      <td>NaN</td>\n",
       "      <td>Respondent failed to clean, disinfect, and ste...</td>\n",
       "      <td>HOUSTON</td>\n",
       "      <td>COS20140016481</td>\n",
       "      <td>HARRIS</td>\n",
       "      <td>738145</td>\n",
       "      <td>NGUYEN, KIM DUNG THI</td>\n",
       "      <td>Respondent is assessed an administrative penal...</td>\n",
       "      <td>9/29/2014</td>\n",
       "      <td>77087</td>\n",
       "    </tr>\n",
       "    <tr>\n",
       "      <th>112</th>\n",
       "      <td>Cosmetology Esthetician/Manicure Salon</td>\n",
       "      <td>721462</td>\n",
       "      <td>HARRIS</td>\n",
       "      <td>LEAN NAILS</td>\n",
       "      <td>NaN</td>\n",
       "      <td>NaN</td>\n",
       "      <td>NaN</td>\n",
       "      <td>NaN</td>\n",
       "      <td>2017-04-29</td>\n",
       "      <td>LEAN NAILS</td>\n",
       "      <td>...</td>\n",
       "      <td>NaN</td>\n",
       "      <td>Respondent possessed an electric drill other t...</td>\n",
       "      <td>HOUSTON</td>\n",
       "      <td>COS20130017246</td>\n",
       "      <td>HARRIS</td>\n",
       "      <td>721462</td>\n",
       "      <td>NGUYEN, KHOAN VIET</td>\n",
       "      <td>Respondent is assessed an administrative penal...</td>\n",
       "      <td>9/9/2014</td>\n",
       "      <td>77061</td>\n",
       "    </tr>\n",
       "    <tr>\n",
       "      <th>113</th>\n",
       "      <td>Cosmetology Esthetician/Manicure Salon</td>\n",
       "      <td>743316</td>\n",
       "      <td>HARRIS</td>\n",
       "      <td>RED APPLE NAILS</td>\n",
       "      <td>NaN</td>\n",
       "      <td>NaN</td>\n",
       "      <td>NaN</td>\n",
       "      <td>NaN</td>\n",
       "      <td>2017-02-11</td>\n",
       "      <td>RED APPLE NAILS</td>\n",
       "      <td>...</td>\n",
       "      <td>NaN</td>\n",
       "      <td>Respondent failed to keep a record of the date...</td>\n",
       "      <td>HOUSTON</td>\n",
       "      <td>COS20130020057</td>\n",
       "      <td>HARRIS</td>\n",
       "      <td>743316</td>\n",
       "      <td>NGUYEN, HANG THI</td>\n",
       "      <td>Respondent is assessed an administrative penal...</td>\n",
       "      <td>9/8/2014</td>\n",
       "      <td>77021</td>\n",
       "    </tr>\n",
       "    <tr>\n",
       "      <th>114</th>\n",
       "      <td>Cosmetology Manicurist</td>\n",
       "      <td>1439723</td>\n",
       "      <td>HARRIS</td>\n",
       "      <td>NGUYEN, MINH VAN</td>\n",
       "      <td>NaN</td>\n",
       "      <td>NaN</td>\n",
       "      <td>NaN</td>\n",
       "      <td>NaN</td>\n",
       "      <td>2018-08-14</td>\n",
       "      <td>NGUYEN, MINH VAN</td>\n",
       "      <td>...</td>\n",
       "      <td>NaN</td>\n",
       "      <td>Respondent failed to clean, disinfect, and ste...</td>\n",
       "      <td>HOUSTON</td>\n",
       "      <td>COS20140013051</td>\n",
       "      <td>HARRIS</td>\n",
       "      <td>1439723</td>\n",
       "      <td>NGUYEN, MINH V</td>\n",
       "      <td>Respondent is assessed an administrative penal...</td>\n",
       "      <td>8/12/2014</td>\n",
       "      <td>77064</td>\n",
       "    </tr>\n",
       "  </tbody>\n",
       "</table>\n",
       "<p>115 rows × 30 columns</p>\n",
       "</div>"
      ],
      "text/plain": [
       "                                    LICTYPE LICNUMBER BIZCOUNTY  \\\n",
       "0    Cosmetology Esthetician/Manicure Salon    748459    HARRIS   \n",
       "1    Cosmetology Esthetician/Manicure Salon    742837    HARRIS   \n",
       "2    Cosmetology Esthetician/Manicure Salon    742837    HARRIS   \n",
       "3    Cosmetology Esthetician/Manicure Salon    729680    HARRIS   \n",
       "4                  Cosmetology Beauty Salon    688518    HARRIS   \n",
       "..                                      ...       ...       ...   \n",
       "110  Cosmetology Esthetician/Manicure Salon    724124    HARRIS   \n",
       "111              Cosmetology Manicure Salon    738145    HARRIS   \n",
       "112  Cosmetology Esthetician/Manicure Salon    721462    HARRIS   \n",
       "113  Cosmetology Esthetician/Manicure Salon    743316    HARRIS   \n",
       "114                  Cosmetology Manicurist   1439723    HARRIS   \n",
       "\n",
       "                 BIZNAME  BIZLINE1  BIZLINE2  BIZCITYSTATE  BIZTELEPHONE  \\\n",
       "0           FORMAL NAILS       NaN       NaN           NaN           NaN   \n",
       "1    LUU LUU NAILS & SPA       NaN       NaN           NaN           NaN   \n",
       "2    LUU LUU NAILS & SPA       NaN       NaN           NaN           NaN   \n",
       "3            FANCY NAILS       NaN       NaN           NaN           NaN   \n",
       "4      1 HOLLYWOOD NAILS       NaN       NaN           NaN           NaN   \n",
       "..                   ...       ...       ...           ...           ...   \n",
       "110      HAPPY NAILS SPA       NaN       NaN           NaN           NaN   \n",
       "111          SANY'S NAIL       NaN       NaN           NaN           NaN   \n",
       "112           LEAN NAILS       NaN       NaN           NaN           NaN   \n",
       "113      RED APPLE NAILS       NaN       NaN           NaN           NaN   \n",
       "114     NGUYEN, MINH VAN       NaN       NaN           NaN           NaN   \n",
       "\n",
       "    EXPIRATION                OWNER  ... gender  \\\n",
       "0   2018-01-29         FORMAL NAILS  ...    NaN   \n",
       "1   2019-02-17  LUU LUU NAILS & SPA  ...    NaN   \n",
       "2   2019-02-17  LUU LUU NAILS & SPA  ...    NaN   \n",
       "3   2018-08-31          FANCY NAILS  ...    NaN   \n",
       "4   2019-01-31    1 HOLLYWOOD NAILS  ...    NaN   \n",
       "..         ...                  ...  ...    ...   \n",
       "110 2016-04-28      HAPPY NAILS SPA  ...    NaN   \n",
       "111 2018-02-28          SANY'S NAIL  ...    NaN   \n",
       "112 2017-04-29           LEAN NAILS  ...    NaN   \n",
       "113 2017-02-11      RED APPLE NAILS  ...    NaN   \n",
       "114 2018-08-14     NGUYEN, MINH VAN  ...    NaN   \n",
       "\n",
       "                                                 basis     city  \\\n",
       "0    Respondent failed to keep a record of the date...  HOUSTON   \n",
       "1    Respondent failed to keep a record of the date...  HOUSTON   \n",
       "2    Respondent failed to disinfect tools, implemen...  HOUSTON   \n",
       "3    Respondent failed to maintain the required cle...  HOUSTON   \n",
       "4    Respondent failed to keep a record of the date...  HOUSTON   \n",
       "..                                                 ...      ...   \n",
       "110  Respondent operated a cosmetology salon with a...  HOUSTON   \n",
       "111  Respondent failed to clean, disinfect, and ste...  HOUSTON   \n",
       "112  Respondent possessed an electric drill other t...  HOUSTON   \n",
       "113  Respondent failed to keep a record of the date...  HOUSTON   \n",
       "114  Respondent failed to clean, disinfect, and ste...  HOUSTON   \n",
       "\n",
       "        complaintno  county licenseno                   name  \\\n",
       "0    COS20160024894  HARRIS    748459       NGUYEN, PHUONG T   \n",
       "1    COS20170004646  HARRIS    742837     NGUYEN, SUYEN THI    \n",
       "2    COS20160018700  HARRIS    742837     NGUYEN, SUYEN THI    \n",
       "3    COS20170007996  HARRIS    729680      NGUYEN, XUONG MY    \n",
       "4    COS20170003822  HARRIS    688518   NGUYEN, NHUNG TUYET    \n",
       "..              ...     ...       ...                    ...   \n",
       "110  COS20140020041  HARRIS    724124        NGUYEN, THANH N   \n",
       "111  COS20140016481  HARRIS    738145  NGUYEN, KIM DUNG THI    \n",
       "112  COS20130017246  HARRIS    721462    NGUYEN, KHOAN VIET    \n",
       "113  COS20130020057  HARRIS    743316      NGUYEN, HANG THI    \n",
       "114  COS20140013051  HARRIS   1439723         NGUYEN, MINH V   \n",
       "\n",
       "                                                 order   orderDate zipcode  \n",
       "0    Respondent is assessed an administrative penal...   3/21/2017   77083  \n",
       "1    Respondent is assessed an administrative penal...   3/21/2017   77072  \n",
       "2    Respondent is assessed an administrative penal...  11/30/2016   77072  \n",
       "3    Respondent is assessed an administrative penal...   3/21/2017   77066  \n",
       "4    Respondent is assessed an administrative penal...    3/8/2017   77083  \n",
       "..                                                 ...         ...     ...  \n",
       "110  Respondent is assessed an administrative penal...    9/4/2014   77075  \n",
       "111  Respondent is assessed an administrative penal...   9/29/2014   77087  \n",
       "112  Respondent is assessed an administrative penal...    9/9/2014   77061  \n",
       "113  Respondent is assessed an administrative penal...    9/8/2014   77021  \n",
       "114  Respondent is assessed an administrative penal...   8/12/2014   77064  \n",
       "\n",
       "[115 rows x 30 columns]"
      ]
     },
     "execution_count": 98,
     "metadata": {},
     "output_type": "execute_result"
    }
   ],
   "source": [
    "df3 = pd.merge(df, violations_df, left_on=['LICNUMBER'], right_on=['licenseno'], how='right')\n",
    "df3"
   ]
  },
  {
   "cell_type": "markdown",
   "metadata": {},
   "source": [
    "## 39. Find each violation involving a failure with records. Use a regular expression."
   ]
  },
  {
   "cell_type": "code",
   "execution_count": 104,
   "metadata": {},
   "outputs": [
    {
     "data": {
      "text/plain": [
       "0      Respondent failed to keep a record of the date...\n",
       "1      Respondent failed to keep a record of the date...\n",
       "2      Respondent failed to disinfect tools, implemen...\n",
       "3      Respondent failed to maintain the required cle...\n",
       "4      Respondent failed to keep a record of the date...\n",
       "                             ...                        \n",
       "110    Respondent operated a cosmetology salon with a...\n",
       "111    Respondent failed to clean, disinfect, and ste...\n",
       "112    Respondent possessed an electric drill other t...\n",
       "113    Respondent failed to keep a record of the date...\n",
       "114    Respondent failed to clean, disinfect, and ste...\n",
       "Name: basis, Length: 115, dtype: object"
      ]
     },
     "execution_count": 104,
     "metadata": {},
     "output_type": "execute_result"
    }
   ],
   "source": [
    "df3.basis"
   ]
  },
  {
   "cell_type": "code",
   "execution_count": 108,
   "metadata": {},
   "outputs": [
    {
     "data": {
      "text/plain": [
       "0      Respondent failed to keep a record of the date...\n",
       "1      Respondent failed to keep a record of the date...\n",
       "2                                                    NaN\n",
       "3                                                    NaN\n",
       "4      Respondent failed to keep a record of the date...\n",
       "                             ...                        \n",
       "110                                                  NaN\n",
       "111                                                  NaN\n",
       "112                                                  NaN\n",
       "113    Respondent failed to keep a record of the date...\n",
       "114    Respondent failed to keep a record of the date...\n",
       "Name: basis, Length: 115, dtype: object"
      ]
     },
     "execution_count": 108,
     "metadata": {},
     "output_type": "execute_result"
    }
   ],
   "source": [
    "df3['basis'].str.extract(\"(Respondent failed to keep a record of the date.*$)\", expand=False)"
   ]
  },
  {
   "cell_type": "markdown",
   "metadata": {},
   "source": [
    "## 40. How much money was each fine? Use a regular expression and .str.extract\n",
    "\n",
    "Unfortunately large and helpful troubleshooting tip: `$` means \"end of a line\" in regex, so `.extract` isn't going to accept it as a dollar sign. You need to escape it by using `\\$` instead."
   ]
  },
  {
   "cell_type": "code",
   "execution_count": 111,
   "metadata": {},
   "outputs": [
    {
     "data": {
      "text/plain": [
       "0      Respondent is assessed an administrative penal...\n",
       "1      Respondent is assessed an administrative penal...\n",
       "2      Respondent is assessed an administrative penal...\n",
       "3      Respondent is assessed an administrative penal...\n",
       "4      Respondent is assessed an administrative penal...\n",
       "                             ...                        \n",
       "110    Respondent is assessed an administrative penal...\n",
       "111    Respondent is assessed an administrative penal...\n",
       "112    Respondent is assessed an administrative penal...\n",
       "113    Respondent is assessed an administrative penal...\n",
       "114    Respondent is assessed an administrative penal...\n",
       "Name: order, Length: 115, dtype: object"
      ]
     },
     "execution_count": 111,
     "metadata": {},
     "output_type": "execute_result"
    }
   ],
   "source": [
    "df3.order"
   ]
  },
  {
   "cell_type": "code",
   "execution_count": 151,
   "metadata": {},
   "outputs": [],
   "source": [
    "df3['fine'] = df3['order'].str.extract(\"Respondent is assessed an administrative penalty in the amount of \\$(\\d.*\\d).\", expand=False)"
   ]
  },
  {
   "cell_type": "code",
   "execution_count": 152,
   "metadata": {},
   "outputs": [
    {
     "data": {
      "text/plain": [
       "0      300\n",
       "1      500\n",
       "2      750\n",
       "3    1,875\n",
       "4      375\n",
       "5      NaN\n",
       "6    1,800\n",
       "7    1,125\n",
       "8      750\n",
       "9      750\n",
       "Name: fine, dtype: object"
      ]
     },
     "execution_count": 152,
     "metadata": {},
     "output_type": "execute_result"
    }
   ],
   "source": [
    "df3.fine.head(10)"
   ]
  },
  {
   "cell_type": "code",
   "execution_count": 153,
   "metadata": {},
   "outputs": [
    {
     "data": {
      "text/plain": [
       "750      24\n",
       "500      17\n",
       "375      10\n",
       "1,500     9\n",
       "1,000     8\n",
       "250       5\n",
       "1,125     5\n",
       "575       3\n",
       "875       3\n",
       "625       3\n",
       "225       2\n",
       "1,250     2\n",
       "150       2\n",
       "550       2\n",
       "975       1\n",
       "850       1\n",
       "300       1\n",
       "2,200     1\n",
       "2,250     1\n",
       "1,600     1\n",
       "600       1\n",
       "4,000     1\n",
       "925       1\n",
       "1,695     1\n",
       "3,750     1\n",
       "400       1\n",
       "1,150     1\n",
       "1,800     1\n",
       "1,625     1\n",
       "1,650     1\n",
       "1,875     1\n",
       "Name: fine, dtype: int64"
      ]
     },
     "execution_count": 153,
     "metadata": {},
     "output_type": "execute_result"
    }
   ],
   "source": [
    "df3.fine.value_counts()"
   ]
  },
  {
   "cell_type": "markdown",
   "metadata": {},
   "source": [
    "## 41. Clean those results (no commas, no dollar signs, and it should be an integer) and save it to a new column called `fine`\n",
    "\n",
    "`.replace` is for *entire cells*, you're interested in `.str.replace`, which treats each value like a string, not like a... pandas thing.\n",
    "\n",
    "`.astype(int)` will convert it into an integer for you."
   ]
  },
  {
   "cell_type": "code",
   "execution_count": 161,
   "metadata": {},
   "outputs": [],
   "source": [
    "df3['fine'] = df3['fine'].str.replace(',', '')"
   ]
  },
  {
   "cell_type": "code",
   "execution_count": 162,
   "metadata": {},
   "outputs": [],
   "source": [
    "df3.fine.fillna(0, inplace=True)"
   ]
  },
  {
   "cell_type": "code",
   "execution_count": 164,
   "metadata": {},
   "outputs": [
    {
     "data": {
      "text/plain": [
       "0       300\n",
       "1       500\n",
       "2       750\n",
       "3      1875\n",
       "4       375\n",
       "       ... \n",
       "110     150\n",
       "111     575\n",
       "112     500\n",
       "113    1000\n",
       "114    1250\n",
       "Name: fine, Length: 115, dtype: int64"
      ]
     },
     "execution_count": 164,
     "metadata": {},
     "output_type": "execute_result"
    }
   ],
   "source": [
    "df3.fine.astype(int)"
   ]
  },
  {
   "cell_type": "markdown",
   "metadata": {},
   "source": [
    "## 42. Which orders results in the top fines?"
   ]
  },
  {
   "cell_type": "code",
   "execution_count": 174,
   "metadata": {},
   "outputs": [
    {
     "data": {
      "text/plain": [
       "24    Respondent failed to keep a record of the date...\n",
       "17    Respondent failed to disinfect tools, implemen...\n",
       "10    Respondent performed or attempted to perform a...\n",
       "9     Respondent performed or attempted to perform a...\n",
       "8     Respondent failed to keep a record of the date...\n",
       "Name: basis, dtype: object"
      ]
     },
     "execution_count": 174,
     "metadata": {},
     "output_type": "execute_result"
    }
   ],
   "source": [
    "df3.basis[df3.fine.value_counts().head()]"
   ]
  },
  {
   "cell_type": "markdown",
   "metadata": {},
   "source": [
    "## 43. Are you still here???\n",
    "\n",
    "I'm sure impressed."
   ]
  }
 ],
 "metadata": {
  "kernelspec": {
   "display_name": "Python 3",
   "language": "python",
   "name": "python3"
  },
  "language_info": {
   "codemirror_mode": {
    "name": "ipython",
    "version": 3
   },
   "file_extension": ".py",
   "mimetype": "text/x-python",
   "name": "python",
   "nbconvert_exporter": "python",
   "pygments_lexer": "ipython3",
   "version": "3.7.1"
  }
 },
 "nbformat": 4,
 "nbformat_minor": 2
}
