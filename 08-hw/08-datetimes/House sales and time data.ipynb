{
 "cells": [
  {
   "cell_type": "markdown",
   "metadata": {},
   "source": [
    "# Processing time with `pandas`\n",
    "\n",
    "Let's open up some data from [the Census bureau](https://www.census.gov/econ/currentdata/datasets/) - we're going to use **New Home Sales**. The data is formatted... oddly, so I've cleaned it up for you as **home-sales.csv** inside of the **data** folder.\n",
    "\n",
    "Open it **without moving it**. Tab autocomplete will help you."
   ]
  },
  {
   "cell_type": "code",
   "execution_count": 2,
   "metadata": {},
   "outputs": [
    {
     "name": "stdout",
     "output_type": "stream",
     "text": [
      "House sales and time data.ipynb home-sales.csv\r\n"
     ]
    }
   ],
   "source": [
    "!ls"
   ]
  },
  {
   "cell_type": "code",
   "execution_count": 3,
   "metadata": {
    "scrolled": true
   },
   "outputs": [],
   "source": [
    "import pandas as pd\n",
    "df = pd.read_csv(\"home-sales.csv\")"
   ]
  },
  {
   "cell_type": "code",
   "execution_count": 4,
   "metadata": {},
   "outputs": [
    {
     "data": {
      "text/html": [
       "<div>\n",
       "<style scoped>\n",
       "    .dataframe tbody tr th:only-of-type {\n",
       "        vertical-align: middle;\n",
       "    }\n",
       "\n",
       "    .dataframe tbody tr th {\n",
       "        vertical-align: top;\n",
       "    }\n",
       "\n",
       "    .dataframe thead th {\n",
       "        text-align: right;\n",
       "    }\n",
       "</style>\n",
       "<table border=\"1\" class=\"dataframe\">\n",
       "  <thead>\n",
       "    <tr style=\"text-align: right;\">\n",
       "      <th></th>\n",
       "      <th>is_adj</th>\n",
       "      <th>val</th>\n",
       "      <th>cat_code</th>\n",
       "      <th>cat_desc</th>\n",
       "      <th>cat_indent</th>\n",
       "      <th>dt_code</th>\n",
       "      <th>dt_desc</th>\n",
       "      <th>dt_unit</th>\n",
       "      <th>geo_code</th>\n",
       "      <th>geo_desc</th>\n",
       "      <th>per_name</th>\n",
       "    </tr>\n",
       "  </thead>\n",
       "  <tbody>\n",
       "    <tr>\n",
       "      <th>0</th>\n",
       "      <td>0</td>\n",
       "      <td>42.0</td>\n",
       "      <td>SOLD</td>\n",
       "      <td>New Single-family Houses Sold</td>\n",
       "      <td>0</td>\n",
       "      <td>TOTAL</td>\n",
       "      <td>All Houses</td>\n",
       "      <td>K</td>\n",
       "      <td>US</td>\n",
       "      <td>United States</td>\n",
       "      <td>1963-01-01</td>\n",
       "    </tr>\n",
       "    <tr>\n",
       "      <th>1</th>\n",
       "      <td>0</td>\n",
       "      <td>35.0</td>\n",
       "      <td>SOLD</td>\n",
       "      <td>New Single-family Houses Sold</td>\n",
       "      <td>0</td>\n",
       "      <td>TOTAL</td>\n",
       "      <td>All Houses</td>\n",
       "      <td>K</td>\n",
       "      <td>US</td>\n",
       "      <td>United States</td>\n",
       "      <td>1963-02-01</td>\n",
       "    </tr>\n",
       "    <tr>\n",
       "      <th>2</th>\n",
       "      <td>0</td>\n",
       "      <td>44.0</td>\n",
       "      <td>SOLD</td>\n",
       "      <td>New Single-family Houses Sold</td>\n",
       "      <td>0</td>\n",
       "      <td>TOTAL</td>\n",
       "      <td>All Houses</td>\n",
       "      <td>K</td>\n",
       "      <td>US</td>\n",
       "      <td>United States</td>\n",
       "      <td>1963-03-01</td>\n",
       "    </tr>\n",
       "    <tr>\n",
       "      <th>3</th>\n",
       "      <td>0</td>\n",
       "      <td>52.0</td>\n",
       "      <td>SOLD</td>\n",
       "      <td>New Single-family Houses Sold</td>\n",
       "      <td>0</td>\n",
       "      <td>TOTAL</td>\n",
       "      <td>All Houses</td>\n",
       "      <td>K</td>\n",
       "      <td>US</td>\n",
       "      <td>United States</td>\n",
       "      <td>1963-04-01</td>\n",
       "    </tr>\n",
       "    <tr>\n",
       "      <th>4</th>\n",
       "      <td>0</td>\n",
       "      <td>58.0</td>\n",
       "      <td>SOLD</td>\n",
       "      <td>New Single-family Houses Sold</td>\n",
       "      <td>0</td>\n",
       "      <td>TOTAL</td>\n",
       "      <td>All Houses</td>\n",
       "      <td>K</td>\n",
       "      <td>US</td>\n",
       "      <td>United States</td>\n",
       "      <td>1963-05-01</td>\n",
       "    </tr>\n",
       "  </tbody>\n",
       "</table>\n",
       "</div>"
      ],
      "text/plain": [
       "   is_adj   val cat_code                       cat_desc  cat_indent dt_code  \\\n",
       "0       0  42.0     SOLD  New Single-family Houses Sold           0   TOTAL   \n",
       "1       0  35.0     SOLD  New Single-family Houses Sold           0   TOTAL   \n",
       "2       0  44.0     SOLD  New Single-family Houses Sold           0   TOTAL   \n",
       "3       0  52.0     SOLD  New Single-family Houses Sold           0   TOTAL   \n",
       "4       0  58.0     SOLD  New Single-family Houses Sold           0   TOTAL   \n",
       "\n",
       "      dt_desc dt_unit geo_code       geo_desc    per_name  \n",
       "0  All Houses       K       US  United States  1963-01-01  \n",
       "1  All Houses       K       US  United States  1963-02-01  \n",
       "2  All Houses       K       US  United States  1963-03-01  \n",
       "3  All Houses       K       US  United States  1963-04-01  \n",
       "4  All Houses       K       US  United States  1963-05-01  "
      ]
     },
     "execution_count": 4,
     "metadata": {},
     "output_type": "execute_result"
    }
   ],
   "source": [
    "df.head()"
   ]
  },
  {
   "cell_type": "markdown",
   "metadata": {},
   "source": [
    "## Creating a datetime column"
   ]
  },
  {
   "cell_type": "code",
   "execution_count": 5,
   "metadata": {},
   "outputs": [
    {
     "data": {
      "text/html": [
       "<div>\n",
       "<style scoped>\n",
       "    .dataframe tbody tr th:only-of-type {\n",
       "        vertical-align: middle;\n",
       "    }\n",
       "\n",
       "    .dataframe tbody tr th {\n",
       "        vertical-align: top;\n",
       "    }\n",
       "\n",
       "    .dataframe thead th {\n",
       "        text-align: right;\n",
       "    }\n",
       "</style>\n",
       "<table border=\"1\" class=\"dataframe\">\n",
       "  <thead>\n",
       "    <tr style=\"text-align: right;\">\n",
       "      <th></th>\n",
       "      <th>is_adj</th>\n",
       "      <th>val</th>\n",
       "      <th>cat_code</th>\n",
       "      <th>cat_desc</th>\n",
       "      <th>cat_indent</th>\n",
       "      <th>dt_code</th>\n",
       "      <th>dt_desc</th>\n",
       "      <th>dt_unit</th>\n",
       "      <th>geo_code</th>\n",
       "      <th>geo_desc</th>\n",
       "      <th>per_name</th>\n",
       "      <th>date</th>\n",
       "    </tr>\n",
       "  </thead>\n",
       "  <tbody>\n",
       "    <tr>\n",
       "      <th>0</th>\n",
       "      <td>0</td>\n",
       "      <td>42.0</td>\n",
       "      <td>SOLD</td>\n",
       "      <td>New Single-family Houses Sold</td>\n",
       "      <td>0</td>\n",
       "      <td>TOTAL</td>\n",
       "      <td>All Houses</td>\n",
       "      <td>K</td>\n",
       "      <td>US</td>\n",
       "      <td>United States</td>\n",
       "      <td>1963-01-01</td>\n",
       "      <td>1963-01-01</td>\n",
       "    </tr>\n",
       "    <tr>\n",
       "      <th>1</th>\n",
       "      <td>0</td>\n",
       "      <td>35.0</td>\n",
       "      <td>SOLD</td>\n",
       "      <td>New Single-family Houses Sold</td>\n",
       "      <td>0</td>\n",
       "      <td>TOTAL</td>\n",
       "      <td>All Houses</td>\n",
       "      <td>K</td>\n",
       "      <td>US</td>\n",
       "      <td>United States</td>\n",
       "      <td>1963-02-01</td>\n",
       "      <td>1963-02-01</td>\n",
       "    </tr>\n",
       "    <tr>\n",
       "      <th>2</th>\n",
       "      <td>0</td>\n",
       "      <td>44.0</td>\n",
       "      <td>SOLD</td>\n",
       "      <td>New Single-family Houses Sold</td>\n",
       "      <td>0</td>\n",
       "      <td>TOTAL</td>\n",
       "      <td>All Houses</td>\n",
       "      <td>K</td>\n",
       "      <td>US</td>\n",
       "      <td>United States</td>\n",
       "      <td>1963-03-01</td>\n",
       "      <td>1963-03-01</td>\n",
       "    </tr>\n",
       "    <tr>\n",
       "      <th>3</th>\n",
       "      <td>0</td>\n",
       "      <td>52.0</td>\n",
       "      <td>SOLD</td>\n",
       "      <td>New Single-family Houses Sold</td>\n",
       "      <td>0</td>\n",
       "      <td>TOTAL</td>\n",
       "      <td>All Houses</td>\n",
       "      <td>K</td>\n",
       "      <td>US</td>\n",
       "      <td>United States</td>\n",
       "      <td>1963-04-01</td>\n",
       "      <td>1963-04-01</td>\n",
       "    </tr>\n",
       "    <tr>\n",
       "      <th>4</th>\n",
       "      <td>0</td>\n",
       "      <td>58.0</td>\n",
       "      <td>SOLD</td>\n",
       "      <td>New Single-family Houses Sold</td>\n",
       "      <td>0</td>\n",
       "      <td>TOTAL</td>\n",
       "      <td>All Houses</td>\n",
       "      <td>K</td>\n",
       "      <td>US</td>\n",
       "      <td>United States</td>\n",
       "      <td>1963-05-01</td>\n",
       "      <td>1963-05-01</td>\n",
       "    </tr>\n",
       "  </tbody>\n",
       "</table>\n",
       "</div>"
      ],
      "text/plain": [
       "   is_adj   val cat_code                       cat_desc  cat_indent dt_code  \\\n",
       "0       0  42.0     SOLD  New Single-family Houses Sold           0   TOTAL   \n",
       "1       0  35.0     SOLD  New Single-family Houses Sold           0   TOTAL   \n",
       "2       0  44.0     SOLD  New Single-family Houses Sold           0   TOTAL   \n",
       "3       0  52.0     SOLD  New Single-family Houses Sold           0   TOTAL   \n",
       "4       0  58.0     SOLD  New Single-family Houses Sold           0   TOTAL   \n",
       "\n",
       "      dt_desc dt_unit geo_code       geo_desc    per_name       date  \n",
       "0  All Houses       K       US  United States  1963-01-01 1963-01-01  \n",
       "1  All Houses       K       US  United States  1963-02-01 1963-02-01  \n",
       "2  All Houses       K       US  United States  1963-03-01 1963-03-01  \n",
       "3  All Houses       K       US  United States  1963-04-01 1963-04-01  \n",
       "4  All Houses       K       US  United States  1963-05-01 1963-05-01  "
      ]
     },
     "execution_count": 5,
     "metadata": {},
     "output_type": "execute_result"
    }
   ],
   "source": [
    "df['date'] = pd.to_datetime(df.per_name)\n",
    "df.head()"
   ]
  },
  {
   "cell_type": "markdown",
   "metadata": {},
   "source": [
    "## Changing the index to the datetime\n",
    "\n",
    "Normally the index of the column is just a number."
   ]
  },
  {
   "cell_type": "code",
   "execution_count": null,
   "metadata": {},
   "outputs": [],
   "source": [
    "df = df.set_index('date')"
   ]
  },
  {
   "cell_type": "markdown",
   "metadata": {},
   "source": [
    "It's the column on the far left - `0`, `1`, `2`, `3`, `4`... boring and useless! If we use **.set_index** to replace the index with the datetime, though, we can start to have some fun"
   ]
  },
  {
   "cell_type": "code",
   "execution_count": 8,
   "metadata": {},
   "outputs": [
    {
     "data": {
      "text/html": [
       "<div>\n",
       "<style scoped>\n",
       "    .dataframe tbody tr th:only-of-type {\n",
       "        vertical-align: middle;\n",
       "    }\n",
       "\n",
       "    .dataframe tbody tr th {\n",
       "        vertical-align: top;\n",
       "    }\n",
       "\n",
       "    .dataframe thead th {\n",
       "        text-align: right;\n",
       "    }\n",
       "</style>\n",
       "<table border=\"1\" class=\"dataframe\">\n",
       "  <thead>\n",
       "    <tr style=\"text-align: right;\">\n",
       "      <th></th>\n",
       "      <th>is_adj</th>\n",
       "      <th>val</th>\n",
       "      <th>cat_code</th>\n",
       "      <th>cat_desc</th>\n",
       "      <th>cat_indent</th>\n",
       "      <th>dt_code</th>\n",
       "      <th>dt_desc</th>\n",
       "      <th>dt_unit</th>\n",
       "      <th>geo_code</th>\n",
       "      <th>geo_desc</th>\n",
       "      <th>per_name</th>\n",
       "    </tr>\n",
       "    <tr>\n",
       "      <th>date</th>\n",
       "      <th></th>\n",
       "      <th></th>\n",
       "      <th></th>\n",
       "      <th></th>\n",
       "      <th></th>\n",
       "      <th></th>\n",
       "      <th></th>\n",
       "      <th></th>\n",
       "      <th></th>\n",
       "      <th></th>\n",
       "      <th></th>\n",
       "    </tr>\n",
       "  </thead>\n",
       "  <tbody>\n",
       "    <tr>\n",
       "      <th>1963-01-01</th>\n",
       "      <td>0</td>\n",
       "      <td>42.0</td>\n",
       "      <td>SOLD</td>\n",
       "      <td>New Single-family Houses Sold</td>\n",
       "      <td>0</td>\n",
       "      <td>TOTAL</td>\n",
       "      <td>All Houses</td>\n",
       "      <td>K</td>\n",
       "      <td>US</td>\n",
       "      <td>United States</td>\n",
       "      <td>1963-01-01</td>\n",
       "    </tr>\n",
       "    <tr>\n",
       "      <th>1963-02-01</th>\n",
       "      <td>0</td>\n",
       "      <td>35.0</td>\n",
       "      <td>SOLD</td>\n",
       "      <td>New Single-family Houses Sold</td>\n",
       "      <td>0</td>\n",
       "      <td>TOTAL</td>\n",
       "      <td>All Houses</td>\n",
       "      <td>K</td>\n",
       "      <td>US</td>\n",
       "      <td>United States</td>\n",
       "      <td>1963-02-01</td>\n",
       "    </tr>\n",
       "    <tr>\n",
       "      <th>1963-03-01</th>\n",
       "      <td>0</td>\n",
       "      <td>44.0</td>\n",
       "      <td>SOLD</td>\n",
       "      <td>New Single-family Houses Sold</td>\n",
       "      <td>0</td>\n",
       "      <td>TOTAL</td>\n",
       "      <td>All Houses</td>\n",
       "      <td>K</td>\n",
       "      <td>US</td>\n",
       "      <td>United States</td>\n",
       "      <td>1963-03-01</td>\n",
       "    </tr>\n",
       "    <tr>\n",
       "      <th>1963-04-01</th>\n",
       "      <td>0</td>\n",
       "      <td>52.0</td>\n",
       "      <td>SOLD</td>\n",
       "      <td>New Single-family Houses Sold</td>\n",
       "      <td>0</td>\n",
       "      <td>TOTAL</td>\n",
       "      <td>All Houses</td>\n",
       "      <td>K</td>\n",
       "      <td>US</td>\n",
       "      <td>United States</td>\n",
       "      <td>1963-04-01</td>\n",
       "    </tr>\n",
       "    <tr>\n",
       "      <th>1963-05-01</th>\n",
       "      <td>0</td>\n",
       "      <td>58.0</td>\n",
       "      <td>SOLD</td>\n",
       "      <td>New Single-family Houses Sold</td>\n",
       "      <td>0</td>\n",
       "      <td>TOTAL</td>\n",
       "      <td>All Houses</td>\n",
       "      <td>K</td>\n",
       "      <td>US</td>\n",
       "      <td>United States</td>\n",
       "      <td>1963-05-01</td>\n",
       "    </tr>\n",
       "  </tbody>\n",
       "</table>\n",
       "</div>"
      ],
      "text/plain": [
       "            is_adj   val cat_code                       cat_desc  cat_indent  \\\n",
       "date                                                                           \n",
       "1963-01-01       0  42.0     SOLD  New Single-family Houses Sold           0   \n",
       "1963-02-01       0  35.0     SOLD  New Single-family Houses Sold           0   \n",
       "1963-03-01       0  44.0     SOLD  New Single-family Houses Sold           0   \n",
       "1963-04-01       0  52.0     SOLD  New Single-family Houses Sold           0   \n",
       "1963-05-01       0  58.0     SOLD  New Single-family Houses Sold           0   \n",
       "\n",
       "           dt_code     dt_desc dt_unit geo_code       geo_desc    per_name  \n",
       "date                                                                        \n",
       "1963-01-01   TOTAL  All Houses       K       US  United States  1963-01-01  \n",
       "1963-02-01   TOTAL  All Houses       K       US  United States  1963-02-01  \n",
       "1963-03-01   TOTAL  All Houses       K       US  United States  1963-03-01  \n",
       "1963-04-01   TOTAL  All Houses       K       US  United States  1963-04-01  \n",
       "1963-05-01   TOTAL  All Houses       K       US  United States  1963-05-01  "
      ]
     },
     "execution_count": 8,
     "metadata": {},
     "output_type": "execute_result"
    }
   ],
   "source": [
    "df.head()"
   ]
  },
  {
   "cell_type": "markdown",
   "metadata": {},
   "source": [
    "## Selecting specific(-ish) dates via the index\n",
    "\n",
    "Now that our index is a datetime, we can select date ranges super super easily.\n",
    "\n",
    "### Selecting by month\n",
    "\n",
    "Select every row from March, 1999."
   ]
  },
  {
   "cell_type": "code",
   "execution_count": 9,
   "metadata": {},
   "outputs": [
    {
     "data": {
      "text/html": [
       "<div>\n",
       "<style scoped>\n",
       "    .dataframe tbody tr th:only-of-type {\n",
       "        vertical-align: middle;\n",
       "    }\n",
       "\n",
       "    .dataframe tbody tr th {\n",
       "        vertical-align: top;\n",
       "    }\n",
       "\n",
       "    .dataframe thead th {\n",
       "        text-align: right;\n",
       "    }\n",
       "</style>\n",
       "<table border=\"1\" class=\"dataframe\">\n",
       "  <thead>\n",
       "    <tr style=\"text-align: right;\">\n",
       "      <th></th>\n",
       "      <th>is_adj</th>\n",
       "      <th>val</th>\n",
       "      <th>cat_code</th>\n",
       "      <th>cat_desc</th>\n",
       "      <th>cat_indent</th>\n",
       "      <th>dt_code</th>\n",
       "      <th>dt_desc</th>\n",
       "      <th>dt_unit</th>\n",
       "      <th>geo_code</th>\n",
       "      <th>geo_desc</th>\n",
       "      <th>per_name</th>\n",
       "    </tr>\n",
       "    <tr>\n",
       "      <th>date</th>\n",
       "      <th></th>\n",
       "      <th></th>\n",
       "      <th></th>\n",
       "      <th></th>\n",
       "      <th></th>\n",
       "      <th></th>\n",
       "      <th></th>\n",
       "      <th></th>\n",
       "      <th></th>\n",
       "      <th></th>\n",
       "      <th></th>\n",
       "    </tr>\n",
       "  </thead>\n",
       "  <tbody>\n",
       "    <tr>\n",
       "      <th>1999-03-01</th>\n",
       "      <td>0</td>\n",
       "      <td>84.0</td>\n",
       "      <td>SOLD</td>\n",
       "      <td>New Single-family Houses Sold</td>\n",
       "      <td>0</td>\n",
       "      <td>TOTAL</td>\n",
       "      <td>All Houses</td>\n",
       "      <td>K</td>\n",
       "      <td>US</td>\n",
       "      <td>United States</td>\n",
       "      <td>1999-03-01</td>\n",
       "    </tr>\n",
       "  </tbody>\n",
       "</table>\n",
       "</div>"
      ],
      "text/plain": [
       "            is_adj   val cat_code                       cat_desc  cat_indent  \\\n",
       "date                                                                           \n",
       "1999-03-01       0  84.0     SOLD  New Single-family Houses Sold           0   \n",
       "\n",
       "           dt_code     dt_desc dt_unit geo_code       geo_desc    per_name  \n",
       "date                                                                        \n",
       "1999-03-01   TOTAL  All Houses       K       US  United States  1999-03-01  "
      ]
     },
     "execution_count": 9,
     "metadata": {},
     "output_type": "execute_result"
    }
   ],
   "source": [
    "df['1999-03']"
   ]
  },
  {
   "cell_type": "markdown",
   "metadata": {},
   "source": [
    "### Selecting by year\n",
    "\n",
    "Select every row from 1996."
   ]
  },
  {
   "cell_type": "code",
   "execution_count": 11,
   "metadata": {},
   "outputs": [
    {
     "data": {
      "text/html": [
       "<div>\n",
       "<style scoped>\n",
       "    .dataframe tbody tr th:only-of-type {\n",
       "        vertical-align: middle;\n",
       "    }\n",
       "\n",
       "    .dataframe tbody tr th {\n",
       "        vertical-align: top;\n",
       "    }\n",
       "\n",
       "    .dataframe thead th {\n",
       "        text-align: right;\n",
       "    }\n",
       "</style>\n",
       "<table border=\"1\" class=\"dataframe\">\n",
       "  <thead>\n",
       "    <tr style=\"text-align: right;\">\n",
       "      <th></th>\n",
       "      <th>is_adj</th>\n",
       "      <th>val</th>\n",
       "      <th>cat_code</th>\n",
       "      <th>cat_desc</th>\n",
       "      <th>cat_indent</th>\n",
       "      <th>dt_code</th>\n",
       "      <th>dt_desc</th>\n",
       "      <th>dt_unit</th>\n",
       "      <th>geo_code</th>\n",
       "      <th>geo_desc</th>\n",
       "      <th>per_name</th>\n",
       "    </tr>\n",
       "    <tr>\n",
       "      <th>date</th>\n",
       "      <th></th>\n",
       "      <th></th>\n",
       "      <th></th>\n",
       "      <th></th>\n",
       "      <th></th>\n",
       "      <th></th>\n",
       "      <th></th>\n",
       "      <th></th>\n",
       "      <th></th>\n",
       "      <th></th>\n",
       "      <th></th>\n",
       "    </tr>\n",
       "  </thead>\n",
       "  <tbody>\n",
       "    <tr>\n",
       "      <th>1996-01-01</th>\n",
       "      <td>0</td>\n",
       "      <td>54.0</td>\n",
       "      <td>SOLD</td>\n",
       "      <td>New Single-family Houses Sold</td>\n",
       "      <td>0</td>\n",
       "      <td>TOTAL</td>\n",
       "      <td>All Houses</td>\n",
       "      <td>K</td>\n",
       "      <td>US</td>\n",
       "      <td>United States</td>\n",
       "      <td>1996-01-01</td>\n",
       "    </tr>\n",
       "    <tr>\n",
       "      <th>1996-02-01</th>\n",
       "      <td>0</td>\n",
       "      <td>68.0</td>\n",
       "      <td>SOLD</td>\n",
       "      <td>New Single-family Houses Sold</td>\n",
       "      <td>0</td>\n",
       "      <td>TOTAL</td>\n",
       "      <td>All Houses</td>\n",
       "      <td>K</td>\n",
       "      <td>US</td>\n",
       "      <td>United States</td>\n",
       "      <td>1996-02-01</td>\n",
       "    </tr>\n",
       "    <tr>\n",
       "      <th>1996-03-01</th>\n",
       "      <td>0</td>\n",
       "      <td>70.0</td>\n",
       "      <td>SOLD</td>\n",
       "      <td>New Single-family Houses Sold</td>\n",
       "      <td>0</td>\n",
       "      <td>TOTAL</td>\n",
       "      <td>All Houses</td>\n",
       "      <td>K</td>\n",
       "      <td>US</td>\n",
       "      <td>United States</td>\n",
       "      <td>1996-03-01</td>\n",
       "    </tr>\n",
       "    <tr>\n",
       "      <th>1996-04-01</th>\n",
       "      <td>0</td>\n",
       "      <td>70.0</td>\n",
       "      <td>SOLD</td>\n",
       "      <td>New Single-family Houses Sold</td>\n",
       "      <td>0</td>\n",
       "      <td>TOTAL</td>\n",
       "      <td>All Houses</td>\n",
       "      <td>K</td>\n",
       "      <td>US</td>\n",
       "      <td>United States</td>\n",
       "      <td>1996-04-01</td>\n",
       "    </tr>\n",
       "    <tr>\n",
       "      <th>1996-05-01</th>\n",
       "      <td>0</td>\n",
       "      <td>69.0</td>\n",
       "      <td>SOLD</td>\n",
       "      <td>New Single-family Houses Sold</td>\n",
       "      <td>0</td>\n",
       "      <td>TOTAL</td>\n",
       "      <td>All Houses</td>\n",
       "      <td>K</td>\n",
       "      <td>US</td>\n",
       "      <td>United States</td>\n",
       "      <td>1996-05-01</td>\n",
       "    </tr>\n",
       "    <tr>\n",
       "      <th>1996-06-01</th>\n",
       "      <td>0</td>\n",
       "      <td>65.0</td>\n",
       "      <td>SOLD</td>\n",
       "      <td>New Single-family Houses Sold</td>\n",
       "      <td>0</td>\n",
       "      <td>TOTAL</td>\n",
       "      <td>All Houses</td>\n",
       "      <td>K</td>\n",
       "      <td>US</td>\n",
       "      <td>United States</td>\n",
       "      <td>1996-06-01</td>\n",
       "    </tr>\n",
       "    <tr>\n",
       "      <th>1996-07-01</th>\n",
       "      <td>0</td>\n",
       "      <td>66.0</td>\n",
       "      <td>SOLD</td>\n",
       "      <td>New Single-family Houses Sold</td>\n",
       "      <td>0</td>\n",
       "      <td>TOTAL</td>\n",
       "      <td>All Houses</td>\n",
       "      <td>K</td>\n",
       "      <td>US</td>\n",
       "      <td>United States</td>\n",
       "      <td>1996-07-01</td>\n",
       "    </tr>\n",
       "    <tr>\n",
       "      <th>1996-08-01</th>\n",
       "      <td>0</td>\n",
       "      <td>73.0</td>\n",
       "      <td>SOLD</td>\n",
       "      <td>New Single-family Houses Sold</td>\n",
       "      <td>0</td>\n",
       "      <td>TOTAL</td>\n",
       "      <td>All Houses</td>\n",
       "      <td>K</td>\n",
       "      <td>US</td>\n",
       "      <td>United States</td>\n",
       "      <td>1996-08-01</td>\n",
       "    </tr>\n",
       "    <tr>\n",
       "      <th>1996-09-01</th>\n",
       "      <td>0</td>\n",
       "      <td>62.0</td>\n",
       "      <td>SOLD</td>\n",
       "      <td>New Single-family Houses Sold</td>\n",
       "      <td>0</td>\n",
       "      <td>TOTAL</td>\n",
       "      <td>All Houses</td>\n",
       "      <td>K</td>\n",
       "      <td>US</td>\n",
       "      <td>United States</td>\n",
       "      <td>1996-09-01</td>\n",
       "    </tr>\n",
       "    <tr>\n",
       "      <th>1996-10-01</th>\n",
       "      <td>0</td>\n",
       "      <td>56.0</td>\n",
       "      <td>SOLD</td>\n",
       "      <td>New Single-family Houses Sold</td>\n",
       "      <td>0</td>\n",
       "      <td>TOTAL</td>\n",
       "      <td>All Houses</td>\n",
       "      <td>K</td>\n",
       "      <td>US</td>\n",
       "      <td>United States</td>\n",
       "      <td>1996-10-01</td>\n",
       "    </tr>\n",
       "    <tr>\n",
       "      <th>1996-11-01</th>\n",
       "      <td>0</td>\n",
       "      <td>54.0</td>\n",
       "      <td>SOLD</td>\n",
       "      <td>New Single-family Houses Sold</td>\n",
       "      <td>0</td>\n",
       "      <td>TOTAL</td>\n",
       "      <td>All Houses</td>\n",
       "      <td>K</td>\n",
       "      <td>US</td>\n",
       "      <td>United States</td>\n",
       "      <td>1996-11-01</td>\n",
       "    </tr>\n",
       "    <tr>\n",
       "      <th>1996-12-01</th>\n",
       "      <td>0</td>\n",
       "      <td>51.0</td>\n",
       "      <td>SOLD</td>\n",
       "      <td>New Single-family Houses Sold</td>\n",
       "      <td>0</td>\n",
       "      <td>TOTAL</td>\n",
       "      <td>All Houses</td>\n",
       "      <td>K</td>\n",
       "      <td>US</td>\n",
       "      <td>United States</td>\n",
       "      <td>1996-12-01</td>\n",
       "    </tr>\n",
       "  </tbody>\n",
       "</table>\n",
       "</div>"
      ],
      "text/plain": [
       "            is_adj   val cat_code                       cat_desc  cat_indent  \\\n",
       "date                                                                           \n",
       "1996-01-01       0  54.0     SOLD  New Single-family Houses Sold           0   \n",
       "1996-02-01       0  68.0     SOLD  New Single-family Houses Sold           0   \n",
       "1996-03-01       0  70.0     SOLD  New Single-family Houses Sold           0   \n",
       "1996-04-01       0  70.0     SOLD  New Single-family Houses Sold           0   \n",
       "1996-05-01       0  69.0     SOLD  New Single-family Houses Sold           0   \n",
       "1996-06-01       0  65.0     SOLD  New Single-family Houses Sold           0   \n",
       "1996-07-01       0  66.0     SOLD  New Single-family Houses Sold           0   \n",
       "1996-08-01       0  73.0     SOLD  New Single-family Houses Sold           0   \n",
       "1996-09-01       0  62.0     SOLD  New Single-family Houses Sold           0   \n",
       "1996-10-01       0  56.0     SOLD  New Single-family Houses Sold           0   \n",
       "1996-11-01       0  54.0     SOLD  New Single-family Houses Sold           0   \n",
       "1996-12-01       0  51.0     SOLD  New Single-family Houses Sold           0   \n",
       "\n",
       "           dt_code     dt_desc dt_unit geo_code       geo_desc    per_name  \n",
       "date                                                                        \n",
       "1996-01-01   TOTAL  All Houses       K       US  United States  1996-01-01  \n",
       "1996-02-01   TOTAL  All Houses       K       US  United States  1996-02-01  \n",
       "1996-03-01   TOTAL  All Houses       K       US  United States  1996-03-01  \n",
       "1996-04-01   TOTAL  All Houses       K       US  United States  1996-04-01  \n",
       "1996-05-01   TOTAL  All Houses       K       US  United States  1996-05-01  \n",
       "1996-06-01   TOTAL  All Houses       K       US  United States  1996-06-01  \n",
       "1996-07-01   TOTAL  All Houses       K       US  United States  1996-07-01  \n",
       "1996-08-01   TOTAL  All Houses       K       US  United States  1996-08-01  \n",
       "1996-09-01   TOTAL  All Houses       K       US  United States  1996-09-01  \n",
       "1996-10-01   TOTAL  All Houses       K       US  United States  1996-10-01  \n",
       "1996-11-01   TOTAL  All Houses       K       US  United States  1996-11-01  \n",
       "1996-12-01   TOTAL  All Houses       K       US  United States  1996-12-01  "
      ]
     },
     "execution_count": 11,
     "metadata": {},
     "output_type": "execute_result"
    }
   ],
   "source": [
    "df['1996']"
   ]
  },
  {
   "cell_type": "markdown",
   "metadata": {},
   "source": [
    "## List slices with datetimes\n",
    "\n",
    "Just for review, you can use `:` to only select certain parts of a list. This is called **list slicing**."
   ]
  },
  {
   "cell_type": "code",
   "execution_count": 12,
   "metadata": {},
   "outputs": [],
   "source": [
    "# Make our list of fruits\n",
    "ranked_fruits = ('banana', 'orange', 'apple', 'blueberries', 'strawberries')"
   ]
  },
  {
   "cell_type": "code",
   "execution_count": 13,
   "metadata": {},
   "outputs": [
    {
     "data": {
      "text/plain": [
       "('banana', 'orange')"
      ]
     },
     "execution_count": 13,
     "metadata": {},
     "output_type": "execute_result"
    }
   ],
   "source": [
    "# Start from the beginning, get the first two\n",
    "ranked_fruits[:2]"
   ]
  },
  {
   "cell_type": "code",
   "execution_count": 14,
   "metadata": {},
   "outputs": [
    {
     "data": {
      "text/plain": [
       "('apple', 'blueberries')"
      ]
     },
     "execution_count": 14,
     "metadata": {},
     "output_type": "execute_result"
    }
   ],
   "source": [
    "# Start from two, get up until the fourth element\n",
    "ranked_fruits[2:4]"
   ]
  },
  {
   "cell_type": "code",
   "execution_count": 15,
   "metadata": {},
   "outputs": [
    {
     "data": {
      "text/plain": [
       "('blueberries', 'strawberries')"
      ]
     },
     "execution_count": 15,
     "metadata": {},
     "output_type": "execute_result"
    }
   ],
   "source": [
    "# Starting from the third element, get all the rest\n",
    "ranked_fruits[3:]"
   ]
  },
  {
   "cell_type": "markdown",
   "metadata": {},
   "source": [
    "Instead of using boring ol' numbers, we can use **dates instead**."
   ]
  },
  {
   "cell_type": "markdown",
   "metadata": {},
   "source": [
    "### Getting rows after a certain date\n",
    "\n",
    "Select everything *after* March 3rd, 1999."
   ]
  },
  {
   "cell_type": "code",
   "execution_count": 16,
   "metadata": {},
   "outputs": [
    {
     "data": {
      "text/html": [
       "<div>\n",
       "<style scoped>\n",
       "    .dataframe tbody tr th:only-of-type {\n",
       "        vertical-align: middle;\n",
       "    }\n",
       "\n",
       "    .dataframe tbody tr th {\n",
       "        vertical-align: top;\n",
       "    }\n",
       "\n",
       "    .dataframe thead th {\n",
       "        text-align: right;\n",
       "    }\n",
       "</style>\n",
       "<table border=\"1\" class=\"dataframe\">\n",
       "  <thead>\n",
       "    <tr style=\"text-align: right;\">\n",
       "      <th></th>\n",
       "      <th>is_adj</th>\n",
       "      <th>val</th>\n",
       "      <th>cat_code</th>\n",
       "      <th>cat_desc</th>\n",
       "      <th>cat_indent</th>\n",
       "      <th>dt_code</th>\n",
       "      <th>dt_desc</th>\n",
       "      <th>dt_unit</th>\n",
       "      <th>geo_code</th>\n",
       "      <th>geo_desc</th>\n",
       "      <th>per_name</th>\n",
       "    </tr>\n",
       "    <tr>\n",
       "      <th>date</th>\n",
       "      <th></th>\n",
       "      <th></th>\n",
       "      <th></th>\n",
       "      <th></th>\n",
       "      <th></th>\n",
       "      <th></th>\n",
       "      <th></th>\n",
       "      <th></th>\n",
       "      <th></th>\n",
       "      <th></th>\n",
       "      <th></th>\n",
       "    </tr>\n",
       "  </thead>\n",
       "  <tbody>\n",
       "    <tr>\n",
       "      <th>1999-04-01</th>\n",
       "      <td>0</td>\n",
       "      <td>86.0</td>\n",
       "      <td>SOLD</td>\n",
       "      <td>New Single-family Houses Sold</td>\n",
       "      <td>0</td>\n",
       "      <td>TOTAL</td>\n",
       "      <td>All Houses</td>\n",
       "      <td>K</td>\n",
       "      <td>US</td>\n",
       "      <td>United States</td>\n",
       "      <td>1999-04-01</td>\n",
       "    </tr>\n",
       "    <tr>\n",
       "      <th>1999-05-01</th>\n",
       "      <td>0</td>\n",
       "      <td>80.0</td>\n",
       "      <td>SOLD</td>\n",
       "      <td>New Single-family Houses Sold</td>\n",
       "      <td>0</td>\n",
       "      <td>TOTAL</td>\n",
       "      <td>All Houses</td>\n",
       "      <td>K</td>\n",
       "      <td>US</td>\n",
       "      <td>United States</td>\n",
       "      <td>1999-05-01</td>\n",
       "    </tr>\n",
       "    <tr>\n",
       "      <th>1999-06-01</th>\n",
       "      <td>0</td>\n",
       "      <td>82.0</td>\n",
       "      <td>SOLD</td>\n",
       "      <td>New Single-family Houses Sold</td>\n",
       "      <td>0</td>\n",
       "      <td>TOTAL</td>\n",
       "      <td>All Houses</td>\n",
       "      <td>K</td>\n",
       "      <td>US</td>\n",
       "      <td>United States</td>\n",
       "      <td>1999-06-01</td>\n",
       "    </tr>\n",
       "    <tr>\n",
       "      <th>1999-07-01</th>\n",
       "      <td>0</td>\n",
       "      <td>78.0</td>\n",
       "      <td>SOLD</td>\n",
       "      <td>New Single-family Houses Sold</td>\n",
       "      <td>0</td>\n",
       "      <td>TOTAL</td>\n",
       "      <td>All Houses</td>\n",
       "      <td>K</td>\n",
       "      <td>US</td>\n",
       "      <td>United States</td>\n",
       "      <td>1999-07-01</td>\n",
       "    </tr>\n",
       "    <tr>\n",
       "      <th>1999-08-01</th>\n",
       "      <td>0</td>\n",
       "      <td>78.0</td>\n",
       "      <td>SOLD</td>\n",
       "      <td>New Single-family Houses Sold</td>\n",
       "      <td>0</td>\n",
       "      <td>TOTAL</td>\n",
       "      <td>All Houses</td>\n",
       "      <td>K</td>\n",
       "      <td>US</td>\n",
       "      <td>United States</td>\n",
       "      <td>1999-08-01</td>\n",
       "    </tr>\n",
       "    <tr>\n",
       "      <th>...</th>\n",
       "      <td>...</td>\n",
       "      <td>...</td>\n",
       "      <td>...</td>\n",
       "      <td>...</td>\n",
       "      <td>...</td>\n",
       "      <td>...</td>\n",
       "      <td>...</td>\n",
       "      <td>...</td>\n",
       "      <td>...</td>\n",
       "      <td>...</td>\n",
       "      <td>...</td>\n",
       "    </tr>\n",
       "    <tr>\n",
       "      <th>2016-01-01</th>\n",
       "      <td>0</td>\n",
       "      <td>39.0</td>\n",
       "      <td>SOLD</td>\n",
       "      <td>New Single-family Houses Sold</td>\n",
       "      <td>0</td>\n",
       "      <td>TOTAL</td>\n",
       "      <td>All Houses</td>\n",
       "      <td>K</td>\n",
       "      <td>US</td>\n",
       "      <td>United States</td>\n",
       "      <td>2016-01-01</td>\n",
       "    </tr>\n",
       "    <tr>\n",
       "      <th>2016-02-01</th>\n",
       "      <td>0</td>\n",
       "      <td>45.0</td>\n",
       "      <td>SOLD</td>\n",
       "      <td>New Single-family Houses Sold</td>\n",
       "      <td>0</td>\n",
       "      <td>TOTAL</td>\n",
       "      <td>All Houses</td>\n",
       "      <td>K</td>\n",
       "      <td>US</td>\n",
       "      <td>United States</td>\n",
       "      <td>2016-02-01</td>\n",
       "    </tr>\n",
       "    <tr>\n",
       "      <th>2016-03-01</th>\n",
       "      <td>0</td>\n",
       "      <td>49.0</td>\n",
       "      <td>SOLD</td>\n",
       "      <td>New Single-family Houses Sold</td>\n",
       "      <td>0</td>\n",
       "      <td>TOTAL</td>\n",
       "      <td>All Houses</td>\n",
       "      <td>K</td>\n",
       "      <td>US</td>\n",
       "      <td>United States</td>\n",
       "      <td>2016-03-01</td>\n",
       "    </tr>\n",
       "    <tr>\n",
       "      <th>2016-04-01</th>\n",
       "      <td>0</td>\n",
       "      <td>57.0</td>\n",
       "      <td>SOLD</td>\n",
       "      <td>New Single-family Houses Sold</td>\n",
       "      <td>0</td>\n",
       "      <td>TOTAL</td>\n",
       "      <td>All Houses</td>\n",
       "      <td>K</td>\n",
       "      <td>US</td>\n",
       "      <td>United States</td>\n",
       "      <td>2016-04-01</td>\n",
       "    </tr>\n",
       "    <tr>\n",
       "      <th>2016-05-01</th>\n",
       "      <td>0</td>\n",
       "      <td>51.0</td>\n",
       "      <td>SOLD</td>\n",
       "      <td>New Single-family Houses Sold</td>\n",
       "      <td>0</td>\n",
       "      <td>TOTAL</td>\n",
       "      <td>All Houses</td>\n",
       "      <td>K</td>\n",
       "      <td>US</td>\n",
       "      <td>United States</td>\n",
       "      <td>2016-05-01</td>\n",
       "    </tr>\n",
       "  </tbody>\n",
       "</table>\n",
       "<p>206 rows × 11 columns</p>\n",
       "</div>"
      ],
      "text/plain": [
       "            is_adj   val cat_code                       cat_desc  cat_indent  \\\n",
       "date                                                                           \n",
       "1999-04-01       0  86.0     SOLD  New Single-family Houses Sold           0   \n",
       "1999-05-01       0  80.0     SOLD  New Single-family Houses Sold           0   \n",
       "1999-06-01       0  82.0     SOLD  New Single-family Houses Sold           0   \n",
       "1999-07-01       0  78.0     SOLD  New Single-family Houses Sold           0   \n",
       "1999-08-01       0  78.0     SOLD  New Single-family Houses Sold           0   \n",
       "...            ...   ...      ...                            ...         ...   \n",
       "2016-01-01       0  39.0     SOLD  New Single-family Houses Sold           0   \n",
       "2016-02-01       0  45.0     SOLD  New Single-family Houses Sold           0   \n",
       "2016-03-01       0  49.0     SOLD  New Single-family Houses Sold           0   \n",
       "2016-04-01       0  57.0     SOLD  New Single-family Houses Sold           0   \n",
       "2016-05-01       0  51.0     SOLD  New Single-family Houses Sold           0   \n",
       "\n",
       "           dt_code     dt_desc dt_unit geo_code       geo_desc    per_name  \n",
       "date                                                                        \n",
       "1999-04-01   TOTAL  All Houses       K       US  United States  1999-04-01  \n",
       "1999-05-01   TOTAL  All Houses       K       US  United States  1999-05-01  \n",
       "1999-06-01   TOTAL  All Houses       K       US  United States  1999-06-01  \n",
       "1999-07-01   TOTAL  All Houses       K       US  United States  1999-07-01  \n",
       "1999-08-01   TOTAL  All Houses       K       US  United States  1999-08-01  \n",
       "...            ...         ...     ...      ...            ...         ...  \n",
       "2016-01-01   TOTAL  All Houses       K       US  United States  2016-01-01  \n",
       "2016-02-01   TOTAL  All Houses       K       US  United States  2016-02-01  \n",
       "2016-03-01   TOTAL  All Houses       K       US  United States  2016-03-01  \n",
       "2016-04-01   TOTAL  All Houses       K       US  United States  2016-04-01  \n",
       "2016-05-01   TOTAL  All Houses       K       US  United States  2016-05-01  \n",
       "\n",
       "[206 rows x 11 columns]"
      ]
     },
     "execution_count": 16,
     "metadata": {},
     "output_type": "execute_result"
    }
   ],
   "source": [
    "df['1999-03-03':]"
   ]
  },
  {
   "cell_type": "markdown",
   "metadata": {},
   "source": [
    "### Getting rows between a certain date\n",
    "\n",
    "Select everything *before* July 9th, 1987."
   ]
  },
  {
   "cell_type": "code",
   "execution_count": 20,
   "metadata": {},
   "outputs": [
    {
     "data": {
      "text/html": [
       "<div>\n",
       "<style scoped>\n",
       "    .dataframe tbody tr th:only-of-type {\n",
       "        vertical-align: middle;\n",
       "    }\n",
       "\n",
       "    .dataframe tbody tr th {\n",
       "        vertical-align: top;\n",
       "    }\n",
       "\n",
       "    .dataframe thead th {\n",
       "        text-align: right;\n",
       "    }\n",
       "</style>\n",
       "<table border=\"1\" class=\"dataframe\">\n",
       "  <thead>\n",
       "    <tr style=\"text-align: right;\">\n",
       "      <th></th>\n",
       "      <th>is_adj</th>\n",
       "      <th>val</th>\n",
       "      <th>cat_code</th>\n",
       "      <th>cat_desc</th>\n",
       "      <th>cat_indent</th>\n",
       "      <th>dt_code</th>\n",
       "      <th>dt_desc</th>\n",
       "      <th>dt_unit</th>\n",
       "      <th>geo_code</th>\n",
       "      <th>geo_desc</th>\n",
       "      <th>per_name</th>\n",
       "    </tr>\n",
       "    <tr>\n",
       "      <th>date</th>\n",
       "      <th></th>\n",
       "      <th></th>\n",
       "      <th></th>\n",
       "      <th></th>\n",
       "      <th></th>\n",
       "      <th></th>\n",
       "      <th></th>\n",
       "      <th></th>\n",
       "      <th></th>\n",
       "      <th></th>\n",
       "      <th></th>\n",
       "    </tr>\n",
       "  </thead>\n",
       "  <tbody>\n",
       "    <tr>\n",
       "      <th>1963-01-01</th>\n",
       "      <td>0</td>\n",
       "      <td>42.0</td>\n",
       "      <td>SOLD</td>\n",
       "      <td>New Single-family Houses Sold</td>\n",
       "      <td>0</td>\n",
       "      <td>TOTAL</td>\n",
       "      <td>All Houses</td>\n",
       "      <td>K</td>\n",
       "      <td>US</td>\n",
       "      <td>United States</td>\n",
       "      <td>1963-01-01</td>\n",
       "    </tr>\n",
       "    <tr>\n",
       "      <th>1963-02-01</th>\n",
       "      <td>0</td>\n",
       "      <td>35.0</td>\n",
       "      <td>SOLD</td>\n",
       "      <td>New Single-family Houses Sold</td>\n",
       "      <td>0</td>\n",
       "      <td>TOTAL</td>\n",
       "      <td>All Houses</td>\n",
       "      <td>K</td>\n",
       "      <td>US</td>\n",
       "      <td>United States</td>\n",
       "      <td>1963-02-01</td>\n",
       "    </tr>\n",
       "    <tr>\n",
       "      <th>1963-03-01</th>\n",
       "      <td>0</td>\n",
       "      <td>44.0</td>\n",
       "      <td>SOLD</td>\n",
       "      <td>New Single-family Houses Sold</td>\n",
       "      <td>0</td>\n",
       "      <td>TOTAL</td>\n",
       "      <td>All Houses</td>\n",
       "      <td>K</td>\n",
       "      <td>US</td>\n",
       "      <td>United States</td>\n",
       "      <td>1963-03-01</td>\n",
       "    </tr>\n",
       "    <tr>\n",
       "      <th>1963-04-01</th>\n",
       "      <td>0</td>\n",
       "      <td>52.0</td>\n",
       "      <td>SOLD</td>\n",
       "      <td>New Single-family Houses Sold</td>\n",
       "      <td>0</td>\n",
       "      <td>TOTAL</td>\n",
       "      <td>All Houses</td>\n",
       "      <td>K</td>\n",
       "      <td>US</td>\n",
       "      <td>United States</td>\n",
       "      <td>1963-04-01</td>\n",
       "    </tr>\n",
       "    <tr>\n",
       "      <th>1963-05-01</th>\n",
       "      <td>0</td>\n",
       "      <td>58.0</td>\n",
       "      <td>SOLD</td>\n",
       "      <td>New Single-family Houses Sold</td>\n",
       "      <td>0</td>\n",
       "      <td>TOTAL</td>\n",
       "      <td>All Houses</td>\n",
       "      <td>K</td>\n",
       "      <td>US</td>\n",
       "      <td>United States</td>\n",
       "      <td>1963-05-01</td>\n",
       "    </tr>\n",
       "    <tr>\n",
       "      <th>...</th>\n",
       "      <td>...</td>\n",
       "      <td>...</td>\n",
       "      <td>...</td>\n",
       "      <td>...</td>\n",
       "      <td>...</td>\n",
       "      <td>...</td>\n",
       "      <td>...</td>\n",
       "      <td>...</td>\n",
       "      <td>...</td>\n",
       "      <td>...</td>\n",
       "      <td>...</td>\n",
       "    </tr>\n",
       "    <tr>\n",
       "      <th>1987-03-01</th>\n",
       "      <td>0</td>\n",
       "      <td>73.0</td>\n",
       "      <td>SOLD</td>\n",
       "      <td>New Single-family Houses Sold</td>\n",
       "      <td>0</td>\n",
       "      <td>TOTAL</td>\n",
       "      <td>All Houses</td>\n",
       "      <td>K</td>\n",
       "      <td>US</td>\n",
       "      <td>United States</td>\n",
       "      <td>1987-03-01</td>\n",
       "    </tr>\n",
       "    <tr>\n",
       "      <th>1987-04-01</th>\n",
       "      <td>0</td>\n",
       "      <td>72.0</td>\n",
       "      <td>SOLD</td>\n",
       "      <td>New Single-family Houses Sold</td>\n",
       "      <td>0</td>\n",
       "      <td>TOTAL</td>\n",
       "      <td>All Houses</td>\n",
       "      <td>K</td>\n",
       "      <td>US</td>\n",
       "      <td>United States</td>\n",
       "      <td>1987-04-01</td>\n",
       "    </tr>\n",
       "    <tr>\n",
       "      <th>1987-05-01</th>\n",
       "      <td>0</td>\n",
       "      <td>62.0</td>\n",
       "      <td>SOLD</td>\n",
       "      <td>New Single-family Houses Sold</td>\n",
       "      <td>0</td>\n",
       "      <td>TOTAL</td>\n",
       "      <td>All Houses</td>\n",
       "      <td>K</td>\n",
       "      <td>US</td>\n",
       "      <td>United States</td>\n",
       "      <td>1987-05-01</td>\n",
       "    </tr>\n",
       "    <tr>\n",
       "      <th>1987-06-01</th>\n",
       "      <td>0</td>\n",
       "      <td>58.0</td>\n",
       "      <td>SOLD</td>\n",
       "      <td>New Single-family Houses Sold</td>\n",
       "      <td>0</td>\n",
       "      <td>TOTAL</td>\n",
       "      <td>All Houses</td>\n",
       "      <td>K</td>\n",
       "      <td>US</td>\n",
       "      <td>United States</td>\n",
       "      <td>1987-06-01</td>\n",
       "    </tr>\n",
       "    <tr>\n",
       "      <th>1987-07-01</th>\n",
       "      <td>0</td>\n",
       "      <td>55.0</td>\n",
       "      <td>SOLD</td>\n",
       "      <td>New Single-family Houses Sold</td>\n",
       "      <td>0</td>\n",
       "      <td>TOTAL</td>\n",
       "      <td>All Houses</td>\n",
       "      <td>K</td>\n",
       "      <td>US</td>\n",
       "      <td>United States</td>\n",
       "      <td>1987-07-01</td>\n",
       "    </tr>\n",
       "  </tbody>\n",
       "</table>\n",
       "<p>295 rows × 11 columns</p>\n",
       "</div>"
      ],
      "text/plain": [
       "            is_adj   val cat_code                       cat_desc  cat_indent  \\\n",
       "date                                                                           \n",
       "1963-01-01       0  42.0     SOLD  New Single-family Houses Sold           0   \n",
       "1963-02-01       0  35.0     SOLD  New Single-family Houses Sold           0   \n",
       "1963-03-01       0  44.0     SOLD  New Single-family Houses Sold           0   \n",
       "1963-04-01       0  52.0     SOLD  New Single-family Houses Sold           0   \n",
       "1963-05-01       0  58.0     SOLD  New Single-family Houses Sold           0   \n",
       "...            ...   ...      ...                            ...         ...   \n",
       "1987-03-01       0  73.0     SOLD  New Single-family Houses Sold           0   \n",
       "1987-04-01       0  72.0     SOLD  New Single-family Houses Sold           0   \n",
       "1987-05-01       0  62.0     SOLD  New Single-family Houses Sold           0   \n",
       "1987-06-01       0  58.0     SOLD  New Single-family Houses Sold           0   \n",
       "1987-07-01       0  55.0     SOLD  New Single-family Houses Sold           0   \n",
       "\n",
       "           dt_code     dt_desc dt_unit geo_code       geo_desc    per_name  \n",
       "date                                                                        \n",
       "1963-01-01   TOTAL  All Houses       K       US  United States  1963-01-01  \n",
       "1963-02-01   TOTAL  All Houses       K       US  United States  1963-02-01  \n",
       "1963-03-01   TOTAL  All Houses       K       US  United States  1963-03-01  \n",
       "1963-04-01   TOTAL  All Houses       K       US  United States  1963-04-01  \n",
       "1963-05-01   TOTAL  All Houses       K       US  United States  1963-05-01  \n",
       "...            ...         ...     ...      ...            ...         ...  \n",
       "1987-03-01   TOTAL  All Houses       K       US  United States  1987-03-01  \n",
       "1987-04-01   TOTAL  All Houses       K       US  United States  1987-04-01  \n",
       "1987-05-01   TOTAL  All Houses       K       US  United States  1987-05-01  \n",
       "1987-06-01   TOTAL  All Houses       K       US  United States  1987-06-01  \n",
       "1987-07-01   TOTAL  All Houses       K       US  United States  1987-07-01  \n",
       "\n",
       "[295 rows x 11 columns]"
      ]
     },
     "execution_count": 20,
     "metadata": {},
     "output_type": "execute_result"
    }
   ],
   "source": [
    "df[:'1987-07-09']"
   ]
  },
  {
   "cell_type": "markdown",
   "metadata": {},
   "source": [
    "# Info on our time series\n",
    "\n",
    "If you try to `.plot`, pandas will automatically use the index (the date) as the x axis for you. This makes like **perfect.** because you don't have to think about anything, and calculations automatically have a good axis.\n",
    "\n",
    "Graph the number of home sales over time."
   ]
  },
  {
   "cell_type": "code",
   "execution_count": 21,
   "metadata": {},
   "outputs": [
    {
     "data": {
      "text/plain": [
       "<AxesSubplot:xlabel='date'>"
      ]
     },
     "execution_count": 21,
     "metadata": {},
     "output_type": "execute_result"
    },
    {
     "data": {
      "image/png": "[encoded data removed]",
      "text/plain": [
       "<Figure size 432x288 with 1 Axes>"
      ]
     },
     "metadata": {
      "needs_background": "light"
     },
     "output_type": "display_data"
    }
   ],
   "source": [
    "df.plot()"
   ]
  },
  {
   "cell_type": "markdown",
   "metadata": {},
   "source": [
    "## Grouping with resample, not with groupby"
   ]
  },
  {
   "cell_type": "markdown",
   "metadata": {},
   "source": [
    "Hmmm, looks like something bad might have happened to the housing industry t some point. Maybe we want to see some numbers instead of a graph? To do aggregate statistics on time series in pandas we use a method called `.resample()`, and we're going to tell it **to group the data by year.**\n",
    "\n",
    "When we tell it to group by year, we need to give it a **special code**. I always get mine from this StackOverflow post http://stackoverflow.com/a/17001474 because it's much more convenient than the pandas documentation.\n",
    "\n",
    "Get the total number of house sales by year.\n",
    "\n",
    "*Note: if we didn't have a datetime index, we would use `on='colname'` to specify the column we're resampling on*"
   ]
  },
  {
   "cell_type": "code",
   "execution_count": 23,
   "metadata": {},
   "outputs": [
    {
     "data": {
      "text/plain": [
       "date\n",
       "1963-12-31     560.0\n",
       "1964-12-31     565.0\n",
       "1965-12-31     575.0\n",
       "1966-12-31     461.0\n",
       "1967-12-31     488.0\n",
       "1968-12-31     490.0\n",
       "1969-12-31     449.0\n",
       "1970-12-31     486.0\n",
       "1971-12-31     657.0\n",
       "1972-12-31     718.0\n",
       "1973-12-31     633.0\n",
       "1974-12-31     519.0\n",
       "1975-12-31     550.0\n",
       "1976-12-31     647.0\n",
       "1977-12-31     820.0\n",
       "1978-12-31     818.0\n",
       "1979-12-31     709.0\n",
       "1980-12-31     545.0\n",
       "1981-12-31     436.0\n",
       "1982-12-31     413.0\n",
       "1983-12-31     622.0\n",
       "1984-12-31     639.0\n",
       "1985-12-31     688.0\n",
       "1986-12-31     748.0\n",
       "1987-12-31     672.0\n",
       "1988-12-31     675.0\n",
       "1989-12-31     650.0\n",
       "1990-12-31     535.0\n",
       "1991-12-31     507.0\n",
       "1992-12-31     608.0\n",
       "1993-12-31     666.0\n",
       "1994-12-31     670.0\n",
       "1995-12-31     665.0\n",
       "1996-12-31     758.0\n",
       "1997-12-31     805.0\n",
       "1998-12-31     885.0\n",
       "1999-12-31     881.0\n",
       "2000-12-31     877.0\n",
       "2001-12-31     909.0\n",
       "2002-12-31     972.0\n",
       "2003-12-31    1088.0\n",
       "2004-12-31    1203.0\n",
       "2005-12-31    1283.0\n",
       "2006-12-31    1052.0\n",
       "2007-12-31     776.0\n",
       "2008-12-31     485.0\n",
       "2009-12-31     374.0\n",
       "2010-12-31     322.0\n",
       "2011-12-31     305.0\n",
       "2012-12-31     369.0\n",
       "2013-12-31     429.0\n",
       "2014-12-31     439.0\n",
       "2015-12-31     501.0\n",
       "2016-12-31     241.0\n",
       "Freq: A-DEC, Name: val, dtype: float64"
      ]
     },
     "execution_count": 23,
     "metadata": {},
     "output_type": "execute_result"
    }
   ],
   "source": [
    "df.resample('A').val.sum()"
   ]
  },
  {
   "cell_type": "markdown",
   "metadata": {},
   "source": [
    "Notice that it's **December of every year**. That still looks like too much data, though. What if we zoom out to **every decade** instead?"
   ]
  },
  {
   "cell_type": "code",
   "execution_count": 24,
   "metadata": {},
   "outputs": [
    {
     "data": {
      "text/plain": [
       "date\n",
       "1963-12-31     560.0\n",
       "1973-12-31    5522.0\n",
       "1983-12-31    6079.0\n",
       "1993-12-31    6388.0\n",
       "2003-12-31    8510.0\n",
       "2013-12-31    6598.0\n",
       "2023-12-31    1181.0\n",
       "Freq: 10A-DEC, Name: val, dtype: float64"
      ]
     },
     "execution_count": 24,
     "metadata": {},
     "output_type": "execute_result"
    }
   ],
   "source": [
    "df.resample('10A').val.sum()"
   ]
  },
  {
   "cell_type": "markdown",
   "metadata": {},
   "source": [
    "Cool, right?"
   ]
  },
  {
   "cell_type": "markdown",
   "metadata": {},
   "source": [
    "### Graphing\n",
    "\n",
    "We can graph these instead of just look at them! Plot all of our years of housing sales, by decade.\n",
    "\n",
    "*Note: What is the best kind of graph for this?*"
   ]
  },
  {
   "cell_type": "code",
   "execution_count": 28,
   "metadata": {},
   "outputs": [
    {
     "data": {
      "text/plain": [
       "<AxesSubplot:title={'center':'House sales by decade'}, ylabel='date'>"
      ]
     },
     "execution_count": 28,
     "metadata": {},
     "output_type": "execute_result"
    },
    {
     "data": {
      "image/png": "[encoded data removed]",
      "text/plain": [
       "<Figure size 432x288 with 1 Axes>"
      ]
     },
     "metadata": {
      "needs_background": "light"
     },
     "output_type": "display_data"
    }
   ],
   "source": [
    "df.resample('10A').val.sum().plot(kind='barh', title='House sales by decade')"
   ]
  },
  {
   "cell_type": "markdown",
   "metadata": {},
   "source": [
    "## Cyclical data (actually using groupby)\n",
    "\n",
    "### What were the top 5 worst months?\n",
    "\n",
    "Start by just simply sorting the dataset to find the top five months that were worst for home sales."
   ]
  },
  {
   "cell_type": "code",
   "execution_count": 38,
   "metadata": {},
   "outputs": [
    {
     "data": {
      "text/plain": [
       "month\n",
       "4    59.5\n",
       "3    58.0\n",
       "5    58.0\n",
       "6    58.0\n",
       "8    56.0\n",
       "Name: val, dtype: float64"
      ]
     },
     "execution_count": 38,
     "metadata": {},
     "output_type": "execute_result"
    }
   ],
   "source": [
    "df['month'] = df.index.month\n",
    "df.groupby('month').val.median().nlargest()"
   ]
  },
  {
   "cell_type": "markdown",
   "metadata": {},
   "source": [
    "It seems like there might be a cycle ever year. Maybe houses are sold in the summer and not the winter? To do this we can't use resample - it's for putting time into buckets - we need to **group by the month.**\n",
    "\n",
    "### Getting the month"
   ]
  },
  {
   "cell_type": "markdown",
   "metadata": {},
   "source": [
    "We can't ask for the index column as \"year\" any more, but we can just use `df.index` instead. Look at the date by typing `df.index`."
   ]
  },
  {
   "cell_type": "code",
   "execution_count": 39,
   "metadata": {},
   "outputs": [
    {
     "data": {
      "text/plain": [
       "DatetimeIndex(['1963-01-01', '1963-02-01', '1963-03-01', '1963-04-01',\n",
       "               '1963-05-01', '1963-06-01', '1963-07-01', '1963-08-01',\n",
       "               '1963-09-01', '1963-10-01',\n",
       "               ...\n",
       "               '2015-08-01', '2015-09-01', '2015-10-01', '2015-11-01',\n",
       "               '2015-12-01', '2016-01-01', '2016-02-01', '2016-03-01',\n",
       "               '2016-04-01', '2016-05-01'],\n",
       "              dtype='datetime64[ns]', name='date', length=641, freq=None)"
      ]
     },
     "execution_count": 39,
     "metadata": {},
     "output_type": "execute_result"
    }
   ],
   "source": [
    "df.index"
   ]
  },
  {
   "cell_type": "markdown",
   "metadata": {},
   "source": [
    "To get the month of each date, it's simply `df.index.month`. If it were a column we would use `df.col_name.dt.month`. Why do we only have to use `.dt` when it's a normal column, and not when it's an index? **I have no idea.**\n",
    "\n",
    "Look at the month of each row with `df.index.month`."
   ]
  },
  {
   "cell_type": "code",
   "execution_count": 40,
   "metadata": {},
   "outputs": [
    {
     "data": {
      "text/plain": [
       "Int64Index([ 1,  2,  3,  4,  5,  6,  7,  8,  9, 10,\n",
       "            ...\n",
       "             8,  9, 10, 11, 12,  1,  2,  3,  4,  5],\n",
       "           dtype='int64', name='date', length=641)"
      ]
     },
     "execution_count": 40,
     "metadata": {},
     "output_type": "execute_result"
    }
   ],
   "source": [
    "df.index.month"
   ]
  },
  {
   "cell_type": "markdown",
   "metadata": {},
   "source": [
    "### Doing the groupby to view data by month\n",
    "\n",
    "So when we do our groupby, we'll say **hey, we made the groups for you already**. Then we ask for the median number of houses sold. Find the mean number of houses sold each month by using `.groupby(by=df.index.month)`."
   ]
  },
  {
   "cell_type": "code",
   "execution_count": 44,
   "metadata": {},
   "outputs": [
    {
     "data": {
      "text/plain": [
       "month\n",
       "1     44.5\n",
       "2     50.0\n",
       "3     58.0\n",
       "4     59.5\n",
       "5     58.0\n",
       "6     58.0\n",
       "7     55.0\n",
       "8     56.0\n",
       "9     50.0\n",
       "10    51.0\n",
       "11    43.0\n",
       "12    39.0\n",
       "Name: val, dtype: float64"
      ]
     },
     "execution_count": 44,
     "metadata": {},
     "output_type": "execute_result"
    }
   ],
   "source": [
    "df.groupby('month').val.median()"
   ]
  },
  {
   "cell_type": "code",
   "execution_count": 45,
   "metadata": {},
   "outputs": [
    {
     "data": {
      "text/html": [
       "<div>\n",
       "<style scoped>\n",
       "    .dataframe tbody tr th:only-of-type {\n",
       "        vertical-align: middle;\n",
       "    }\n",
       "\n",
       "    .dataframe tbody tr th {\n",
       "        vertical-align: top;\n",
       "    }\n",
       "\n",
       "    .dataframe thead th {\n",
       "        text-align: right;\n",
       "    }\n",
       "</style>\n",
       "<table border=\"1\" class=\"dataframe\">\n",
       "  <thead>\n",
       "    <tr style=\"text-align: right;\">\n",
       "      <th></th>\n",
       "      <th>is_adj</th>\n",
       "      <th>val</th>\n",
       "      <th>cat_indent</th>\n",
       "      <th>month</th>\n",
       "    </tr>\n",
       "    <tr>\n",
       "      <th>date</th>\n",
       "      <th></th>\n",
       "      <th></th>\n",
       "      <th></th>\n",
       "      <th></th>\n",
       "    </tr>\n",
       "  </thead>\n",
       "  <tbody>\n",
       "    <tr>\n",
       "      <th>1</th>\n",
       "      <td>0</td>\n",
       "      <td>47.685185</td>\n",
       "      <td>0</td>\n",
       "      <td>1</td>\n",
       "    </tr>\n",
       "    <tr>\n",
       "      <th>2</th>\n",
       "      <td>0</td>\n",
       "      <td>53.592593</td>\n",
       "      <td>0</td>\n",
       "      <td>2</td>\n",
       "    </tr>\n",
       "    <tr>\n",
       "      <th>3</th>\n",
       "      <td>0</td>\n",
       "      <td>62.685185</td>\n",
       "      <td>0</td>\n",
       "      <td>3</td>\n",
       "    </tr>\n",
       "    <tr>\n",
       "      <th>4</th>\n",
       "      <td>0</td>\n",
       "      <td>61.444444</td>\n",
       "      <td>0</td>\n",
       "      <td>4</td>\n",
       "    </tr>\n",
       "    <tr>\n",
       "      <th>5</th>\n",
       "      <td>0</td>\n",
       "      <td>61.129630</td>\n",
       "      <td>0</td>\n",
       "      <td>5</td>\n",
       "    </tr>\n",
       "    <tr>\n",
       "      <th>6</th>\n",
       "      <td>0</td>\n",
       "      <td>59.188679</td>\n",
       "      <td>0</td>\n",
       "      <td>6</td>\n",
       "    </tr>\n",
       "    <tr>\n",
       "      <th>7</th>\n",
       "      <td>0</td>\n",
       "      <td>56.735849</td>\n",
       "      <td>0</td>\n",
       "      <td>7</td>\n",
       "    </tr>\n",
       "    <tr>\n",
       "      <th>8</th>\n",
       "      <td>0</td>\n",
       "      <td>57.566038</td>\n",
       "      <td>0</td>\n",
       "      <td>8</td>\n",
       "    </tr>\n",
       "    <tr>\n",
       "      <th>9</th>\n",
       "      <td>0</td>\n",
       "      <td>52.037736</td>\n",
       "      <td>0</td>\n",
       "      <td>9</td>\n",
       "    </tr>\n",
       "    <tr>\n",
       "      <th>10</th>\n",
       "      <td>0</td>\n",
       "      <td>51.584906</td>\n",
       "      <td>0</td>\n",
       "      <td>10</td>\n",
       "    </tr>\n",
       "    <tr>\n",
       "      <th>11</th>\n",
       "      <td>0</td>\n",
       "      <td>45.471698</td>\n",
       "      <td>0</td>\n",
       "      <td>11</td>\n",
       "    </tr>\n",
       "    <tr>\n",
       "      <th>12</th>\n",
       "      <td>0</td>\n",
       "      <td>42.792453</td>\n",
       "      <td>0</td>\n",
       "      <td>12</td>\n",
       "    </tr>\n",
       "  </tbody>\n",
       "</table>\n",
       "</div>"
      ],
      "text/plain": [
       "      is_adj        val  cat_indent  month\n",
       "date                                      \n",
       "1          0  47.685185           0      1\n",
       "2          0  53.592593           0      2\n",
       "3          0  62.685185           0      3\n",
       "4          0  61.444444           0      4\n",
       "5          0  61.129630           0      5\n",
       "6          0  59.188679           0      6\n",
       "7          0  56.735849           0      7\n",
       "8          0  57.566038           0      8\n",
       "9          0  52.037736           0      9\n",
       "10         0  51.584906           0     10\n",
       "11         0  45.471698           0     11\n",
       "12         0  42.792453           0     12"
      ]
     },
     "execution_count": 45,
     "metadata": {},
     "output_type": "execute_result"
    }
   ],
   "source": [
    "df.groupby(by=df.index.month).mean()"
   ]
  },
  {
   "cell_type": "markdown",
   "metadata": {},
   "source": [
    "### Plot the results"
   ]
  },
  {
   "cell_type": "code",
   "execution_count": 48,
   "metadata": {},
   "outputs": [
    {
     "data": {
      "text/plain": [
       "<AxesSubplot:title={'center':'avg home sales per month'}, ylabel='date'>"
      ]
     },
     "execution_count": 48,
     "metadata": {},
     "output_type": "execute_result"
    },
    {
     "data": {
      "image/png": "[encoded data removed]",
      "text/plain": [
       "<Figure size 432x288 with 1 Axes>"
      ]
     },
     "metadata": {
      "needs_background": "light"
     },
     "output_type": "display_data"
    }
   ],
   "source": [
    "df.groupby(by=df.index.month).mean().plot(kind='barh', title='avg home sales per month')"
   ]
  },
  {
   "cell_type": "markdown",
   "metadata": {},
   "source": [
    "# More details\n",
    "\n",
    "You can also use **max** and **min** and all of your other aggregate friends with `.resample`. For example, what's the **largest number of houses hold in a given year?**"
   ]
  },
  {
   "cell_type": "code",
   "execution_count": 52,
   "metadata": {},
   "outputs": [
    {
     "data": {
      "text/plain": [
       "1283.0"
      ]
     },
     "execution_count": 52,
     "metadata": {},
     "output_type": "execute_result"
    }
   ],
   "source": [
    "# largest number of houses sold in a given year\n",
    "df.resample('A').val.sum().max()"
   ]
  },
  {
   "cell_type": "markdown",
   "metadata": {},
   "source": [
    "How about the fewest?"
   ]
  },
  {
   "cell_type": "code",
   "execution_count": 53,
   "metadata": {},
   "outputs": [
    {
     "data": {
      "text/plain": [
       "241.0"
      ]
     },
     "execution_count": 53,
     "metadata": {},
     "output_type": "execute_result"
    }
   ],
   "source": [
    "df.resample('A').val.sum().min()"
   ]
  }
 ],
 "metadata": {
  "kernelspec": {
   "display_name": "Python 3",
   "language": "python",
   "name": "python3"
  },
  "language_info": {
   "codemirror_mode": {
    "name": "ipython",
    "version": 3
   },
   "file_extension": ".py",
   "mimetype": "text/x-python",
   "name": "python",
   "nbconvert_exporter": "python",
   "pygments_lexer": "ipython3",
   "version": "3.7.1"
  }
 },
 "nbformat": 4,
 "nbformat_minor": 1
}
