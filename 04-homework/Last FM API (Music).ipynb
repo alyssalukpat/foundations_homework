{
 "cells": [
  {
   "cell_type": "markdown",
   "metadata": {},
   "source": [
    "# Last FM API (Music)\n",
    "\n",
    "Spotify's API is dead to us, so we're using Last.fm's - it's still music, just not as nice of an API.\n",
    "\n",
    "1. Create an account at https://www.last.fm/api/\n",
    "2. Create an \"application\" to get a key: https://www.last.fm/api/account/create\n",
    "    - It isn't a real application, it's just your project\n",
    "    - Name/description doesn't matter, ignore callback key and callback url\n",
    "3. And save the API key that shows up on the next screen\n",
    "\n",
    "You can find documentation at https://www.last.fm/api/\n",
    "\n",
    "The domain for the API is `http://ws.audioscrobbler.com`, so all of your endpoints will be connected to that. To test your API key, check the following URL in your browser: `http://ws.audioscrobbler.com/2.0/?method=artist.search&artist=cher&api_key=XXXXXXXXXXXXXXXXXXXX&format=json` (change the `XXXXXX` to be your API key, of course!).\n",
    "\n",
    "> Last.fm used to be called **AudioScrobbler**, which is why its URLs don't have \"last.fm\" in them.\n",
    "> While we're asking about URLs, notice that the API endpoints have a lot of `?` and `&` in them - these are key/value pairs, kind of like dictionaries, but for URLs instead of Python."
   ]
  },
  {
   "cell_type": "markdown",
   "metadata": {},
   "source": [
    "# FIRST: SETUP"
   ]
  },
  {
   "cell_type": "markdown",
   "metadata": {},
   "source": [
    "## 1) Import the libraries/packages you might need\n",
    "\n",
    "We need a library to read in the data for us! We don't like `urllib2`, so it must be something cooler and better."
   ]
  },
  {
   "cell_type": "code",
   "execution_count": 1,
   "metadata": {},
   "outputs": [],
   "source": [
    "import requests\n"
   ]
  },
  {
   "cell_type": "markdown",
   "metadata": {},
   "source": [
    "## 2) Save your API key\n",
    "\n",
    "Write your API key here so you don't forget it - it's the \"api key\" one, not the \"shared secret\" one\n",
    "\n",
    "# 65297f4af0c2fbc492dff031c75f7c52"
   ]
  },
  {
   "cell_type": "markdown",
   "metadata": {},
   "source": [
    "## 3) The death of an API\n",
    "\n",
    "I used to have some code here that allowed you to display images, but _the images don't work any more._ Let this be an important lesson: when you depend on external services, they can die at any time."
   ]
  },
  {
   "cell_type": "markdown",
   "metadata": {},
   "source": [
    "# NOW: YOUR ASSIGNMENT"
   ]
  },
  {
   "cell_type": "markdown",
   "metadata": {},
   "source": [
    "## 1) Search for and print a list of 50 musicians with `lil` in their name, along with the number of listeners they have\n",
    "\n",
    "There are a lot of musicians with \"Lil\" in their name - it used to be all Lil Wayne and Lil Kim, but we live in a new world now!\n",
    "\n",
    "- *Tip: Remember, the domain for the API is `http://ws.audioscrobbler.com`*\n",
    "- *Tip: Make sure you ask the API for 50 musicians! This involves adding another parameter to the URL - notice they all have a `&` before them. [Read the documentation](http://www.last.fm/api/show/artist.search) to find the parameter's name.* \n",
    "- *Tip: When you are looking at any piece of data - is it a dictionary? Look at the keys! Is it a list? Look at the first element!*\n",
    "- *Tip: LOOK AT THE KEYS. and then the other keys and the other keys and the other keys. It's an ugly series of dictionaries!*"
   ]
  },
  {
   "cell_type": "code",
   "execution_count": 5,
   "metadata": {},
   "outputs": [],
   "source": [
    "search_url = 'http://ws.audioscrobbler.com/2.0/?method=artist.search&artist=lil&api_key=65297f4af0c2fbc492dff031c75f7c52&format=json&limit=50'\n",
    "search_response = requests.get(search_url, allow_redirects=True)\n",
    "search_data = search_response.json()\n",
    "\n",
    "key = '65297f4af0c2fbc492dff031c75f7c52'"
   ]
  },
  {
   "cell_type": "code",
   "execution_count": 21,
   "metadata": {},
   "outputs": [
    {
     "name": "stdout",
     "output_type": "stream",
     "text": [
      "Lil' Wayne has 3373094 listeners.\n",
      "LIL UZI VERT has 531748 listeners.\n",
      "Lily Allen has 2295282 listeners.\n",
      "LIL PEEP has 401065 listeners.\n",
      "Lil Baby has 286608 listeners.\n",
      "Lil Nas X has 515527 listeners.\n",
      "Lil Yachty has 296765 listeners.\n",
      "lil skies has 198397 listeners.\n",
      "Lil Tecca has 225058 listeners.\n",
      "Lil B has 245169 listeners.\n",
      "lil Mosey has 240664 listeners.\n",
      "LIL PUMP has 283406 listeners.\n",
      "Lil Ugly Mane has 102396 listeners.\n",
      "Lilly Wood & The Prick has 431004 listeners.\n",
      "Lil Wayne has 187716 listeners.\n",
      "Lil Dicky has 276368 listeners.\n",
      "lil tjay has 99793 listeners.\n",
      "Lil Durk has 140984 listeners.\n",
      "Lil' Kim has 504940 listeners.\n",
      "Lil Xan has 155318 listeners.\n",
      "Lil Keed has 86566 listeners.\n",
      "LIL TRACY has 65328 listeners.\n",
      "Lil Jon has 627261 listeners.\n",
      "Lil Jon & The East Side Boyz has 525237 listeners.\n",
      "Lil Darkie has 38040 listeners.\n",
      "Lila Downs has 175213 listeners.\n",
      "Lil Boosie has 420571 listeners.\n",
      "Lil' Kleine has 68800 listeners.\n",
      "The Tiger Lillies has 116193 listeners.\n",
      "Lil Wyte has 264609 listeners.\n",
      "Fenne Lily has 153672 listeners.\n",
      "Lil' Flip has 342234 listeners.\n",
      "Lily James has 67293 listeners.\n",
      "Birdman & Lil' Wayne has 586980 listeners.\n",
      "Spangle call Lilli line has 46067 listeners.\n",
      "Lily & Madeleine has 136532 listeners.\n",
      "LIL BO WEEP has 41056 listeners.\n",
      "Lil Aaron has 47253 listeners.\n",
      "Mashrou' Leila has 37791 listeners.\n",
      "Lilac has 89468 listeners.\n",
      "The Lillingtons has 47272 listeners.\n",
      "Lil Gotit has 30273 listeners.\n",
      "Lillasyster has 53993 listeners.\n",
      "Lilys has 68546 listeners.\n",
      "Lilu has 36534 listeners.\n",
      "lil happy lil sad has 28108 listeners.\n",
      "Lily Chou-Chou has 35519 listeners.\n",
      "Lil Mama has 171372 listeners.\n",
      "Lil Loaded has 26710 listeners.\n",
      "Lil' Scrappy has 257523 listeners.\n"
     ]
    }
   ],
   "source": [
    "artist_search = (search_data['results']['artistmatches']['artist'])\n",
    "\n",
    "artist_list = []\n",
    "for artist in artist_search:\n",
    "    artist_name = artist['name']\n",
    "    artist_listeners = artist['listeners']\n",
    "    output = f'{artist_name} has {artist_listeners} listeners.'\n",
    "    artist_list.append(output)\n",
    "\n",
    "for sentence in artist_list:\n",
    "    print(sentence)"
   ]
  },
  {
   "cell_type": "markdown",
   "metadata": {},
   "source": [
    "Your results should begin something like this:\n",
    "    \n",
    "```\n",
    "Lil' Wayne has 3086628 listeners\n",
    "Lily Allen has 2074266 listeners\n",
    "Lil B has 194116 listeners\n",
    "Lilly Wood & The Prick has 359886 listeners\n",
    "Lil Ugly Mane has 31955 listeners\n",
    "LIL UZI VERT has 88517 listeners\n",
    "```"
   ]
  },
  {
   "cell_type": "markdown",
   "metadata": {},
   "source": [
    "## 2) How many listeners does your list have in total?\n",
    "\n",
    "The answer should be roughly **15,000,000**. If it's lower, make sure you have 50 artists instead of 30 artists.\n",
    "\n",
    "- *Tip: What's the data type of the `listeners` count? It's going to cause a problem!*\n",
    "- *Tip: If you were crazy you could use sum and a list comprehension. But you really don't have to!*"
   ]
  },
  {
   "cell_type": "code",
   "execution_count": 22,
   "metadata": {},
   "outputs": [
    {
     "name": "stdout",
     "output_type": "stream",
     "text": [
      "There are 12876150 total listeners.\n"
     ]
    }
   ],
   "source": [
    "listener_count = 0\n",
    "\n",
    "for listen in artist_search:\n",
    "    artist_listeners = int(artist['listeners'])\n",
    "    listener_count = listener_count + artist_listeners\n",
    "\n",
    "print(f'There are {listener_count} total listeners.')"
   ]
  },
  {
   "cell_type": "markdown",
   "metadata": {},
   "source": [
    "## 3) Show each artist's name and the URL to the extra-large image\n",
    "\n",
    "The images don't work any more, but we'll print their URLs out anyway."
   ]
  },
  {
   "cell_type": "markdown",
   "metadata": {},
   "source": [
    "Each artist **has a list of images of different sizes**. We're interested in the second-to-last one, where `size` is `extralarge`. Print their name and use `display_image` to display their extra-large image.\n",
    "\n",
    "- *Tip: The URL should look like this: `https://lastfm-img2.akamaized.net/i/u/300x300/0fc7d7a1812dc79e9925d80382cde594.png`*\n",
    "- *Tip: You can always assume it's the second to the last, or assume it's `extralarge`, or whatever you want to do to find it.*\n",
    "- *Tip: Make sure the URL is correct before you try to display it.*\n",
    "\n",
    "Your output should look something like\n",
    "\n",
    "```\n",
    "Lil' Wayne\n",
    "https://lastfm.freetls.fastly.net/i/u/300x300/2a96cbd8b46e442fc41c2b86b821562f.png\n",
    "---\n",
    "LIL UZI VERT\n",
    "https://lastfm.freetls.fastly.net/i/u/300x300/2a96cbd8b46e442fc41c2b86b821562f.png\n",
    "---\n",
    "Lily Allen\n",
    "https://lastfm.freetls.fastly.net/i/u/300x300/2a96cbd8b46e442fc41c2b86b821562f.png\n",
    "---\n",
    "```\n",
    "\n",
    "(but with more people, obviously)"
   ]
  },
  {
   "cell_type": "code",
   "execution_count": 38,
   "metadata": {},
   "outputs": [
    {
     "name": "stdout",
     "output_type": "stream",
     "text": [
      "Lil' Wayne\n",
      "https://lastfm.freetls.fastly.net/i/u/300x300/2a96cbd8b46e442fc41c2b86b821562f.png\n",
      "-----\n",
      "LIL UZI VERT\n",
      "https://lastfm.freetls.fastly.net/i/u/300x300/2a96cbd8b46e442fc41c2b86b821562f.png\n",
      "-----\n",
      "Lily Allen\n",
      "https://lastfm.freetls.fastly.net/i/u/300x300/2a96cbd8b46e442fc41c2b86b821562f.png\n",
      "-----\n",
      "LIL PEEP\n",
      "https://lastfm.freetls.fastly.net/i/u/300x300/2a96cbd8b46e442fc41c2b86b821562f.png\n",
      "-----\n",
      "Lil Baby\n",
      "https://lastfm.freetls.fastly.net/i/u/300x300/2a96cbd8b46e442fc41c2b86b821562f.png\n",
      "-----\n",
      "Lil Nas X\n",
      "https://lastfm.freetls.fastly.net/i/u/300x300/2a96cbd8b46e442fc41c2b86b821562f.png\n",
      "-----\n",
      "Lil Yachty\n",
      "https://lastfm.freetls.fastly.net/i/u/300x300/2a96cbd8b46e442fc41c2b86b821562f.png\n",
      "-----\n",
      "lil skies\n",
      "https://lastfm.freetls.fastly.net/i/u/300x300/2a96cbd8b46e442fc41c2b86b821562f.png\n",
      "-----\n",
      "Lil Tecca\n",
      "https://lastfm.freetls.fastly.net/i/u/300x300/2a96cbd8b46e442fc41c2b86b821562f.png\n",
      "-----\n",
      "Lil B\n",
      "https://lastfm.freetls.fastly.net/i/u/300x300/2a96cbd8b46e442fc41c2b86b821562f.png\n",
      "-----\n",
      "lil Mosey\n",
      "https://lastfm.freetls.fastly.net/i/u/300x300/2a96cbd8b46e442fc41c2b86b821562f.png\n",
      "-----\n",
      "LIL PUMP\n",
      "https://lastfm.freetls.fastly.net/i/u/300x300/2a96cbd8b46e442fc41c2b86b821562f.png\n",
      "-----\n",
      "Lil Ugly Mane\n",
      "https://lastfm.freetls.fastly.net/i/u/300x300/2a96cbd8b46e442fc41c2b86b821562f.png\n",
      "-----\n",
      "Lilly Wood & The Prick\n",
      "https://lastfm.freetls.fastly.net/i/u/300x300/2a96cbd8b46e442fc41c2b86b821562f.png\n",
      "-----\n",
      "Lil Wayne\n",
      "https://lastfm.freetls.fastly.net/i/u/300x300/2a96cbd8b46e442fc41c2b86b821562f.png\n",
      "-----\n",
      "Lil Dicky\n",
      "https://lastfm.freetls.fastly.net/i/u/300x300/2a96cbd8b46e442fc41c2b86b821562f.png\n",
      "-----\n",
      "lil tjay\n",
      "https://lastfm.freetls.fastly.net/i/u/300x300/2a96cbd8b46e442fc41c2b86b821562f.png\n",
      "-----\n",
      "Lil Durk\n",
      "https://lastfm.freetls.fastly.net/i/u/300x300/2a96cbd8b46e442fc41c2b86b821562f.png\n",
      "-----\n",
      "Lil' Kim\n",
      "https://lastfm.freetls.fastly.net/i/u/300x300/2a96cbd8b46e442fc41c2b86b821562f.png\n",
      "-----\n",
      "Lil Xan\n",
      "https://lastfm.freetls.fastly.net/i/u/300x300/2a96cbd8b46e442fc41c2b86b821562f.png\n",
      "-----\n",
      "Lil Keed\n",
      "https://lastfm.freetls.fastly.net/i/u/300x300/2a96cbd8b46e442fc41c2b86b821562f.png\n",
      "-----\n",
      "LIL TRACY\n",
      "https://lastfm.freetls.fastly.net/i/u/300x300/2a96cbd8b46e442fc41c2b86b821562f.png\n",
      "-----\n",
      "Lil Jon\n",
      "https://lastfm.freetls.fastly.net/i/u/300x300/2a96cbd8b46e442fc41c2b86b821562f.png\n",
      "-----\n",
      "Lil Jon & The East Side Boyz\n",
      "https://lastfm.freetls.fastly.net/i/u/300x300/2a96cbd8b46e442fc41c2b86b821562f.png\n",
      "-----\n",
      "Lil Darkie\n",
      "https://lastfm.freetls.fastly.net/i/u/300x300/2a96cbd8b46e442fc41c2b86b821562f.png\n",
      "-----\n",
      "Lila Downs\n",
      "https://lastfm.freetls.fastly.net/i/u/300x300/2a96cbd8b46e442fc41c2b86b821562f.png\n",
      "-----\n",
      "Lil Boosie\n",
      "https://lastfm.freetls.fastly.net/i/u/300x300/2a96cbd8b46e442fc41c2b86b821562f.png\n",
      "-----\n",
      "Lil' Kleine\n",
      "https://lastfm.freetls.fastly.net/i/u/300x300/2a96cbd8b46e442fc41c2b86b821562f.png\n",
      "-----\n",
      "The Tiger Lillies\n",
      "https://lastfm.freetls.fastly.net/i/u/300x300/2a96cbd8b46e442fc41c2b86b821562f.png\n",
      "-----\n",
      "Lil Wyte\n",
      "https://lastfm.freetls.fastly.net/i/u/300x300/2a96cbd8b46e442fc41c2b86b821562f.png\n",
      "-----\n",
      "Fenne Lily\n",
      "https://lastfm.freetls.fastly.net/i/u/300x300/2a96cbd8b46e442fc41c2b86b821562f.png\n",
      "-----\n",
      "Lil' Flip\n",
      "https://lastfm.freetls.fastly.net/i/u/300x300/2a96cbd8b46e442fc41c2b86b821562f.png\n",
      "-----\n",
      "Lily James\n",
      "https://lastfm.freetls.fastly.net/i/u/300x300/2a96cbd8b46e442fc41c2b86b821562f.png\n",
      "-----\n",
      "Birdman & Lil' Wayne\n",
      "https://lastfm.freetls.fastly.net/i/u/300x300/2a96cbd8b46e442fc41c2b86b821562f.png\n",
      "-----\n",
      "Spangle call Lilli line\n",
      "https://lastfm.freetls.fastly.net/i/u/300x300/2a96cbd8b46e442fc41c2b86b821562f.png\n",
      "-----\n",
      "Lily & Madeleine\n",
      "https://lastfm.freetls.fastly.net/i/u/300x300/2a96cbd8b46e442fc41c2b86b821562f.png\n",
      "-----\n",
      "LIL BO WEEP\n",
      "https://lastfm.freetls.fastly.net/i/u/300x300/2a96cbd8b46e442fc41c2b86b821562f.png\n",
      "-----\n",
      "Lil Aaron\n",
      "https://lastfm.freetls.fastly.net/i/u/300x300/2a96cbd8b46e442fc41c2b86b821562f.png\n",
      "-----\n",
      "Mashrou' Leila\n",
      "https://lastfm.freetls.fastly.net/i/u/300x300/2a96cbd8b46e442fc41c2b86b821562f.png\n",
      "-----\n",
      "Lilac\n",
      "https://lastfm.freetls.fastly.net/i/u/300x300/2a96cbd8b46e442fc41c2b86b821562f.png\n",
      "-----\n",
      "The Lillingtons\n",
      "https://lastfm.freetls.fastly.net/i/u/300x300/2a96cbd8b46e442fc41c2b86b821562f.png\n",
      "-----\n",
      "Lil Gotit\n",
      "https://lastfm.freetls.fastly.net/i/u/300x300/2a96cbd8b46e442fc41c2b86b821562f.png\n",
      "-----\n",
      "Lillasyster\n",
      "https://lastfm.freetls.fastly.net/i/u/300x300/2a96cbd8b46e442fc41c2b86b821562f.png\n",
      "-----\n",
      "Lilys\n",
      "https://lastfm.freetls.fastly.net/i/u/300x300/2a96cbd8b46e442fc41c2b86b821562f.png\n",
      "-----\n",
      "Lilu\n",
      "https://lastfm.freetls.fastly.net/i/u/300x300/2a96cbd8b46e442fc41c2b86b821562f.png\n",
      "-----\n",
      "lil happy lil sad\n",
      "https://lastfm.freetls.fastly.net/i/u/300x300/2a96cbd8b46e442fc41c2b86b821562f.png\n",
      "-----\n",
      "Lily Chou-Chou\n",
      "https://lastfm.freetls.fastly.net/i/u/300x300/2a96cbd8b46e442fc41c2b86b821562f.png\n",
      "-----\n",
      "Lil Mama\n",
      "https://lastfm.freetls.fastly.net/i/u/300x300/2a96cbd8b46e442fc41c2b86b821562f.png\n",
      "-----\n",
      "Lil Loaded\n",
      "https://lastfm.freetls.fastly.net/i/u/300x300/2a96cbd8b46e442fc41c2b86b821562f.png\n",
      "-----\n",
      "Lil' Scrappy\n",
      "https://lastfm.freetls.fastly.net/i/u/300x300/2a96cbd8b46e442fc41c2b86b821562f.png\n",
      "-----\n"
     ]
    }
   ],
   "source": [
    "for artist in artist_search:\n",
    "    artist_name = artist['name']\n",
    "    print(artist_name)\n",
    "    for photo in artist['image']:\n",
    "        if photo['size'] == 'extralarge':\n",
    "            print(photo['#text'])\n",
    "    print(\"-----\")"
   ]
  },
  {
   "cell_type": "markdown",
   "metadata": {},
   "source": [
    "## 4) Find Lil Jon's `mbid` (or anyone else's!).\n",
    "\n",
    "Oftentimes in an API, you can do a few things: you can **search** for items, and you can **see more information** about items. To find more information about the item, you need to use their **unique id**. In this dataset, it's called an `mbid` (MusicBrainz, I think - another company associated with last.fm!).\n",
    "\n",
    "Go through the artists and print their **name and mbid**. Find Lil Jon's `mbid`. I *wanted* Lil Uzi Vert's, but for some reason it isn't there. Then I wanted us to look at Lily Allen's, but I just couldn't bring myself to do that. If you'd rather do someone else, go for it."
   ]
  },
  {
   "cell_type": "code",
   "execution_count": 57,
   "metadata": {},
   "outputs": [
    {
     "name": "stdout",
     "output_type": "stream",
     "text": [
      "Lil Jon's mbid is a95384b1-6aec-468c-ae0d-8c6daf87c4c2.\n"
     ]
    }
   ],
   "source": [
    "for mbid_finder in artist_search:\n",
    "    artist_mbid = mbid_finder['mbid']\n",
    "    name_artist = mbid_finder['name']\n",
    "    if name_artist == 'Lil Jon':\n",
    "        print(f'{name_artist}\\'s mbid is {artist_mbid}.')"
   ]
  },
  {
   "cell_type": "markdown",
   "metadata": {
    "collapsed": true
   },
   "source": [
    "## 5) Find the artist's name and bio using their `mbid`.\n",
    "\n",
    "It can either be Lil Jon or whoever you selected above.\n",
    "\n",
    "If you look at the [last.fm documentation](http://www.last.fm/api/show/artist.getInfo), you can see how to use the artist's `mbid` to find more information about them. Print **every tag associated with your artist**.\n",
    "\n",
    "- *Tip: It's a new request to the API*\n",
    "- *Tip: Use the `mbid`, and make sure you delete the `&name=Cher` from the sample endpoint*\n",
    "- *Tip: If you use `print` for the bio it looks a little nicer than it would otherwise*"
   ]
  },
  {
   "cell_type": "code",
   "execution_count": 58,
   "metadata": {},
   "outputs": [],
   "source": [
    "mbid_url = 'http://ws.audioscrobbler.com/2.0/?method=artist.getinfo&mbid=a95384b1-6aec-468c-ae0d-8c6daf87c4c2&api_key=65297f4af0c2fbc492dff031c75f7c52&format=json'\n",
    "mbid_response = requests.get(mbid_url, allow_redirects=True)\n",
    "mbid_data = mbid_response.json()"
   ]
  },
  {
   "cell_type": "code",
   "execution_count": 77,
   "metadata": {},
   "outputs": [
    {
     "name": "stdout",
     "output_type": "stream",
     "text": [
      "Here is Lil Jon's bio:\n",
      "Jonathan Mortimer Smith (born January 27, 1971 in Atlanta, Georgia), better known by his stage name Lil Jon, is an American rapper, actor, producer and member of the crunk group Lil Jon & The East Side Boyz. Lil Jon formed the group with friends Big Sam and Lil Bo, and they released five studio albums and have had many hit songs. He's prehaps best known for his iconic single \"Get Low\", which featured the Ying Yang Twins and reached #2 on the Billboard 100. He released his debut solo album, 'Crunk Rock', in June 2010.\n",
      "\n",
      "Lil Jon has also produced many hit urban singles and has made the terms \"OK!\", \"What?!\", and \"Yeah!\" a familiar calling among his friends and followers both inside and outside of the hip-hop genre. He's provided guest verses in many hip-hop and rnb tracks by a wide variety of artists as well. In terms of his personal life, he married Nicole Smith in 2004. They have a son named Nathan, who was born in 1998.\n",
      "\n",
      "Lil Jon was born and raised in Atlanta, Georgia. He worked for So So Def Recordings between 1993 and 2000.\n",
      "\n",
      "In addition to leading Lil Jon & The East Side Boyz, Lil Jon has also produced many hit urban singles. From 2003 to 2005, while still with The East Side Boyz, Lil Jon produced hits like \"Salt Shaker\" by Ying Yang Twins, \"Yeah!\" by Usher, Freek-a-Leek by Petey Pablo, Shorty Wanna Ride by Young Buck, Shake That Monkey by Too $hort, Let's Go by Trick Daddy, and Girlfight by Brooke Valentine. Lil Jon entered the San Francisco Bay Area hyphy music scene in 2006 with his collaborations with Bay Area rapper E-40, Lil Jon produced E-40's single \"Tell Me When To Go\" and had E-40 and Atlanta rapper Sean P on his own \"Snap Yo Fingers\".\n",
      "\n",
      "In 2006, Lil' Jon severed his negotiation with record label TVT. He vowed never to record for TVT Records again, alleging that TVT owner Steve Gottlieb was shortchanging him. He also began recording a rock music album, Crunk Rock; in May 2006 he began recording in Las Vegas, Nevada because rock band The Killers was recording its upcoming album Sam's Town there.\n",
      "\n",
      "MTV News reported in March 2008 that Crunk Rock was taking more time to complete than Lil' Jon already planned. As part of TVT Records' 2008 bankruptcy auction, Lil' Jon withdrew his multi-million dollar objection to the TVT sale proceedings and agreed to TVT’s transfer of his artist agreement to The Orchard. In return, The Orchard released Lil' Jon from all future obligations and returned the rights to the master recordings of Crunk Rock.\n",
      "\n",
      "Website: https://myspace.com/liljon <a href=\"https://www.last.fm/music/Lil+Jon\">Read more on Last.fm</a>. User-contributed text is available under the Creative Commons By-SA License; additional terms may apply.\n"
     ]
    }
   ],
   "source": [
    "artist_name = mbid_data['artist']['name']\n",
    "artist_bio = mbid_data['artist']['bio']['content']\n",
    "\n",
    "print(f'Here is {artist_name}\\'s bio:\\n{artist_bio}')"
   ]
  },
  {
   "cell_type": "markdown",
   "metadata": {
    "collapsed": true
   },
   "source": [
    "## 6) Print every tag of that artist"
   ]
  },
  {
   "cell_type": "code",
   "execution_count": 90,
   "metadata": {},
   "outputs": [
    {
     "name": "stdout",
     "output_type": "stream",
     "text": [
      "Name: Crunk, link: https://www.last.fm/tag/Crunk\n",
      "Name: Hip-Hop, link: https://www.last.fm/tag/Hip-Hop\n",
      "Name: rap, link: https://www.last.fm/tag/rap\n",
      "Name: Dirty South, link: https://www.last.fm/tag/Dirty+South\n",
      "Name: hip hop, link: https://www.last.fm/tag/hip+hop\n"
     ]
    }
   ],
   "source": [
    "mbid_data_tag = mbid_data['artist']['tags']['tag']\n",
    "\n",
    "for every_tag in mbid_data_tag:\n",
    "    mbid_name = every_tag['name']\n",
    "    mbid_link = every_tag['url']\n",
    "    print(f'Name: {mbid_name}, link: {mbid_link}')"
   ]
  },
  {
   "cell_type": "markdown",
   "metadata": {},
   "source": [
    "# GETTING A LITTLE CRAZY\n",
    "\n",
    "So you know your original list of musicians? I want to get tag data for ALL OF THEM. How are we going to do that?\n",
    "\n",
    "## 7) Find the mbids (again)\n",
    "\n",
    "If we have a musician with an mbid of `AAA-AAA-AAA`, we get their info from a url like `http://ws.audioscrobbler.com/blahblah/?api_key=12345&mbid=AAA-AAA-AAA`.\n",
    "\n",
    "|artist|url|\n",
    "|---|---|\n",
    "|`AAA-AAA-AAA`|`http://ws.audioscrobbler.com/blahblah/?api_key=12345&mbid=AAA-AAA-AAA`|\n",
    "|`BBB-BBB-BBB`|`http://ws.audioscrobbler.com/blahblah/?api_key=12345&mbid=BBB-BBB-BBB`|\n",
    "|`CCC-CCC-CCC`|`http://ws.audioscrobbler.com/blahblah/?api_key=12345&mbid=CCC-CCC-CCC`|\n",
    "\n",
    "I guess we should start trying to get a list of all of the mbids.\n",
    "\n",
    "**Loop through your artists, and print out the `mbid` for each artist**\n",
    "\n",
    "- *Tip: You probably need to request your artist search result data again, because you probably saved over `data` with your other API request. Maybe call it `artist_data` this time?*\n",
    "- *Tip: If the artist does NOT have an `mbid`, don't print it.*"
   ]
  },
  {
   "cell_type": "code",
   "execution_count": 106,
   "metadata": {},
   "outputs": [
    {
     "name": "stdout",
     "output_type": "stream",
     "text": [
      "6e0c7c0e-cba5-4c2c-a652-38f71ef5785d\n",
      "1550f952-c91b-40d7-9b4d-d26a259ee932\n",
      "5f1adfe1-4d07-4141-b181-79e5d379d539\n",
      "1b72331b-3a97-4981-a81c-eeee9c275d28\n",
      "ac9a487a-d9d2-4f27-bb23-0f4686488345\n",
      "3268f062-6e76-480a-a384-e1dd2a276afb\n",
      "c9cd225b-4883-428e-82c2-73e0b6282fb6\n",
      "bc1b5c95-e6d6-46b5-957a-5e8908b02c1e\n",
      "a95384b1-6aec-468c-ae0d-8c6daf87c4c2\n",
      "243c6f61-d83b-4459-bebd-5899df0da111\n",
      "ad29ae1c-2eda-4071-9dc8-31910e7e546c\n",
      "8ba17cf6-bec2-4ae4-9820-b1cda47adc08\n",
      "3ad4f6ec-253f-4050-8849-ca26266edfb8\n",
      "9b5ce0c1-1bc0-4ea2-a8d3-f5ee7af9eda8\n",
      "981d39fc-bd00-4cc6-ac67-6410f8b89098\n",
      "bc21df5c-3d79-479b-b638-8ddb5ecea403\n",
      "b89f4c50-72f5-48ce-b08c-a643b191b24f\n",
      "a31becdf-7b33-4409-9eb1-3f74bd72997c\n",
      "1967c6ce-95a4-48f0-8ac7-abe637524aee\n",
      "9803d120-716d-45ba-9eb7-9a120813f908\n",
      "9acaf734-b380-4c48-954c-a2cf1d7990a9\n",
      "50ad1cde-1536-4268-a55f-e47a7b8280ab\n",
      "d4d5ae85-700c-4a55-8a39-7f923da07ef2\n",
      "5652bb3e-f225-49de-9637-5aa1539b4a7c\n",
      "194e87c9-b3fe-4fbd-82a7-8c54b4dd4c76\n",
      "77fafce8-a32f-4d42-bdce-266bbf913cee\n"
     ]
    }
   ],
   "source": [
    "mbid_list = []\n",
    "for artist in artist_search:\n",
    "    artist_name = artist['name']\n",
    "    artist_mbid = artist['mbid']\n",
    "    if artist_mbid != '':\n",
    "        mbid_list.append([artist_name, artist_mbid])\n",
    "\n",
    "for person in mbid_list:\n",
    "    name_artist = person[0]\n",
    "    mbid_artist = person[1]\n",
    "    print(f'{mbid_artist}')"
   ]
  },
  {
   "cell_type": "markdown",
   "metadata": {},
   "source": [
    "Your results should look something like\n",
    "\n",
    "```\n",
    "6e0c7c0e-cba5-4c2c-a652-38f71ef5785d\n",
    "1550f952-c91b-40d7-9b4d-d26a259ee932\n",
    "1b72331b-3a97-4981-a81c-eeee9c275d28\n",
    "5f1adfe1-4d07-4141-b181-79e5d379d539\n",
    "a95384b1-6aec-468c-ae0d-8c6daf87c4c2\n",
    "bc1b5c95-e6d6-46b5-957a-5e8908b02c1e\n",
    "243c6f61-d83b-4459-bebd-5899df0da111\n",
    "```"
   ]
  },
  {
   "cell_type": "markdown",
   "metadata": {},
   "source": [
    "## 8) Saving those mbids\n",
    "\n",
    "For those `mbid` values, instead of printing them out, save them to a new list of just mbid values. Call this list `mbids`.\n",
    "\n",
    "- *Tip: Use `.append` to add a single element onto a list*"
   ]
  },
  {
   "cell_type": "code",
   "execution_count": 107,
   "metadata": {},
   "outputs": [
    {
     "name": "stdout",
     "output_type": "stream",
     "text": [
      "['6e0c7c0e-cba5-4c2c-a652-38f71ef5785d', '1550f952-c91b-40d7-9b4d-d26a259ee932', '5f1adfe1-4d07-4141-b181-79e5d379d539', '1b72331b-3a97-4981-a81c-eeee9c275d28', 'ac9a487a-d9d2-4f27-bb23-0f4686488345', '3268f062-6e76-480a-a384-e1dd2a276afb', 'c9cd225b-4883-428e-82c2-73e0b6282fb6', 'bc1b5c95-e6d6-46b5-957a-5e8908b02c1e', 'a95384b1-6aec-468c-ae0d-8c6daf87c4c2', '243c6f61-d83b-4459-bebd-5899df0da111', 'ad29ae1c-2eda-4071-9dc8-31910e7e546c', '8ba17cf6-bec2-4ae4-9820-b1cda47adc08', '3ad4f6ec-253f-4050-8849-ca26266edfb8', '9b5ce0c1-1bc0-4ea2-a8d3-f5ee7af9eda8', '981d39fc-bd00-4cc6-ac67-6410f8b89098', 'bc21df5c-3d79-479b-b638-8ddb5ecea403', 'b89f4c50-72f5-48ce-b08c-a643b191b24f', 'a31becdf-7b33-4409-9eb1-3f74bd72997c', '1967c6ce-95a4-48f0-8ac7-abe637524aee', '9803d120-716d-45ba-9eb7-9a120813f908', '9acaf734-b380-4c48-954c-a2cf1d7990a9', '50ad1cde-1536-4268-a55f-e47a7b8280ab', 'd4d5ae85-700c-4a55-8a39-7f923da07ef2', '5652bb3e-f225-49de-9637-5aa1539b4a7c', '194e87c9-b3fe-4fbd-82a7-8c54b4dd4c76', '77fafce8-a32f-4d42-bdce-266bbf913cee']\n"
     ]
    }
   ],
   "source": [
    "mbids = []\n",
    "for artist in artist_search:\n",
    "    artist_name = artist['name']\n",
    "    artist_mbid = artist['mbid']\n",
    "    if artist_mbid != '':\n",
    "        mbids.append(artist_mbid)\n",
    "        \n",
    "print(mbids)"
   ]
  },
  {
   "cell_type": "markdown",
   "metadata": {},
   "source": [
    "Your results should look something like\n",
    "\n",
    "```['6e0c7c0e-cba5-4c2c-a652-38f71ef5785d',\n",
    " '1550f952-c91b-40d7-9b4d-d26a259ee932',\n",
    " '1b72331b-3a97-4981-a81c-eeee9c275d28',\n",
    " '5f1adfe1-4d07-4141-b181-79e5d379d539',\n",
    " 'a95384b1-6aec-468c-ae0d-8c6daf87c4c2',\n",
    " 'bc1b5c95-e6d6-46b5-957a-5e8908b02c1e',\n",
    " '243c6f61-d83b-4459-bebd-5899df0da111',\n",
    " '8ba17cf6-bec2-4ae4-9820-b1cda47adc08',\n",
    " 'ad29ae1c-2eda-4071-9dc8-31910e7e546c',\n",
    " '3268f062-6e76-480a-a384-e1dd2a276afb',\n",
    " '3ad4f6ec-253f-4050-8849-ca26266edfb8',\n",
    " '9b5ce0c1-1bc0-4ea2-a8d3-f5ee7af9eda8',\n",
    " '981d39fc-bd00-4cc6-ac67-6410f8b89098',\n",
    " 'b89f4c50-72f5-48ce-b08c-a643b191b24f',\n",
    " 'bc21df5c-3d79-479b-b638-8ddb5ecea403',\n",
    " 'c9cd225b-4883-428e-82c2-73e0b6282fb6',\n",
    " '9acaf734-b380-4c48-954c-a2cf1d7990a9',\n",
    " 'd4d5ae85-700c-4a55-8a39-7f923da07ef2',\n",
    " '77fafce8-a32f-4d42-bdce-266bbf913cee',\n",
    " '50ad1cde-1536-4268-a55f-e47a7b8280ab',\n",
    " '9803d120-716d-45ba-9eb7-9a120813f908',\n",
    " 'b27560ea-2783-4a91-be45-9e8711917562',\n",
    " '194e87c9-b3fe-4fbd-82a7-8c54b4dd4c76',\n",
    " 'fd90af91-ed07-4e85-8816-26c954fe5286',\n",
    " '5652bb3e-f225-49de-9637-5aa1539b4a7c']```"
   ]
  },
  {
   "cell_type": "markdown",
   "metadata": {},
   "source": [
    "## 9) Printing our API urls\n",
    "\n",
    "To get tag data for each artist, you need to use those `mbid` values to access their artist page on the API. Loop through the mbids, displying the URL you'll need to access.\n",
    "\n",
    "- *Tip: You don't want to use a comma when printing, because commas add spaces into your text and URLs can't have that*\n",
    "- *Tip: Make sure your URL has `artist.getinfo` in it - if not, you're using the wrong endpoint.*"
   ]
  },
  {
   "cell_type": "code",
   "execution_count": 113,
   "metadata": {},
   "outputs": [
    {
     "name": "stdout",
     "output_type": "stream",
     "text": [
      "http://ws.audioscrobbler.com/2.0/?method=artist.getinfo&mbid=6e0c7c0e-cba5-4c2c-a652-38f71ef5785d&api_key=65297f4af0c2fbc492dff031c75f7c52&format=json\n",
      "http://ws.audioscrobbler.com/2.0/?method=artist.getinfo&mbid=1550f952-c91b-40d7-9b4d-d26a259ee932&api_key=65297f4af0c2fbc492dff031c75f7c52&format=json\n",
      "http://ws.audioscrobbler.com/2.0/?method=artist.getinfo&mbid=5f1adfe1-4d07-4141-b181-79e5d379d539&api_key=65297f4af0c2fbc492dff031c75f7c52&format=json\n",
      "http://ws.audioscrobbler.com/2.0/?method=artist.getinfo&mbid=1b72331b-3a97-4981-a81c-eeee9c275d28&api_key=65297f4af0c2fbc492dff031c75f7c52&format=json\n",
      "http://ws.audioscrobbler.com/2.0/?method=artist.getinfo&mbid=ac9a487a-d9d2-4f27-bb23-0f4686488345&api_key=65297f4af0c2fbc492dff031c75f7c52&format=json\n",
      "http://ws.audioscrobbler.com/2.0/?method=artist.getinfo&mbid=3268f062-6e76-480a-a384-e1dd2a276afb&api_key=65297f4af0c2fbc492dff031c75f7c52&format=json\n",
      "http://ws.audioscrobbler.com/2.0/?method=artist.getinfo&mbid=c9cd225b-4883-428e-82c2-73e0b6282fb6&api_key=65297f4af0c2fbc492dff031c75f7c52&format=json\n",
      "http://ws.audioscrobbler.com/2.0/?method=artist.getinfo&mbid=bc1b5c95-e6d6-46b5-957a-5e8908b02c1e&api_key=65297f4af0c2fbc492dff031c75f7c52&format=json\n",
      "http://ws.audioscrobbler.com/2.0/?method=artist.getinfo&mbid=a95384b1-6aec-468c-ae0d-8c6daf87c4c2&api_key=65297f4af0c2fbc492dff031c75f7c52&format=json\n",
      "http://ws.audioscrobbler.com/2.0/?method=artist.getinfo&mbid=243c6f61-d83b-4459-bebd-5899df0da111&api_key=65297f4af0c2fbc492dff031c75f7c52&format=json\n",
      "http://ws.audioscrobbler.com/2.0/?method=artist.getinfo&mbid=ad29ae1c-2eda-4071-9dc8-31910e7e546c&api_key=65297f4af0c2fbc492dff031c75f7c52&format=json\n",
      "http://ws.audioscrobbler.com/2.0/?method=artist.getinfo&mbid=8ba17cf6-bec2-4ae4-9820-b1cda47adc08&api_key=65297f4af0c2fbc492dff031c75f7c52&format=json\n",
      "http://ws.audioscrobbler.com/2.0/?method=artist.getinfo&mbid=3ad4f6ec-253f-4050-8849-ca26266edfb8&api_key=65297f4af0c2fbc492dff031c75f7c52&format=json\n",
      "http://ws.audioscrobbler.com/2.0/?method=artist.getinfo&mbid=9b5ce0c1-1bc0-4ea2-a8d3-f5ee7af9eda8&api_key=65297f4af0c2fbc492dff031c75f7c52&format=json\n",
      "http://ws.audioscrobbler.com/2.0/?method=artist.getinfo&mbid=981d39fc-bd00-4cc6-ac67-6410f8b89098&api_key=65297f4af0c2fbc492dff031c75f7c52&format=json\n",
      "http://ws.audioscrobbler.com/2.0/?method=artist.getinfo&mbid=bc21df5c-3d79-479b-b638-8ddb5ecea403&api_key=65297f4af0c2fbc492dff031c75f7c52&format=json\n",
      "http://ws.audioscrobbler.com/2.0/?method=artist.getinfo&mbid=b89f4c50-72f5-48ce-b08c-a643b191b24f&api_key=65297f4af0c2fbc492dff031c75f7c52&format=json\n",
      "http://ws.audioscrobbler.com/2.0/?method=artist.getinfo&mbid=a31becdf-7b33-4409-9eb1-3f74bd72997c&api_key=65297f4af0c2fbc492dff031c75f7c52&format=json\n",
      "http://ws.audioscrobbler.com/2.0/?method=artist.getinfo&mbid=1967c6ce-95a4-48f0-8ac7-abe637524aee&api_key=65297f4af0c2fbc492dff031c75f7c52&format=json\n",
      "http://ws.audioscrobbler.com/2.0/?method=artist.getinfo&mbid=9803d120-716d-45ba-9eb7-9a120813f908&api_key=65297f4af0c2fbc492dff031c75f7c52&format=json\n",
      "http://ws.audioscrobbler.com/2.0/?method=artist.getinfo&mbid=9acaf734-b380-4c48-954c-a2cf1d7990a9&api_key=65297f4af0c2fbc492dff031c75f7c52&format=json\n",
      "http://ws.audioscrobbler.com/2.0/?method=artist.getinfo&mbid=50ad1cde-1536-4268-a55f-e47a7b8280ab&api_key=65297f4af0c2fbc492dff031c75f7c52&format=json\n",
      "http://ws.audioscrobbler.com/2.0/?method=artist.getinfo&mbid=d4d5ae85-700c-4a55-8a39-7f923da07ef2&api_key=65297f4af0c2fbc492dff031c75f7c52&format=json\n",
      "http://ws.audioscrobbler.com/2.0/?method=artist.getinfo&mbid=5652bb3e-f225-49de-9637-5aa1539b4a7c&api_key=65297f4af0c2fbc492dff031c75f7c52&format=json\n",
      "http://ws.audioscrobbler.com/2.0/?method=artist.getinfo&mbid=194e87c9-b3fe-4fbd-82a7-8c54b4dd4c76&api_key=65297f4af0c2fbc492dff031c75f7c52&format=json\n",
      "http://ws.audioscrobbler.com/2.0/?method=artist.getinfo&mbid=77fafce8-a32f-4d42-bdce-266bbf913cee&api_key=65297f4af0c2fbc492dff031c75f7c52&format=json\n"
     ]
    }
   ],
   "source": [
    "new_mbid_list = []\n",
    "for mbid in mbids:\n",
    "    new_mbid_list.append(f'http://ws.audioscrobbler.com/2.0/?method=artist.getinfo&mbid={mbid}&api_key=65297f4af0c2fbc492dff031c75f7c52&format=json')\n",
    "    print(f'http://ws.audioscrobbler.com/2.0/?method=artist.getinfo&mbid={mbid}&api_key=65297f4af0c2fbc492dff031c75f7c52&format=json')"
   ]
  },
  {
   "cell_type": "markdown",
   "metadata": {},
   "source": [
    "Your results should look something like\n",
    "\n",
    "```http://ws.audioscrobbler.com/2.0/?method=artist.getinfo&api_key=XXXXX&format=json&mbid=6e0c7c0e-cba5-4c2c-a652-38f71ef5785d\n",
    "http://ws.audioscrobbler.com/2.0/?method=artist.getinfo&api_key=XXXXX&format=json&mbid=1550f952-c91b-40d7-9b4d-d26a259ee932\n",
    "http://ws.audioscrobbler.com/2.0/?method=artist.getinfo&api_key=XXXXX&format=json&mbid=1b72331b-3a97-4981-a81c-eeee9c275d28\n",
    "http://ws.audioscrobbler.com/2.0/?method=artist.getinfo&api_key=XXXXX&format=json&mbid=5f1adfe1-4d07-4141-b181-79e5d379d539\n",
    "http://ws.audioscrobbler.com/2.0/?method=artist.getinfo&api_key=XXXXX&format=json&mbid=a95384b1-6aec-468c-ae0d-8c6daf87c4c2\n",
    "http://ws.audioscrobbler.com/2.0/?method=artist.getinfo&api_key=XXXXX&format=json&mbid=bc1b5c95-e6d6-46b5-957a-5e8908b02c1e```"
   ]
  },
  {
   "cell_type": "markdown",
   "metadata": {},
   "source": [
    "## OKAY HERE IS A LITTLE INFORMATION: Using our API urls\n",
    "\n",
    "This time instead of just *displaying* the URL, we're going to *request and process it*. **But first I'm going to teach you something.**\n",
    "\n",
    "When you're dealing with an API, you don't want to make a million requests, have bad code, and then need to do those million requests again. It's usually best to test your code with a few of the results first.\n",
    "\n",
    "So, if we have a list of numbers like this:"
   ]
  },
  {
   "cell_type": "code",
   "execution_count": null,
   "metadata": {},
   "outputs": [],
   "source": [
    "numbers = [4, 5, 6, 7]\n",
    "numbers"
   ]
  },
  {
   "cell_type": "markdown",
   "metadata": {},
   "source": [
    "You can actually say to Python, **give me the first two**, and it will only give you the first two."
   ]
  },
  {
   "cell_type": "code",
   "execution_count": null,
   "metadata": {},
   "outputs": [],
   "source": [
    "numbers[:2]"
   ]
  },
  {
   "cell_type": "markdown",
   "metadata": {},
   "source": [
    "The is **very convenient** with loopng with APIs, because instead of trying to use all FIFTY artists, you can just say \"hey, please try this out with 2 of them\" and you don't waste time."
   ]
  },
  {
   "cell_type": "markdown",
   "metadata": {},
   "source": [
    "## 10) Using the first three `mbids`, request the API urls and print the artist's name.\n",
    "\n",
    "You built the URLs in the last question, now it's time to use them! Use `requests` etc to grab the URL and get out the artist's name.\n",
    "\n",
    "- *Tip: The code is the same as last time you got an artist's name from their info page, it's just going to be inside of a loop*\n",
    "- *Tip: USE `PRINT` TO SEE WHAT YOU ARE LOOKING AT!!!!!*"
   ]
  },
  {
   "cell_type": "code",
   "execution_count": 121,
   "metadata": {},
   "outputs": [
    {
     "name": "stdout",
     "output_type": "stream",
     "text": [
      "Lily Allen\n",
      "Lil B\n",
      "Lil Ugly Mane\n"
     ]
    }
   ],
   "source": [
    "count = 0\n",
    "for mbid in new_mbid_list:\n",
    "    if count < 3:\n",
    "        check_mbid_url = new_mbid_list[count]\n",
    "        check_mbid_response = requests.get(check_mbid_url, allow_redirects=True)\n",
    "        check_mbid_data = check_mbid_response.json()\n",
    "        print(check_mbid_data['artist']['name'])\n",
    "    count = count + 1"
   ]
  },
  {
   "cell_type": "markdown",
   "metadata": {},
   "source": [
    "## 11) Using the first three `mbids`, request the API urls and print the artist's name and their tags\n",
    "\n",
    "- *Tip: The code is the same as last time you got an artist's name from their info page, it's just going to be inside of a loop*\n",
    "- *Tip: It's a for loop in a for loop!*"
   ]
  },
  {
   "cell_type": "code",
   "execution_count": 123,
   "metadata": {},
   "outputs": [
    {
     "name": "stdout",
     "output_type": "stream",
     "text": [
      "Lily Allen\n",
      "Name: pop, link: https://www.last.fm/tag/pop\n",
      "Name: female vocalists, link: https://www.last.fm/tag/female+vocalists\n",
      "Name: british, link: https://www.last.fm/tag/british\n",
      "Name: britpop, link: https://www.last.fm/tag/britpop\n",
      "Name: singer-songwriter, link: https://www.last.fm/tag/singer-songwriter\n",
      "Lil B\n",
      "Name: based, link: https://www.last.fm/tag/based\n",
      "Name: Hip-Hop, link: https://www.last.fm/tag/Hip-Hop\n",
      "Name: swag, link: https://www.last.fm/tag/swag\n",
      "Name: real recognize real and this nigga the realest, link: https://www.last.fm/tag/real+recognize+real+and+this+nigga+the+realest\n",
      "Name: rap, link: https://www.last.fm/tag/rap\n",
      "Lil Ugly Mane\n",
      "Name: Hip-Hop, link: https://www.last.fm/tag/Hip-Hop\n",
      "Name: memphis rap, link: https://www.last.fm/tag/memphis+rap\n",
      "Name: Gangsta Rap, link: https://www.last.fm/tag/Gangsta+Rap\n",
      "Name: Lo-Fi, link: https://www.last.fm/tag/Lo-Fi\n",
      "Name: Trill Shit, link: https://www.last.fm/tag/Trill+Shit\n"
     ]
    }
   ],
   "source": [
    "count = 0\n",
    "for mbid in new_mbid_list:\n",
    "    if count < 3:\n",
    "        check_mbid_url = new_mbid_list[count]\n",
    "        check_mbid_response = requests.get(check_mbid_url, allow_redirects=True)\n",
    "        check_mbid_data = check_mbid_response.json()\n",
    "        print(check_mbid_data['artist']['name'])\n",
    "        for get_tag in check_mbid_data['artist']['tags']['tag']:\n",
    "            mbid_name = get_tag['name']\n",
    "            mbid_link = get_tag['url']\n",
    "            print(f'Name: {mbid_name}, link: {mbid_link}')\n",
    "    count = count + 1"
   ]
  },
  {
   "cell_type": "markdown",
   "metadata": {},
   "source": [
    "## 12) Using the first ten mbids, print the artist's name and whether they're a rapper\n",
    "\n",
    "Only print their name ONCE and only print whether they are hip hop or not ONCE.\n",
    "\n",
    "- *Tip: Rap tags include hip hop, swag, crunk, rap, dirty south, and probably a bunch of other stuff! You can include as many categories as you'd like.*\n",
    "- *Tip: You can use `2 in [1, 2, 3]` to find out if `2` is in the list of `[1, 2, 3]`.*\n",
    "- *Tip: Every time you look at a new artist, you can say they are NOT a rapper. And once you find out one of their tags is hip hop or rap, then you can note that they're a rapper. Then once you're done looking at their tags, then you can say HEY this is a rapper, or HEY this is not a rapper.*"
   ]
  },
  {
   "cell_type": "code",
   "execution_count": 138,
   "metadata": {},
   "outputs": [
    {
     "name": "stdout",
     "output_type": "stream",
     "text": [
      "Lily Allen\n",
      "Yes hip hop\n",
      "-----\n",
      "Lil B\n",
      "Yes hip hop\n",
      "-----\n",
      "Lil Ugly Mane\n",
      "Yes hip hop\n",
      "-----\n",
      "Lilly Wood & The Prick\n",
      "Yes hip hop\n",
      "-----\n",
      "Lil Wayne\n",
      "Yes hip hop\n",
      "-----\n",
      "Lil Dicky\n",
      "Yes hip hop\n",
      "-----\n",
      "Lil Durk\n",
      "Yes hip hop\n",
      "-----\n",
      "Lil' Kim\n",
      "Yes hip hop\n",
      "-----\n",
      "Lil Jon\n",
      "Yes hip hop\n",
      "-----\n",
      "Lil Jon & The East Side Boyz\n",
      "Yes hip hop\n",
      "-----\n"
     ]
    }
   ],
   "source": [
    "count = 0\n",
    "for mbid in new_mbid_list:\n",
    "    is_rap = False\n",
    "    if count < 10:\n",
    "        check_mbid_url = new_mbid_list[count]\n",
    "        check_mbid_response = requests.get(check_mbid_url, allow_redirects=True)\n",
    "        check_mbid_data = check_mbid_response.json()\n",
    "        print(check_mbid_data['artist']['name'])\n",
    "        for get_tag in check_mbid_data['artist']['tags']['tag']:\n",
    "            mbid_name = get_tag['name']\n",
    "            if 'rap' or 'hip hop' in mbid_name:\n",
    "                is_rap = True\n",
    "        if is_rap == True:\n",
    "            print(\"Yes hip hop\")\n",
    "        else:\n",
    "            print(\"No hip hop\")\n",
    "        print(\"-----\")\n",
    "    count = count + 1"
   ]
  },
  {
   "cell_type": "markdown",
   "metadata": {},
   "source": [
    "Your results might look something like\n",
    "\n",
    "```ARTIST: Lily Allen\n",
    "NO hip hop\n",
    "ARTIST: Lil B\n",
    "YES hip hop\n",
    "ARTIST: Lilly Wood & The Prick\n",
    "NO hip hop\n",
    "ARTIST: Lil Ugly Mane\n",
    "YES hip hop\n",
    "ARTIST: Lil Jon\n",
    "YES hip hop\n",
    "ARTIST: Lil' Kim\n",
    "YES hip hop\n",
    "ARTIST: Lil Jon & The East Side Boyz\n",
    "YES hip hop\n",
    "```"
   ]
  },
  {
   "cell_type": "markdown",
   "metadata": {
    "collapsed": true
   },
   "source": [
    "## 13) What percent of \"lil\" results are rappers?"
   ]
  },
  {
   "cell_type": "code",
   "execution_count": 152,
   "metadata": {},
   "outputs": [
    {
     "name": "stdout",
     "output_type": "stream",
     "text": [
      "Of the 'lil' results, 100% are rappers.\n"
     ]
    }
   ],
   "source": [
    "rapper_count = 0\n",
    "\n",
    "for human in new_mbid_list:\n",
    "    is_rap = False\n",
    "    actual_mbid_url = human\n",
    "    actual_mbid_response = requests.get(actual_mbid_url, allow_redirects=True)\n",
    "    actual_mbid_data = actual_mbid_response.json()\n",
    "    for tag_check in check_mbid_data['artist']['tags']['tag']:\n",
    "        mbid_name = tag_check['name']\n",
    "        if 'rap' or 'hip hop' in mbid_name:\n",
    "            is_rap = True\n",
    "    if is_rap == True:\n",
    "        rapper_count = rapper_count + 1\n",
    "\n",
    "total_lil = len(new_mbid_list)\n",
    "percent_rap = (round(rapper_count/total_lil) * 100)\n",
    "\n",
    "print(f'Of the \\'lil\\' results, {percent_rap}% are rappers.')"
   ]
  },
  {
   "cell_type": "markdown",
   "metadata": {},
   "source": [
    "## 14) Seriously you are all-powerful now."
   ]
  },
  {
   "cell_type": "code",
   "execution_count": null,
   "metadata": {},
   "outputs": [],
   "source": [
    "# wow"
   ]
  }
 ],
 "metadata": {
  "kernelspec": {
   "display_name": "Python 3",
   "language": "python",
   "name": "python3"
  },
  "language_info": {
   "codemirror_mode": {
    "name": "ipython",
    "version": 3
   },
   "file_extension": ".py",
   "mimetype": "text/x-python",
   "name": "python",
   "nbconvert_exporter": "python",
   "pygments_lexer": "ipython3",
   "version": "3.7.1"
  }
 },
 "nbformat": 4,
 "nbformat_minor": 1
}
