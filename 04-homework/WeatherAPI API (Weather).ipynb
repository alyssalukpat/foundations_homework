{
 "cells": [
  {
   "cell_type": "markdown",
   "metadata": {},
   "source": [
    "# WeatherAPI (Weather)\n",
    "\n",
    "Answer the following questions using [WeatherAPI](http://www.weatherapi.com/). I've added three cells for most questions but you're free to use more or less! Hold `Shift` and hit `Enter` to run a cell, and use the `+` on the top left to add a new cell to a notebook.\n",
    "\n",
    "Be sure to take advantage of both the documentation and the API Explorer!\n",
    "\n",
    "## 0) Import any libraries you might need\n",
    "\n",
    "- *Tip: We're going to be downloading things from the internet, so we probably need `requests`.*\n",
    "- *Tip: Remember you only need to import requests once!*"
   ]
  },
  {
   "cell_type": "code",
   "execution_count": 3,
   "metadata": {},
   "outputs": [],
   "source": [
    "import requests"
   ]
  },
  {
   "cell_type": "code",
   "execution_count": null,
   "metadata": {
    "collapsed": true
   },
   "outputs": [],
   "source": []
  },
  {
   "cell_type": "markdown",
   "metadata": {
    "collapsed": true
   },
   "source": [
    "## 1) Make a request to the Weather API for where you were born (or lived, or want to visit!).\n",
    "\n",
    "- *Tip: The URL we used in class was for a place near San Francisco. What was the format of the endpoint that made this happen?*\n",
    "- *Tip: Save the URL as a separate variable, and be sure to not have `[` and `]` inside.*\n",
    "- *Tip: How is north vs. south and east vs. west latitude/longitude represented? Is it the normal North/South/East/West?*\n",
    "- *Tip: You know it's JSON, but Python doesn't! Make sure you aren't trying to deal with plain text.* \n",
    "- *Tip: Once you've imported the JSON into a variable, check the timezone's name to make sure it seems like it got the right part of the world!*"
   ]
  },
  {
   "cell_type": "code",
   "execution_count": 1,
   "metadata": {},
   "outputs": [],
   "source": [
    "city = 'Sunnyvale'\n",
    "url =  f'http://api.weatherapi.com/v1/current.json?key=f5b146a0ca05450aa7711748200311&q={city}'"
   ]
  },
  {
   "cell_type": "code",
   "execution_count": 4,
   "metadata": {},
   "outputs": [],
   "source": [
    "response = requests.get(url, allow_redirects=True)"
   ]
  },
  {
   "cell_type": "code",
   "execution_count": 5,
   "metadata": {},
   "outputs": [],
   "source": [
    "data = response.json()"
   ]
  },
  {
   "cell_type": "markdown",
   "metadata": {},
   "source": [
    "## 2) What's the current wind speed? How much warmer does it feel than it actually is?\n",
    "\n",
    "- *Tip: You can do this by browsing through the dictionaries, but it might be easier to read the documentation*\n",
    "- *Tip: For the second half: it **is** one temperature, and it **feels** a different temperature. Calculate the difference.*"
   ]
  },
  {
   "cell_type": "code",
   "execution_count": 12,
   "metadata": {},
   "outputs": [
    {
     "name": "stdout",
     "output_type": "stream",
     "text": [
      "The current wind speed in Sunnyvale is 1.3 miles per hour.\n"
     ]
    }
   ],
   "source": [
    "wind_speed = data['current'][\"wind_mph\"]\n",
    "print(f'The current wind speed in {city} is {wind_speed} miles per hour.')"
   ]
  },
  {
   "cell_type": "code",
   "execution_count": 21,
   "metadata": {},
   "outputs": [],
   "source": [
    "current_temp = data['current']['temp_f']\n",
    "feels_like = data['current']['feelslike_f']\n",
    "difference = current_temp - feels_like"
   ]
  },
  {
   "cell_type": "code",
   "execution_count": 23,
   "metadata": {},
   "outputs": [
    {
     "name": "stdout",
     "output_type": "stream",
     "text": [
      "The weather in Sunnyvale feels like the current temperature, 63.7 degrees.\n"
     ]
    }
   ],
   "source": [
    "if difference > 0:\n",
    "    print(f'It feels {difference} degrees colder in {city}.')\n",
    "elif difference < 0:\n",
    "    print(f'It feels {difference} degrees warmer in {city}.')\n",
    "else:\n",
    "    print(f'The weather in {city} feels like the current temperature, {current_temp} degrees.')"
   ]
  },
  {
   "cell_type": "markdown",
   "metadata": {},
   "source": [
    "## 3) What is the API endpoint for moon-related information? For the place you decided on above, how much of the moon will be visible on next Thursday?\n",
    "\n",
    "- *Tip: Check the documentation!*\n",
    "- *Tip: If you aren't sure what something means, ask in Slack*"
   ]
  },
  {
   "cell_type": "code",
   "execution_count": 24,
   "metadata": {},
   "outputs": [],
   "source": [
    "moon_url = \"http://api.weatherapi.com/v1/forecast.json?key=f5b146a0ca05450aa7711748200311&q=Sunnyvale&days=10\"\n",
    "moon_response = requests.get(moon_url, allow_redirects=True)\n",
    "moon_data = moon_response.json()\n",
    "# I requested 10 days on Thursday, Nov. 5, but because we're on a free plan, WeatherAPI only shows forecasts through Saturday.\n",
    "# Since I can't view next Thursday's forecast info, here if the info for Saturday, Nov. 7:"
   ]
  },
  {
   "cell_type": "code",
   "execution_count": 60,
   "metadata": {},
   "outputs": [],
   "source": [
    "forecast_day = moon_data['forecast']['forecastday']\n",
    "\n",
    "for day in forecast_day:\n",
    "    if day['date'] == '2020-11-07':\n",
    "        the_date = day['date']\n",
    "        illumination = day['astro']['moon_illumination']\n",
    "        phase = day['astro']['moon_phase']"
   ]
  },
  {
   "cell_type": "code",
   "execution_count": 61,
   "metadata": {},
   "outputs": [
    {
     "name": "stdout",
     "output_type": "stream",
     "text": [
      "On 2020-11-07 in Sunnyvale, the moon's illumination will be 48% and its phase will be Waning Crescent.\n"
     ]
    }
   ],
   "source": [
    "print(f'On {the_date} in {city}, the moon\\'s illumination will be {illumination}% and its phase will be {phase}.')"
   ]
  },
  {
   "cell_type": "markdown",
   "metadata": {},
   "source": [
    "## 4) What's the difference between the high and low temperatures for today?\n",
    "\n",
    "- *Tip: When you requested moon data, you probably overwrote your variables! If so, you'll need to make a new request.*"
   ]
  },
  {
   "cell_type": "code",
   "execution_count": 66,
   "metadata": {},
   "outputs": [],
   "source": [
    "my_url =  f'http://api.weatherapi.com/v1/forecast.json?key=f5b146a0ca05450aa7711748200311&q={city}'\n",
    "my_response = requests.get(my_url, allow_redirects=True)\n",
    "my_data = my_response.json()"
   ]
  },
  {
   "cell_type": "code",
   "execution_count": 80,
   "metadata": {
    "scrolled": true
   },
   "outputs": [
    {
     "name": "stdout",
     "output_type": "stream",
     "text": [
      "The difference between today's high and low temperature in Sunnyvale is about 21 degrees Fahrenheit.\n"
     ]
    }
   ],
   "source": [
    "high_temp = my_data['forecast']['forecastday'][0]['day']['maxtemp_f']\n",
    "low_temp = my_data['forecast']['forecastday'][0]['day']['mintemp_f']\n",
    "        \n",
    "temp_difference = round(high_temp - low_temp)\n",
    "print(f'The difference between today\\'s high and low temperature in {city} is about {temp_difference} degrees Fahrenheit.')"
   ]
  },
  {
   "cell_type": "markdown",
   "metadata": {
    "collapsed": true
   },
   "source": [
    "## 4.5) How can you avoid the \"oh no I don't have the data any more because I made another request\" problem in the future?\n",
    "\n",
    "What variable(s) do you have to rename, and what would you rename them?"
   ]
  },
  {
   "cell_type": "code",
   "execution_count": null,
   "metadata": {},
   "outputs": [],
   "source": [
    "# I would rename every instance of the url, response, and data variables with unique names."
   ]
  },
  {
   "cell_type": "code",
   "execution_count": null,
   "metadata": {},
   "outputs": [],
   "source": [
    "# For example, moon_url, moon_response, and moon_data."
   ]
  },
  {
   "cell_type": "markdown",
   "metadata": {},
   "source": [
    "## 5) Go through the daily forecasts, printing out the next week's worth of predictions.\n",
    "\n",
    "I'd like to know the **high temperature** for each day, and whether it's **hot, warm, or cold** (based on what temperatures you think are hot, warm or cold).\n",
    "\n",
    "- *Tip: You'll need to use an `if` statement to say whether it is hot, warm or cold.*"
   ]
  },
  {
   "cell_type": "code",
   "execution_count": 101,
   "metadata": {},
   "outputs": [],
   "source": [
    "# forecast_url is the same link as my_url, but I added the next few days of forecasts.\n",
    "forecast_url = 'http://api.weatherapi.com/v1/forecast.json?key=f5b146a0ca05450aa7711748200311&q={city}&days=7'\n",
    "forecast_response = requests.get(forecast_url, allow_redirects=True) \n",
    "forecast_data = forecast_response.json()"
   ]
  },
  {
   "cell_type": "code",
   "execution_count": 106,
   "metadata": {},
   "outputs": [
    {
     "name": "stdout",
     "output_type": "stream",
     "text": [
      "On 2020-11-06 in Sunnyvale, the high temperature will be 84.2 degrees. That's hot!\n",
      "-----\n",
      "On 2020-11-07 in Sunnyvale, the high temperature will be 86.4 degrees. That's hot!\n",
      "-----\n",
      "On 2020-11-08 in Sunnyvale, the high temperature will be 85.8 degrees. That's hot!\n",
      "-----\n"
     ]
    }
   ],
   "source": [
    "for forecast in forecast_data['forecast']['forecastday']:\n",
    "    forecast_date = forecast['date']\n",
    "    high_temperature = forecast['day']['maxtemp_f']\n",
    "    if high_temperature >= 80:\n",
    "        print(f'On {forecast_date} in {city}, the high temperature will be {high_temperature} degrees. That\\'s hot!')\n",
    "    elif high_temperature >= 60:\n",
    "        print(f'On {forecast_date} in {city}, the high temperature will be {high_temperature} degrees. That\\'s warm!')\n",
    "    else:\n",
    "        print(f'On {forecast_date} in {city}, the high temperature will be {high_temperature} degrees. That\\'s cold!')\n",
    "    print(\"-----\")"
   ]
  },
  {
   "cell_type": "code",
   "execution_count": null,
   "metadata": {},
   "outputs": [],
   "source": []
  },
  {
   "cell_type": "markdown",
   "metadata": {},
   "source": [
    "# 6) What will be the hottest day in the next week? What is the high temperature on that day?"
   ]
  },
  {
   "cell_type": "code",
   "execution_count": 110,
   "metadata": {},
   "outputs": [],
   "source": [
    "hottest_temp = 0"
   ]
  },
  {
   "cell_type": "code",
   "execution_count": 111,
   "metadata": {},
   "outputs": [
    {
     "name": "stdout",
     "output_type": "stream",
     "text": [
      "The hottest day in Sunnyvale the next few days will be 2020-11-07, when the temperature hits 86.4 degrees.\n"
     ]
    }
   ],
   "source": [
    "for forecast in forecast_data['forecast']['forecastday']:\n",
    "    high_temperature = forecast['day']['maxtemp_f']\n",
    "    if high_temperature > hottest_temp:\n",
    "        hottest_temp = high_temperature\n",
    "        hottest_day = forecast['date']\n",
    "        \n",
    "print(f'The hottest day in {city} the next few days will be {hottest_day}, when the temperature hits {hottest_temp} degrees.')"
   ]
  },
  {
   "cell_type": "code",
   "execution_count": null,
   "metadata": {
    "collapsed": true
   },
   "outputs": [],
   "source": []
  },
  {
   "cell_type": "markdown",
   "metadata": {},
   "source": [
    "## 7) What's the weather looking like for the next 24+ hours in Miami, Florida?\n",
    "\n",
    "I'd like to know the temperature for every hour, and if it's going to have cloud cover of more than 50% say \"{temperature} and cloudy\" instead of just the temperature. \n",
    "\n",
    "- *Tip: You'll only need one day of forecast*"
   ]
  },
  {
   "cell_type": "code",
   "execution_count": 222,
   "metadata": {},
   "outputs": [],
   "source": [
    "miami_city = 'Miami'\n",
    "miami_url =  f'http://api.weatherapi.com/v1/forecast.json?key=f5b146a0ca05450aa7711748200311&q={miami_city}&days=2'\n",
    "miami_response = requests.get(miami_url, allow_redirects=True)\n",
    "miami_data = miami_response.json()"
   ]
  },
  {
   "cell_type": "code",
   "execution_count": 223,
   "metadata": {},
   "outputs": [],
   "source": [
    "from datetime import datetime\n",
    "\n",
    "time_now = str(datetime.now().time())\n",
    "now = int(time_now[0:2]) + 1\n",
    "\n",
    "forecaster = miami_data['forecast']['forecastday'][0]['hour']\n",
    "forecaster_two = miami_data['forecast']['forecastday'][1]['hour']\n",
    "count = now\n",
    "current_timestamp = miami_data['forecast']['forecastday'][0]['hour'][count]['time']"
   ]
  },
  {
   "cell_type": "code",
   "execution_count": 224,
   "metadata": {},
   "outputs": [
    {
     "name": "stdout",
     "output_type": "stream",
     "text": [
      "At 2020-11-05 17:00 in Miami, it will be 79.7 degrees and cloudy.\n",
      "At 2020-11-05 18:00 in Miami, it will be 78.4 degrees and cloudy.\n",
      "At 2020-11-05 19:00 in Miami, it will be 77.4 degrees and cloudy.\n",
      "At 2020-11-05 20:00 in Miami, it will be 76.1 degrees and cloudy.\n",
      "At 2020-11-05 21:00 in Miami, it will be 73.0 degrees and cloudy.\n",
      "At 2020-11-05 22:00 in Miami, it will be 70.2 degrees and cloudy.\n",
      "At 2020-11-05 23:00 in Miami, it will be 67.1 degrees and cloudy.\n",
      "At 2020-11-06 00:00 in Miami, it will be 71.1 degrees and cloudy.\n",
      "At 2020-11-06 01:00 in Miami, it will be 75.0 degrees and cloudy.\n",
      "At 2020-11-06 02:00 in Miami, it will be 79.0 degrees and cloudy.\n",
      "At 2020-11-06 03:00 in Miami, it will be 79.0 degrees and cloudy.\n",
      "At 2020-11-06 04:00 in Miami, it will be 79.0 degrees and cloudy.\n",
      "At 2020-11-06 05:00 in Miami, it will be 79.0 degrees and cloudy.\n",
      "At 2020-11-06 06:00 in Miami, it will be 79.2 degrees and cloudy.\n",
      "At 2020-11-06 07:00 in Miami, it will be 79.2 degrees and cloudy.\n",
      "At 2020-11-06 08:00 in Miami, it will be 79.3 degrees and cloudy.\n",
      "At 2020-11-06 09:00 in Miami, it will be 79.5 degrees and cloudy.\n",
      "At 2020-11-06 10:00 in Miami, it will be 79.9 degrees and cloudy.\n",
      "At 2020-11-06 11:00 in Miami, it will be 80.1 degrees and cloudy.\n",
      "At 2020-11-06 12:00 in Miami, it will be 80.4 degrees and cloudy.\n",
      "At 2020-11-06 13:00 in Miami, it will be 81.0 degrees and cloudy.\n",
      "At 2020-11-06 14:00 in Miami, it will be 81.3 degrees and cloudy.\n",
      "At 2020-11-06 15:00 in Miami, it will be 81.0 degrees and cloudy.\n",
      "At 2020-11-06 16:00 in Miami, it will be 80.8 degrees and cloudy.\n"
     ]
    }
   ],
   "source": [
    "# Run all the code above for this problem before running the two loops below, because, otherwise, this code sometimes won't return 24 hourly forecasts \n",
    "# Sometimes I got shorter results in Jupyter when I just ran the box with the two loops below\n",
    "for forecast in forecaster:\n",
    "    if forecast['time'] == current_timestamp:\n",
    "        forecast_time = forecast['time']\n",
    "        hourly_temp = forecast['temp_f']\n",
    "        cloud_cover = forecast['cloud']\n",
    "        if cloud_cover > 50:\n",
    "            print(f'At {forecast_time} in {miami_city}, it will be {hourly_temp} degrees and cloudy.')\n",
    "        else:\n",
    "            print(f'At {forecast_time} in {miami_city}, it will be {hourly_temp} degrees.')\n",
    "        if count < 23:\n",
    "            count = count + 1\n",
    "            current_timestamp = miami_data['forecast']['forecastday'][0]['hour'][count]['time']\n",
    "\n",
    "count = 0\n",
    "for forecast in forecaster_two:\n",
    "    if count < now:\n",
    "        forecast_time = forecast['time']\n",
    "        hourly_temp = forecast['temp_f']\n",
    "        cloud_cover = forecast['cloud']\n",
    "        if cloud_cover > 50:\n",
    "            print(f'At {forecast_time} in {miami_city}, it will be {hourly_temp} degrees and cloudy.')\n",
    "        else:\n",
    "            print(f'At {forecast_time} in {miami_city}, it will be {hourly_temp} degrees.')\n",
    "    count = count + 1"
   ]
  },
  {
   "cell_type": "markdown",
   "metadata": {},
   "source": [
    "# 8) For the next 24-ish hours in Miami, what percent of the time is the temperature above 85 degrees?\n",
    "\n",
    "- *Tip: You might want to read up on [looping patterns](http://jonathansoma.com/lede/foundations-2017/classes/data%20structures/looping-patterns/)*"
   ]
  },
  {
   "cell_type": "code",
   "execution_count": 225,
   "metadata": {},
   "outputs": [],
   "source": [
    "temp_counter = 0\n",
    "reg_counter = 0\n",
    "\n",
    "for forecast in forecaster:\n",
    "    if forecast['time'] == current_timestamp:\n",
    "        hourly_temp = forecast['temp_f']\n",
    "        if hourly_temp > 85:\n",
    "            temp_counter = temp_counter + 1\n",
    "        if count < 23:\n",
    "            count = count + 1\n",
    "            current_timestamp = miami_data['forecast']['forecastday'][0]['hour'][count]['time']\n",
    "    reg_counter = reg_counter + 1\n",
    "\n",
    "count = 0\n",
    "for forecast in forecaster_two:\n",
    "    if count < now:\n",
    "        hourly_temp = forecast['temp_f']\n",
    "        if hourly_temp > 85:\n",
    "            temp_counter = temp_counter + 1\n",
    "    count = count + 1\n",
    "    reg_counter = reg_counter + 1"
   ]
  },
  {
   "cell_type": "code",
   "execution_count": 227,
   "metadata": {},
   "outputs": [
    {
     "name": "stdout",
     "output_type": "stream",
     "text": [
      "For the next 24 hours in Miami, it will be above 85 degrees about 0% of the time.\n"
     ]
    }
   ],
   "source": [
    "hot_temp = round(temp_counter/reg_counter)\n",
    "print(f'For the next 24 hours in Miami, it will be above 85 degrees about {hot_temp}% of the time.')"
   ]
  },
  {
   "cell_type": "code",
   "execution_count": null,
   "metadata": {
    "collapsed": true
   },
   "outputs": [],
   "source": []
  },
  {
   "cell_type": "markdown",
   "metadata": {},
   "source": [
    "## 9) What was the temperature in Central Park on Christmas Day, 2015? How about 2012? 2007? How far back does the API allow you to go?\n",
    "\n",
    "- *Tip: You'll need to use latitude/longitude. You can ask Google, it knows*\n",
    "- *Tip: Remember when latitude/longitude might use negative numbers*"
   ]
  },
  {
   "cell_type": "code",
   "execution_count": null,
   "metadata": {
    "collapsed": true
   },
   "outputs": [],
   "source": [
    "# Hi! I can't get any historical temperature data because of our free plan. Here's the message I got:\n",
    "# {\"error\":{\"code\":1008,\"message\":\"API key is limited to get history data. Please check our pricing page and upgrade to higher plan.\"}}"
   ]
  },
  {
   "cell_type": "code",
   "execution_count": null,
   "metadata": {
    "collapsed": true
   },
   "outputs": [],
   "source": [
    "\n",
    "# If we had a paid plan, here's the link I would have used:\n",
    "# http://api.weatherapi.com/v1/history.json?key=f5b146a0ca05450aa7711748200311&dt=2020-10-10&q=40.7812,-73.9665"
   ]
  },
  {
   "cell_type": "code",
   "execution_count": 228,
   "metadata": {},
   "outputs": [],
   "source": [
    "# In other words, the free API does not let us go far back at all!\n",
    "# According to the documentation, the API will only let us go as far back as Jan. 1, 2015"
   ]
  }
 ],
 "metadata": {
  "kernelspec": {
   "display_name": "Python 3",
   "language": "python",
   "name": "python3"
  },
  "language_info": {
   "codemirror_mode": {
    "name": "ipython",
    "version": 3
   },
   "file_extension": ".py",
   "mimetype": "text/x-python",
   "name": "python",
   "nbconvert_exporter": "python",
   "pygments_lexer": "ipython3",
   "version": "3.7.1"
  }
 },
 "nbformat": 4,
 "nbformat_minor": 1
}
